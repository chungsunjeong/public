{
 "cells": [
  {
   "cell_type": "code",
   "execution_count": 1,
   "metadata": {},
   "outputs": [],
   "source": [
    "from collections import Counter\n",
    "import string\n",
    "import re\n",
    "import tensorflow as tf\n",
    "import sys\n",
    "from evaluate_copy import *\n",
    "from load_dataset import get_preprocessed_dataset, load_json_file\n",
    "from model import my_QAmodel\n",
    "from main import set_hyperparameter"
   ]
  },
  {
   "cell_type": "code",
   "execution_count": 11,
   "metadata": {},
   "outputs": [],
   "source": [
    "mode = 'dev'\n",
    "data_path = 'D:/Wisdom/git/tmp/BIDAF/data/squad/'\n",
    "version = 'small'#'v1.1'\n",
    "save_path=\"./saved_model/\"\n",
    "\n",
    "meta_model_file=save_path+'my_test_model-{2019-07-18-14-23}.ckpt.meta'\n",
    "whole_model_file=save_path+'my_test_model-{2019-07-18-14-23}.ckpt'"
   ]
  },
  {
   "cell_type": "code",
   "execution_count": 3,
   "metadata": {},
   "outputs": [
    {
     "name": "stdout",
     "output_type": "stream",
     "text": [
      "Start dataset loading\n",
      "File:D:/Wisdom/git/tmp/BIDAF/data/squad/dev-small.json\n",
      "Finish dataset loading\n"
     ]
    }
   ],
   "source": [
    "json_file = data_path + mode + '-' + version + '.json'\n",
    "print('Start dataset loading')\n",
    "print('File:' +json_file)\n",
    "data = load_json_file(json_file)\n",
    "config, full_dataset, sub_info_dataset, index_dataset, word2vec_dataset = \\\n",
    "    get_preprocessed_dataset(data, mode=mode)\n",
    "print('Finish dataset loading')"
   ]
  },
  {
   "cell_type": "code",
   "execution_count": 4,
   "metadata": {},
   "outputs": [],
   "source": [
    "d, batch_size, char_vec_dim, is_training, config= set_hyperparameter(config)"
   ]
  },
  {
   "cell_type": "code",
   "execution_count": 5,
   "metadata": {},
   "outputs": [
    {
     "name": "stdout",
     "output_type": "stream",
     "text": [
      "WARNING:tensorflow:From c:\\python\\anaconda\\envs\\tensorflow\\lib\\site-packages\\tensorflow\\python\\ops\\rnn.py:417: calling reverse_sequence (from tensorflow.python.ops.array_ops) with seq_dim is deprecated and will be removed in a future version.\n",
      "Instructions for updating:\n",
      "seq_dim is deprecated, use seq_axis instead\n",
      "WARNING:tensorflow:From c:\\python\\anaconda\\envs\\tensorflow\\lib\\site-packages\\tensorflow\\python\\util\\deprecation.py:432: calling reverse_sequence (from tensorflow.python.ops.array_ops) with batch_dim is deprecated and will be removed in a future version.\n",
      "Instructions for updating:\n",
      "batch_dim is deprecated, use batch_axis instead\n",
      "WARNING:tensorflow:From D:\\Wisdom\\git\\tmp\\BIDAF\\model.py:89: softmax_cross_entropy_with_logits (from tensorflow.python.ops.nn_ops) is deprecated and will be removed in a future version.\n",
      "Instructions for updating:\n",
      "\n",
      "Future major versions of TensorFlow will allow gradients to flow\n",
      "into the labels input on backprop by default.\n",
      "\n",
      "See @{tf.nn.softmax_cross_entropy_with_logits_v2}.\n",
      "\n"
     ]
    }
   ],
   "source": [
    "QAmodel = my_QAmodel(config=config)"
   ]
  },
  {
   "cell_type": "code",
   "execution_count": null,
   "metadata": {},
   "outputs": [
    {
     "name": "stdout",
     "output_type": "stream",
     "text": [
      "INFO:tensorflow:Restoring parameters from ./saved_model/00/my_test_model-{2019-07-18-14-23}.ckpt\n"
     ]
    }
   ],
   "source": [
    "sess=tf.Session()\n",
    "loader = tf.train.import_meta_graph(meta_model_file)\n",
    "loader.restore(sess,whole_model_file)\n"
   ]
  },
  {
   "cell_type": "code",
   "execution_count": 7,
   "metadata": {},
   "outputs": [],
   "source": []
  },
  {
   "cell_type": "code",
   "execution_count": null,
   "metadata": {},
   "outputs": [],
   "source": [
    "# print(graph)"
   ]
  }
 ],
 "metadata": {
  "kernelspec": {
   "display_name": "Python 3",
   "language": "python",
   "name": "python3"
  },
  "language_info": {
   "codemirror_mode": {
    "name": "ipython",
    "version": 3
   },
   "file_extension": ".py",
   "mimetype": "text/x-python",
   "name": "python",
   "nbconvert_exporter": "python",
   "pygments_lexer": "ipython3",
   "version": "3.5.6"
  }
 },
 "nbformat": 4,
 "nbformat_minor": 2
}
