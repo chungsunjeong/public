{
 "cells": [
  {
   "cell_type": "markdown",
   "metadata": {
    "collapsed": true
   },
   "source": [
    "# [T3] MNIST classification with softmax logistic regression"
   ]
  },
  {
   "cell_type": "code",
   "execution_count": 13,
   "metadata": {},
   "outputs": [],
   "source": [
    "import numpy as np\n",
    "import tensorflow as tf\n",
    "import matplotlib.pyplot as plt\n",
    "from load_dataset import load_MNIST\n",
    "config_tf = tf.ConfigProto()\n",
    "config_tf.gpu_options.allow_growth=True"
   ]
  },
  {
   "cell_type": "code",
   "execution_count": 2,
   "metadata": {},
   "outputs": [],
   "source": [
    "train,test,val=load_MNIST(one_hot_encoding=True,num_classes=10,load_validation=True,num_validation=5000)"
   ]
  },
  {
   "cell_type": "code",
   "execution_count": 3,
   "metadata": {},
   "outputs": [],
   "source": [
    "train_x, train_y=train\n",
    "test_x, test_y=test\n",
    "val_x, val_y=val"
   ]
  },
  {
   "cell_type": "code",
   "execution_count": 4,
   "metadata": {},
   "outputs": [
    {
     "name": "stdout",
     "output_type": "stream",
     "text": [
      "55000\n",
      "55000\n",
      "10000\n",
      "10000\n",
      "5000\n",
      "5000\n"
     ]
    }
   ],
   "source": [
    "print(len(train_x))\n",
    "print(len(train_y))\n",
    "print(len(test_x))\n",
    "print(len(test_y))\n",
    "print(len(val_x))\n",
    "print(len(val_y))"
   ]
  },
  {
   "cell_type": "code",
   "execution_count": 7,
   "metadata": {},
   "outputs": [],
   "source": [
    "feature_size=train_x.shape[1] * train_x.shape[2]\n",
    "pixel=int(np.sqrt(feature_size))"
   ]
  },
  {
   "cell_type": "code",
   "execution_count": 12,
   "metadata": {},
   "outputs": [
    {
     "name": "stderr",
     "output_type": "stream",
     "text": [
      "c:\\python\\anaconda\\envs\\tensorflow\\lib\\site-packages\\matplotlib\\figure.py:445: UserWarning: Matplotlib is currently using module://ipykernel.pylab.backend_inline, which is a non-GUI backend, so cannot show the figure.\n",
      "  % get_backend())\n"
     ]
    },
    {
     "data": {
      "image/png": "[encoded data removed]",
      "text/plain": [
       "<Figure size 720x72 with 10 Axes>"
      ]
     },
     "metadata": {
      "needs_background": "light"
     },
     "output_type": "display_data"
    }
   ],
   "source": [
    "f,a=plt.subplots(1,10,figsize=(10,1))\n",
    "for i in range(10):\n",
    "    a[i].imshow(np.reshape(test_x[i],(pixel,pixel)))\n",
    "f.show()"
   ]
  },
  {
   "cell_type": "code",
   "execution_count": 15,
   "metadata": {},
   "outputs": [],
   "source": [
    "tf.reset_default_graph()\n",
    "n_class=10\n",
    "from layer import LogisticRegression\n",
    "\n",
    "x=tf.placeholder(dtype='float32',shape=[None,feature_size],name='input_x')\n",
    "y=tf.placeholder(dtype='float32',shape=[None,n_class],name='input_y')\n",
    "weight_init=tf.truncated_normal_initializer(stddev=0.5)\n",
    "bias_init=tf.truncated_normal_initializer(stddev=0.5)\n",
    "\n",
    "logits=LogisticRegression('LR',x,n_class,weight_init,bias_init,output_type='logits')\n",
    "# W=tf.get_variable(name='W',shape=[feature_size,n_class],dtype='float32',initializer=weight_init)\n",
    "# b=tf.get_variable(name='b',shape=[n_class],dtype='float32',initializer=bias_init)\n",
    "\n",
    "# logits=tf.add(tf.matmul(x,W),b)\n",
    "# y_pred=tf.nn.softmax(logits)\n",
    "cost=tf.nn.softmax_cross_entropy_with_logits_v2(labels=y,logits=logits)\n",
    "optimizer=tf.train.AdamOptimizer(learning_rate=0.001).minimize(cost)\n",
    "accuracy=tf.reduce_mean(tf.cast(tf.equal(tf.argmax(y,1),tf.argmax(logits,1)),dtype=tf.float32))"
   ]
  },
  {
   "cell_type": "code",
   "execution_count": 12,
   "metadata": {},
   "outputs": [
    {
     "name": "stdout",
     "output_type": "stream",
     "text": [
      "[<tf.Variable 'weight_1:0' shape=(784, 10) dtype=float32_ref>, <tf.Variable 'bias_1:0' shape=(10,) dtype=float32_ref>]\n"
     ]
    }
   ],
   "source": [
    "print(tf.trainable_variables())"
   ]
  },
  {
   "cell_type": "code",
   "execution_count": 14,
   "metadata": {},
   "outputs": [
    {
     "name": "stdout",
     "output_type": "stream",
     "text": [
      "91.42000079154968%\n"
     ]
    },
    {
     "data": {
      "image/png": "[encoded data removed]",
      "text/plain": [
       "<Figure size 432x288 with 1 Axes>"
      ]
     },
     "metadata": {
      "needs_background": "light"
     },
     "output_type": "display_data"
    }
   ],
   "source": [
    "sess=tf.Session(config=config_tf)\n",
    "init=tf.global_variables_initializer()\n",
    "sess.run(init)\n",
    "training_epochs=10\n",
    "batch_size=200\n",
    "avg_cost_list=[]\n",
    "total_batch=int(mnist.train.num_examples/batch_size)\n",
    "for epoch in range(training_epochs):\n",
    "    # accuracy_list=[]\n",
    "    avg_cost=0.\n",
    "    \n",
    "    for step in range(total_batch):\n",
    "        batch_xs,batch_ys=mnist.train.next_batch(batch_size)\n",
    "        sess.run(optimizer,feed_dict={x:batch_xs,y:batch_ys})\n",
    "        avg_cost+=sess.run(cost,feed_dict={x:batch_xs,y:batch_ys})/total_batch\n",
    "    avg_cost_list.append(avg_cost)\n",
    "plt.plot(range(training_epochs),avg_cost_list)\n",
    "# show training accuracy as iteraction in one epoch\n",
    "#         accuracy_list.append(sess.run(accuracy_train,feed_dict={x:batch_xs,y_:batch_ys}))\n",
    "# itr=range(total_batch)\n",
    "# acc=accuracy_list\n",
    "# plt.plot(itr,acc)\n",
    "# plt.xlabel('iteraction')\n",
    "# plt.ylabel('training accuracy')\n",
    "# plt.show()\n",
    "# correct_prediction=tf.equal(tf.argmax(y,1),tf.argmax(y_,1))\n",
    "# accuracy=tf.reduce_mean(tf.cast(correct_prediction,dtype='float32'))\n",
    "ac=sess.run(accuracy,feed_dict={x:mnist.test.images, y:mnist.test.labels})\n",
    "print(str(ac*100)+'%')\n",
    "sess.close()"
   ]
  }
 ],
 "metadata": {
  "kernelspec": {
   "display_name": "Python 3",
   "language": "python",
   "name": "python3"
  },
  "language_info": {
   "codemirror_mode": {
    "name": "ipython",
    "version": 3
   },
   "file_extension": ".py",
   "mimetype": "text/x-python",
   "name": "python",
   "nbconvert_exporter": "python",
   "pygments_lexer": "ipython3",
   "version": "3.5.6"
  }
 },
 "nbformat": 4,
 "nbformat_minor": 2
}
