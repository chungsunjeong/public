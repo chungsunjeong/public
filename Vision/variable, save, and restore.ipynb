{
 "cells": [
  {
   "cell_type": "code",
   "execution_count": 1,
   "metadata": {},
   "outputs": [],
   "source": [
    "import numpy as np\n",
    "import tensorflow as tf\n",
    "import matplotlib.pyplot as plt\n",
    "from tensorflow.examples.tutorials.mnist import input_data"
   ]
  },
  {
   "cell_type": "code",
   "execution_count": 28,
   "metadata": {},
   "outputs": [
    {
     "name": "stdout",
     "output_type": "stream",
     "text": [
      "<tf.Variable 'Variable_19:0' shape=() dtype=float32_ref>\n",
      "2.0\n",
      "5.0\n"
     ]
    }
   ],
   "source": [
    "x=tf.Variable(2.)\n",
    "y=tf.Variable(x.initialized_value()+3.)\n",
    "print(x)\n",
    "init=tf.global_variables_initializer()\n",
    "sess= tf.Session()\n",
    "sess.run(init)\n",
    "print(sess.run(x))\n",
    "print(sess.run(y))\n",
    "sess.close()"
   ]
  },
  {
   "cell_type": "code",
   "execution_count": 32,
   "metadata": {},
   "outputs": [
    {
     "name": "stdout",
     "output_type": "stream",
     "text": [
      "[[-0.14025614  0.04376408  0.18988013 ... -0.17712922 -0.42585528\n",
      "   0.44010812]\n",
      " [ 0.01574274  0.14469273 -0.26884836 ... -0.76281554 -0.21140543\n",
      "  -0.39140853]\n",
      " [ 0.05313073 -0.2635982  -0.00468095 ... -0.66525173 -0.18226872\n",
      "  -0.1152504 ]\n",
      " ...\n",
      " [ 0.37607616  0.14300135 -0.7089504  ... -0.02461854  0.41150895\n",
      "  -0.46361056]\n",
      " [-0.17524214  0.62494314 -0.66740364 ... -0.3519176  -0.11494869\n",
      "   0.35009918]\n",
      " [-0.47768554  0.1527609   0.16793871 ... -0.21367788  0.00151488\n",
      "   0.2755428 ]]\n",
      "[[2.8597438 3.043764  3.1898801 ... 2.8228707 2.5741448 3.440108 ]\n",
      " [3.0157428 3.1446927 2.7311516 ... 2.2371845 2.7885945 2.6085916]\n",
      " [3.0531306 2.7364018 2.9953191 ... 2.3347483 2.8177314 2.8847497]\n",
      " ...\n",
      " [3.3760762 3.1430013 2.2910495 ... 2.9753814 3.411509  2.5363894]\n",
      " [2.8247578 3.6249433 2.3325963 ... 2.6480825 2.8850513 3.350099 ]\n",
      " [2.5223145 3.152761  3.1679387 ... 2.786322  3.001515  3.2755427]]\n",
      "(784, 100)\n"
     ]
    }
   ],
   "source": [
    "w1=tf.Variable(tf.random_normal([784,100],stddev=0.35))\n",
    "w2=tf.Variable(w1.initialized_value()+3.)\n",
    "init=tf.global_variables_initializer()\n",
    "sess=tf.Session()\n",
    "sess.run(init)\n",
    "print(sess.run(w1))\n",
    "print(sess.run(w2))\n",
    "print(w2.get_shape())"
   ]
  },
  {
   "cell_type": "code",
   "execution_count": 33,
   "metadata": {},
   "outputs": [
    {
     "name": "stdout",
     "output_type": "stream",
     "text": [
      "INFO:tensorflow:Restoring parameters from ./tmp\\test.ckpt\n",
      "[[-0.14025614  0.04376408  0.18988013 ... -0.17712922 -0.42585528\n",
      "   0.44010812]\n",
      " [ 0.01574274  0.14469273 -0.26884836 ... -0.76281554 -0.21140543\n",
      "  -0.39140853]\n",
      " [ 0.05313073 -0.2635982  -0.00468095 ... -0.66525173 -0.18226872\n",
      "  -0.1152504 ]\n",
      " ...\n",
      " [ 0.37607616  0.14300135 -0.7089504  ... -0.02461854  0.41150895\n",
      "  -0.46361056]\n",
      " [-0.17524214  0.62494314 -0.66740364 ... -0.3519176  -0.11494869\n",
      "   0.35009918]\n",
      " [-0.47768554  0.1527609   0.16793871 ... -0.21367788  0.00151488\n",
      "   0.2755428 ]]\n",
      "[[2.8597438 3.043764  3.1898801 ... 2.8228707 2.5741448 3.440108 ]\n",
      " [3.0157428 3.1446927 2.7311516 ... 2.2371845 2.7885945 2.6085916]\n",
      " [3.0531306 2.7364018 2.9953191 ... 2.3347483 2.8177314 2.8847497]\n",
      " ...\n",
      " [3.3760762 3.1430013 2.2910495 ... 2.9753814 3.411509  2.5363894]\n",
      " [2.8247578 3.6249433 2.3325963 ... 2.6480825 2.8850513 3.350099 ]\n",
      " [2.5223145 3.152761  3.1679387 ... 2.786322  3.001515  3.2755427]]\n"
     ]
    }
   ],
   "source": [
    "saver=tf.train.Saver()\n",
    "# saver=tf.train.Saver(max_to_keep=4, keep_checkpoint_every_n_hours=2)\n",
    "# 최근 2시간동안 4개의 모델만 저장한다.\n",
    "\n",
    "save_path='./tmp/test.ckpt'\n",
    "saver.save(sess,save_path)\n",
    "# saver.save(sess, save_path, global_step=1000) \n",
    "# 1000 반복 마다 model 저장\n",
    "\n",
    "# saver.save(sess, save_path, global_step=step,write_meta_graph=False) \n",
    "# 모델 값만 저장하고 graph 는 저장안함\n",
    "tf.reset_default_graph()\n",
    "load_path=save_path+'.meta'\n",
    "saver=tf.train.import_meta_graph(load_path)\n",
    "saver.restore(sess,tf.train.latest_checkpoint('./tmp'))\n",
    "print(sess.run(w1))\n",
    "print(sess.run(w2))\n",
    "sess.close()"
   ]
  },
  {
   "cell_type": "code",
   "execution_count": 43,
   "metadata": {},
   "outputs": [
    {
     "name": "stdout",
     "output_type": "stream",
     "text": [
      "12.0\n"
     ]
    }
   ],
   "source": [
    "tf.reset_default_graph()\n",
    "w1=tf.placeholder(tf.float32, name='w1')\n",
    "w2=tf.placeholder(tf.float32, name='w2')\n",
    "b=tf.Variable(2.,dtype=tf.float32,name='bias')\n",
    "feed_dict={'w1': 2., 'w2': 4.}\n",
    "\n",
    "w3=w1+w2\n",
    "w4=tf.multiply(w3,b, name='w4')\n",
    "sess=tf.Session()\n",
    "init=tf.global_variables_initializer()\n",
    "sess.run(init)\n",
    "saver=tf.train.Saver()\n",
    "result=sess.run(w4,feed_dict={w1:feed_dict['w1'],w2:feed_dict['w2']})\n",
    "print(result)\n",
    "saver.save(sess,'./tmp/test',global_step=1000)\n",
    "sess.close()"
   ]
  },
  {
   "cell_type": "code",
   "execution_count": 46,
   "metadata": {},
   "outputs": [
    {
     "name": "stdout",
     "output_type": "stream",
     "text": [
      "INFO:tensorflow:Restoring parameters from ./tmp\\test-1000\n",
      "60.0\n"
     ]
    }
   ],
   "source": [
    "tf.reset_default_graph()\n",
    "sess=tf.Session()\n",
    "saver=tf.train.import_meta_graph('./tmp/test-1000.meta')\n",
    "saver.restore(sess,tf.train.latest_checkpoint('./tmp'))\n",
    "\n",
    "graph=tf.get_default_graph()\n",
    "w1 = graph.get_tensor_by_name(\"w1:0\")\n",
    "w2 = graph.get_tensor_by_name(\"w2:0\")\n",
    "feed_dict = {w1:13.0, w2:17.0}\n",
    "w4 = graph.get_tensor_by_name(\"w4:0\")\n",
    "print (sess.run(w4,feed_dict))\n",
    "sess.close()"
   ]
  }
 ],
 "metadata": {
  "kernelspec": {
   "display_name": "Python 3",
   "language": "python",
   "name": "python3"
  },
  "language_info": {
   "codemirror_mode": {
    "name": "ipython",
    "version": 3
   },
   "file_extension": ".py",
   "mimetype": "text/x-python",
   "name": "python",
   "nbconvert_exporter": "python",
   "pygments_lexer": "ipython3",
   "version": "3.5.6"
  }
 },
 "nbformat": 4,
 "nbformat_minor": 2
}
