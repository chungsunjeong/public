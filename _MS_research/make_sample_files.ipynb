{
 "cells": [
  {
   "cell_type": "code",
   "execution_count": 1,
   "metadata": {},
   "outputs": [],
   "source": [
    "import os\n",
    "import time\n",
    "import tensorflow as tf\n",
    "from tensorflow.keras.callbacks import ModelCheckpoint, EarlyStopping, Callback\n",
    "import matplotlib.pyplot as plt\n",
    "from model import tf_models\n",
    "from module_DTI import my_dataset, load_data\n",
    "from module_DTI import handle_sample\n",
    "import collections\n",
    "import pandas as pd\n",
    "import random\n",
    "import numpy as np"
   ]
  },
  {
   "cell_type": "markdown",
   "metadata": {},
   "source": [
    "# DTI data load"
   ]
  },
  {
   "cell_type": "markdown",
   "metadata": {},
   "source": [
    "sampling 파일들을 생성하기 위해선 무조건 load 해야함"
   ]
  },
  {
   "cell_type": "code",
   "execution_count": 2,
   "metadata": {},
   "outputs": [
    {
     "name": "stdout",
     "output_type": "stream",
     "text": [
      "# of drug: 3645\n",
      "# of target: 1643\n",
      "\n",
      "# of drugs: 4170\n",
      "# of features of a drug: 190\n",
      "\n",
      "# of targets: 2103\n",
      "# of features of a target: 1437\n",
      "\n",
      "# of drug-target interactions: 9592\n",
      "\n"
     ]
    }
   ],
   "source": [
    "'''Data Loading'''\n",
    "dict_directories = {'dir_ROOT': 'D:/Wisdom/workspace_python/research/dataset/final', }\n",
    "dict_directories.update({\n",
    "    'DTI_adjmat': dict_directories['dir_ROOT'] + '/drug-target_mat.tsv',\n",
    "    'drug': dict_directories['dir_ROOT'] + '/drug_descriptor.tsv',\n",
    "    'target': dict_directories['dir_ROOT'] + '/protein_descriptor.tsv'\n",
    "})\n",
    "config_Dataset = {\n",
    "    'dict_directories': dict_directories,\n",
    "    'neg_to_pos_ratio': 1,\n",
    "    'split_ratio': 0.8\n",
    "}\n",
    "config = collections.namedtuple('config', ['Dataset'])\n",
    "config.Dataset = config_Dataset\n",
    "\n",
    "DTI = my_dataset.DTI_Dataset(config_Dataset['dict_directories'])\n",
    "DTI.load_data()\n"
   ]
  },
  {
   "cell_type": "markdown",
   "metadata": {},
   "source": [
    "# pos / neg sampling"
   ]
  },
  {
   "cell_type": "markdown",
   "metadata": {},
   "source": [
    "load_pos_neg_samples에서 neg_to_pos_ratio가 맞으며 해당하는 (dict_directories 폴더 내의) filename 의 sample 파일을 load 한다. "
   ]
  },
  {
   "cell_type": "markdown",
   "metadata": {},
   "source": [
    "해당 파일명의 파일이 없을시, sampling 파일을 만든다. "
   ]
  },
  {
   "cell_type": "code",
   "execution_count": 7,
   "metadata": {},
   "outputs": [
    {
     "name": "stdout",
     "output_type": "stream",
     "text": [
      "Load existing positive sample file.\n",
      "# of positive samples: 9592\n",
      "# of features of a positive sample: 1627\n",
      "\n",
      "Construct new negative sample file.\n",
      "New negative samples file are written as 'D:/Wisdom/workspace_python/research/dataset/final/sample/neg_sample_0.txt'\n",
      "# of constructed negative samples: 9592\n",
      "# of features in constructed negative sample: 1627\n"
     ]
    }
   ],
   "source": [
    "DTI.load_pos_neg_samples(neg_to_pos_ratio=1,pos_filename='pos_sample.txt',neg_filename='neg_sample_0.txt')"
   ]
  },
  {
   "cell_type": "markdown",
   "metadata": {},
   "source": [
    "# unlabel sampling "
   ]
  },
  {
   "cell_type": "markdown",
   "metadata": {},
   "source": [
    "unlabel sample 파일을 만든다. n은 label sample 개수에 비해 몇 배 많은지 나타내는 parameter"
   ]
  },
  {
   "cell_type": "code",
   "execution_count": null,
   "metadata": {},
   "outputs": [
    {
     "name": "stdout",
     "output_type": "stream",
     "text": [
      "Load existing positive & negative sample files.\n",
      "# of positive samples: 9592\n",
      "# of features of a positive sample: 1627\n",
      "\n",
      "# of negative samples: 9592\n",
      "# of features of a negative sample: 1627\n",
      "\n",
      "Split train & test set from samples.\n",
      "Your split ratio (train/total): 0.9\n",
      "# of drugs: 4170\n",
      "# of features of a drug: 190\n",
      "\n",
      "# of targets: 2103\n",
      "# of features of a target: 1437\n",
      "\n"
     ]
    }
   ],
   "source": [
    "DTI.load_pos_neg_samples(config.Dataset['neg_to_pos_ratio'],pos_filename='pos_sample.txt',\n",
    "                         neg_filename='neg_sample_6.txt')\n",
    "DTI.split_train_test_set(config.Dataset['split_ratio'])\n",
    "n_train = DTI.train.data.shape[0]\n",
    "n_test = DTI.test.data.shape[0]\n",
    "n=1\n",
    "filename=str(config.Dataset['dict_directories']['dir_ROOT'])+'/unlabel/'+str(n)+'times'\n",
    "exists = os.path.isfile(filename+'.npy')\n",
    "if exists==True:\n",
    "    print('There already exist '+ filename+'.npy')\n",
    "else:\n",
    "    DP=my_dataset.descriptor_dataset(dict_directories=dict_directories,descriptor_type='pair')\n",
    "    unlabeled_data=DP.next_batch_pair(n_train*n)\n",
    "    np.save(filename,unlabeled_data)\n"
   ]
  }
 ],
 "metadata": {
  "kernelspec": {
   "display_name": "Python 3",
   "language": "python",
   "name": "python3"
  },
  "language_info": {
   "codemirror_mode": {
    "name": "ipython",
    "version": 3
   },
   "file_extension": ".py",
   "mimetype": "text/x-python",
   "name": "python",
   "nbconvert_exporter": "python",
   "pygments_lexer": "ipython3",
   "version": "3.5.6"
  }
 },
 "nbformat": 4,
 "nbformat_minor": 2
}
