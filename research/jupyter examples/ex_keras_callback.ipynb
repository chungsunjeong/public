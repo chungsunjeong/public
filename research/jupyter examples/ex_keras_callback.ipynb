{
 "cells": [
  {
   "cell_type": "code",
   "execution_count": 36,
   "metadata": {},
   "outputs": [],
   "source": [
    "import matplotlib.pyplot as plt\n",
    "import tensorflow as tf\n",
    "from module_DTI.DTI import DTI\n",
    "from tensorflow.keras.callbacks import ModelCheckpoint, EarlyStopping, Callback\n",
    "from sklearn.metrics import auc, roc_curve, roc_auc_score\n",
    "import os\n",
    "import matplotlib.pyplot as plt"
   ]
  },
  {
   "cell_type": "code",
   "execution_count": 37,
   "metadata": {},
   "outputs": [
    {
     "name": "stderr",
     "output_type": "stream",
     "text": [
      "D:\\Wisdom\\workspace_python\\research\\module_DTI\\load_data.py:11: FutureWarning: read_table is deprecated, use read_csv instead, passing sep='\\t'.\n",
      "  mat=pd.read_table(dir, delim_whitespace=True)\n"
     ]
    },
    {
     "name": "stdout",
     "output_type": "stream",
     "text": [
      "# of drug: 1862\n",
      "# of target: 1554\n",
      "\n"
     ]
    },
    {
     "name": "stderr",
     "output_type": "stream",
     "text": [
      "D:\\Wisdom\\workspace_python\\research\\module_DTI\\load_data.py:4: FutureWarning: read_table is deprecated, use read_csv instead, passing sep='\\t'.\n",
      "  mat = pd.read_table(dir, delim_whitespace=True)\n"
     ]
    },
    {
     "name": "stdout",
     "output_type": "stream",
     "text": [
      "# of drugs: 1862\n",
      "# of features of a drug: 881\n",
      "\n",
      "# of targets: 1554\n",
      "# of features of a target: 876\n",
      "\n",
      "# of drug-target interactions: 4809\n",
      "\n",
      "Load existing positive & negative sample files.\n",
      "# of positive samples: 4809\n",
      "# of features of a positive sample: 1757\n",
      "\n",
      "# of negative samples: 4809\n",
      "# of features of a negative sample: 1757\n",
      "\n"
     ]
    }
   ],
   "source": [
    "dict_directories = {'dir_ROOT': 'C:\\\\Users\\\\csjeong\\\\Desktop\\\\research\\\\dataset\\\\conv_DTI\\\\2012, Tabei', }\n",
    "dict_directories.update({\n",
    "    'DTI_adjmat' : dict_directories['dir_ROOT'] + '\\\\inter_admat.txt',\n",
    "    'drug' : dict_directories['dir_ROOT'] + '\\\\drug_repmat.txt',\n",
    "    'target' : dict_directories['dir_ROOT']+ '\\\\target_repmat.txt'\n",
    "})\n",
    "DTI=DTI(dict_directories)\n",
    "DTI.load_data()\n",
    "DTI.load_pos_neg_samples(neg_to_pos_ratio=1)\n",
    "DTI.split_train_test_set(split_ratio=0.9)\n"
   ]
  },
  {
   "cell_type": "code",
   "execution_count": 38,
   "metadata": {},
   "outputs": [],
   "source": [
    "config = tf.ConfigProto(log_device_placement=True)\n",
    "lr = 0.01\n",
    "n_class = 2\n",
    "feature_size=DTI.train.data.shape[1]\n",
    "n_train=DTI.train.data.shape[0]\n",
    "n_test=DTI.test.data.shape[0]\n",
    "batch_size = 1000\n",
    "training_iteration = 100\n"
   ]
  },
  {
   "cell_type": "code",
   "execution_count": 5,
   "metadata": {},
   "outputs": [],
   "source": [
    "def my_model2():\n",
    "    model = tf.keras.Sequential()\n",
    "    model.add(tf.keras.layers.Dense(2,activation='softmax'))\n",
    "    model.compile(loss=tf.keras.losses.categorical_crossentropy,optimizer=tf.keras.optimizers.Adam(),\n",
    "                 metrics=['accuracy'])\n",
    "    return model"
   ]
  },
  {
   "cell_type": "code",
   "execution_count": 39,
   "metadata": {},
   "outputs": [],
   "source": [
    "train_x,train_y=DTI.train.next_batch(batch_size=n_train,pos_neg_label=DTI.pos_neg_label)\n",
    "test_x, test_y = DTI.test.next_batch(DTI.test.data.shape[0], DTI.pos_neg_label,one_hot_encoding=True)\n",
    "# m=my_model2()\n",
    "# m.fit(x=train_x,y=train_y,batch_size=100,epochs=40,verbose=1,validation_split=0.1,\n",
    "#              shuffle=True)\n",
    "# predictions=m.predict_classes(test_x,verbose=1)\n",
    "# print(sum(predictions==test_y)/len(test_y)*100)"
   ]
  },
  {
   "cell_type": "code",
   "execution_count": 40,
   "metadata": {},
   "outputs": [],
   "source": [
    "def my_model(feature_size):\n",
    "    inputs=tf.keras.Input(shape=(feature_size,))\n",
    "    outputs=tf.keras.layers.Dense(2,activation=tf.nn.softmax)(inputs)\n",
    "    model=tf.keras.Model(inputs=inputs,outputs=outputs)\n",
    "    model.compile(loss=tf.keras.losses.categorical_crossentropy,optimizer=tf.keras.optimizers.Adam(),\n",
    "                 metrics=['accuracy'])\n",
    "    return model"
   ]
  },
  {
   "cell_type": "code",
   "execution_count": 6,
   "metadata": {
    "scrolled": true
   },
   "outputs": [
    {
     "name": "stdout",
     "output_type": "stream",
     "text": [
      "Train on 7790 samples, validate on 866 samples\n",
      "Epoch 1/40\n",
      "7790/7790 [==============================] - 1s 152us/step - loss: 0.6846 - acc: 0.5588 - val_loss: 0.6705 - val_acc: 0.5855\n",
      "Epoch 2/40\n",
      "7790/7790 [==============================] - 1s 68us/step - loss: 0.6515 - acc: 0.6204 - val_loss: 0.6558 - val_acc: 0.6166\n",
      "Epoch 3/40\n",
      "7790/7790 [==============================] - 1s 70us/step - loss: 0.6349 - acc: 0.6498 - val_loss: 0.6472 - val_acc: 0.6328\n",
      "Epoch 4/40\n",
      "7790/7790 [==============================] - 1s 90us/step - loss: 0.6180 - acc: 0.6820 - val_loss: 0.6373 - val_acc: 0.6305\n",
      "Epoch 5/40\n",
      "7790/7790 [==============================] - 1s 71us/step - loss: 0.6072 - acc: 0.6847 - val_loss: 0.6457 - val_acc: 0.6339\n",
      "Epoch 6/40\n",
      "7790/7790 [==============================] - 0s 55us/step - loss: 0.5965 - acc: 0.7014 - val_loss: 0.6258 - val_acc: 0.6501\n",
      "Epoch 7/40\n",
      "7790/7790 [==============================] - 1s 69us/step - loss: 0.5883 - acc: 0.7127 - val_loss: 0.6229 - val_acc: 0.6467\n",
      "Epoch 8/40\n",
      "7790/7790 [==============================] - 1s 84us/step - loss: 0.5797 - acc: 0.7158 - val_loss: 0.6200 - val_acc: 0.6628\n",
      "Epoch 9/40\n",
      "7790/7790 [==============================] - 1s 65us/step - loss: 0.5740 - acc: 0.7213 - val_loss: 0.6199 - val_acc: 0.6594\n",
      "Epoch 10/40\n",
      "7790/7790 [==============================] - 1s 86us/step - loss: 0.5679 - acc: 0.7275 - val_loss: 0.6145 - val_acc: 0.6674\n",
      "Epoch 11/40\n",
      "7790/7790 [==============================] - 1s 127us/step - loss: 0.5615 - acc: 0.7361 - val_loss: 0.6143 - val_acc: 0.6594\n",
      "Epoch 12/40\n",
      "7790/7790 [==============================] - 1s 68us/step - loss: 0.5567 - acc: 0.7327 - val_loss: 0.6086 - val_acc: 0.6686\n",
      "Epoch 13/40\n",
      "7790/7790 [==============================] - 1s 77us/step - loss: 0.5516 - acc: 0.7447 - val_loss: 0.6106 - val_acc: 0.6674\n",
      "Epoch 14/40\n",
      "7790/7790 [==============================] - 1s 78us/step - loss: 0.5482 - acc: 0.7392 - val_loss: 0.6147 - val_acc: 0.6686\n",
      "Epoch 15/40\n",
      "7790/7790 [==============================] - 1s 85us/step - loss: 0.5452 - acc: 0.7438 - val_loss: 0.6046 - val_acc: 0.6709\n",
      "Epoch 16/40\n",
      "7790/7790 [==============================] - 1s 75us/step - loss: 0.5412 - acc: 0.7493 - val_loss: 0.6046 - val_acc: 0.6709\n",
      "Epoch 17/40\n",
      "7790/7790 [==============================] - 1s 83us/step - loss: 0.5388 - acc: 0.7496 - val_loss: 0.6065 - val_acc: 0.6778\n",
      "Epoch 18/40\n",
      "7790/7790 [==============================] - 1s 75us/step - loss: 0.5352 - acc: 0.7496 - val_loss: 0.6110 - val_acc: 0.6732\n",
      "Epoch 19/40\n",
      "7790/7790 [==============================] - 1s 89us/step - loss: 0.5329 - acc: 0.7544 - val_loss: 0.6070 - val_acc: 0.6824\n",
      "Epoch 20/40\n",
      "7790/7790 [==============================] - 1s 74us/step - loss: 0.5302 - acc: 0.7544 - val_loss: 0.6031 - val_acc: 0.6744\n",
      "Epoch 21/40\n",
      "7790/7790 [==============================] - 1s 70us/step - loss: 0.5277 - acc: 0.7551 - val_loss: 0.6079 - val_acc: 0.6767\n",
      "Epoch 22/40\n",
      "7790/7790 [==============================] - 0s 57us/step - loss: 0.5249 - acc: 0.7588 - val_loss: 0.6066 - val_acc: 0.6848\n",
      "Epoch 23/40\n",
      "7790/7790 [==============================] - 1s 82us/step - loss: 0.5241 - acc: 0.7615 - val_loss: 0.6051 - val_acc: 0.6801\n",
      "Epoch 24/40\n",
      "7790/7790 [==============================] - 1s 79us/step - loss: 0.5209 - acc: 0.7607 - val_loss: 0.6053 - val_acc: 0.6836\n",
      "Epoch 25/40\n",
      "7790/7790 [==============================] - 1s 80us/step - loss: 0.5194 - acc: 0.7634 - val_loss: 0.6065 - val_acc: 0.6813\n",
      "Epoch 26/40\n",
      "7790/7790 [==============================] - 1s 74us/step - loss: 0.5180 - acc: 0.7637 - val_loss: 0.6020 - val_acc: 0.6824\n",
      "Epoch 27/40\n",
      "7790/7790 [==============================] - 1s 91us/step - loss: 0.5186 - acc: 0.7653 - val_loss: 0.6066 - val_acc: 0.6940\n",
      "Epoch 28/40\n",
      "7790/7790 [==============================] - 1s 91us/step - loss: 0.5158 - acc: 0.7660 - val_loss: 0.6071 - val_acc: 0.6859\n",
      "Epoch 29/40\n",
      "7790/7790 [==============================] - 1s 89us/step - loss: 0.5134 - acc: 0.7680 - val_loss: 0.6066 - val_acc: 0.6882\n",
      "Epoch 30/40\n",
      "7790/7790 [==============================] - 1s 94us/step - loss: 0.5116 - acc: 0.7683 - val_loss: 0.6067 - val_acc: 0.6836\n",
      "Epoch 31/40\n",
      "7790/7790 [==============================] - 1s 82us/step - loss: 0.5105 - acc: 0.7714 - val_loss: 0.6063 - val_acc: 0.6917\n",
      "Epoch 32/40\n",
      "7790/7790 [==============================] - 1s 79us/step - loss: 0.5097 - acc: 0.7720 - val_loss: 0.6040 - val_acc: 0.6871\n",
      "Epoch 33/40\n",
      "7790/7790 [==============================] - 1s 73us/step - loss: 0.5087 - acc: 0.7705 - val_loss: 0.6218 - val_acc: 0.6871\n",
      "Epoch 34/40\n",
      "7790/7790 [==============================] - 1s 98us/step - loss: 0.5074 - acc: 0.7702 - val_loss: 0.6084 - val_acc: 0.6963\n",
      "Epoch 35/40\n",
      "7790/7790 [==============================] - 1s 72us/step - loss: 0.5071 - acc: 0.7694 - val_loss: 0.6094 - val_acc: 0.6859\n",
      "Epoch 36/40\n",
      "7790/7790 [==============================] - 1s 81us/step - loss: 0.5049 - acc: 0.7739 - val_loss: 0.6083 - val_acc: 0.6917\n",
      "Epoch 37/40\n",
      "7790/7790 [==============================] - 1s 84us/step - loss: 0.5039 - acc: 0.7750 - val_loss: 0.6074 - val_acc: 0.6952\n",
      "Epoch 38/40\n",
      "7790/7790 [==============================] - 1s 88us/step - loss: 0.5032 - acc: 0.7737 - val_loss: 0.6071 - val_acc: 0.6940\n",
      "Epoch 39/40\n",
      "7790/7790 [==============================] - 1s 88us/step - loss: 0.5043 - acc: 0.7712 - val_loss: 0.6069 - val_acc: 0.6952\n",
      "Epoch 40/40\n",
      "7790/7790 [==============================] - 1s 73us/step - loss: 0.5014 - acc: 0.7725 - val_loss: 0.6149 - val_acc: 0.6928\n"
     ]
    },
    {
     "data": {
      "text/plain": [
       "<tensorflow.python.keras.callbacks.History at 0x2392f2bdda0>"
      ]
     },
     "execution_count": 6,
     "metadata": {},
     "output_type": "execute_result"
    }
   ],
   "source": [
    "m=my_model(feature_size)\n",
    "print(train_x.shape)\n",
    "m.fit(x=train_x,y=train_y,batch_size=100,epochs=40,verbose=1,validation_split=0.1,shuffle=True)\n",
    "m.summary()\n",
    "print(feature_size)"
   ]
  },
  {
   "cell_type": "code",
   "execution_count": 8,
   "metadata": {},
   "outputs": [],
   "source": [
    "checkpoint_path=\"training_1/cop,.ckpt\"\n",
    "checkpoint_dir=os.path.dirname(checkpoint_path)\n",
    "checkpoint = ModelCheckpoint(filepath=checkpoint_path,monitor='val_acc',verbose=1,save_weights_only=True)\n",
    "m=my_model(feature_size)\n",
    "m.fit(x=train_x,y=train_y,batch_size=100,epochs=10,verbose=1,\n",
    "          callbacks=[checkpoint],validation_split=0.1,\n",
    "         shuffle=True)"
   ]
  },
  {
   "cell_type": "code",
   "execution_count": 10,
   "metadata": {},
   "outputs": [
    {
     "name": "stdout",
     "output_type": "stream",
     "text": [
      "962/962 [==============================] - 0s 270us/step\n",
      "loss of not trained model: 0.706\n",
      "Acc. of not trained model: 51.455 %\n"
     ]
    }
   ],
   "source": [
    "m2=my_model(feature_size)\n",
    "loss,acc=m2.evaluate(test_x,test_y)\n",
    "print('loss of not trained model: %.3f' %(loss) )\n",
    "print('Acc. of not trained model: %.3f %%' %(acc*100) )\n",
    "m2.load_weights(checkpoint_path)\n",
    "loss,acc=m2.evaluate(test_x,test_y)\n",
    "print('loss of restored model: %.3f' %(loss) )\n",
    "print('Acc. of restored model: %.3f %%' %(acc*100) )"
   ]
  },
  {
   "cell_type": "code",
   "execution_count": 18,
   "metadata": {},
   "outputs": [
    {
     "name": "stdout",
     "output_type": "stream",
     "text": [
      "WARNING:tensorflow:This model was compiled with a Keras optimizer (<tensorflow.python.keras.optimizers.Adam object at 0x0000023950612748>) but is being saved in TensorFlow format with `save_weights`. The model's weights will be saved, but unlike with TensorFlow optimizers in the TensorFlow format the optimizer's state will not be saved.\n",
      "\n",
      "Consider using a TensorFlow optimizer from `tf.train`.\n",
      "\n",
      "Epoch 00005: saving model to training_2/cp-0005.ckpt\n",
      "WARNING:tensorflow:This model was compiled with a Keras optimizer (<tensorflow.python.keras.optimizers.Adam object at 0x0000023950612748>) but is being saved in TensorFlow format with `save_weights`. The model's weights will be saved, but unlike with TensorFlow optimizers in the TensorFlow format the optimizer's state will not be saved.\n",
      "\n",
      "Consider using a TensorFlow optimizer from `tf.train`.\n",
      "\n",
      "Epoch 00010: saving model to training_2/cp-0010.ckpt\n",
      "WARNING:tensorflow:This model was compiled with a Keras optimizer (<tensorflow.python.keras.optimizers.Adam object at 0x0000023950612748>) but is being saved in TensorFlow format with `save_weights`. The model's weights will be saved, but unlike with TensorFlow optimizers in the TensorFlow format the optimizer's state will not be saved.\n",
      "\n",
      "Consider using a TensorFlow optimizer from `tf.train`.\n",
      "\n",
      "Epoch 00015: saving model to training_2/cp-0015.ckpt\n",
      "WARNING:tensorflow:This model was compiled with a Keras optimizer (<tensorflow.python.keras.optimizers.Adam object at 0x0000023950612748>) but is being saved in TensorFlow format with `save_weights`. The model's weights will be saved, but unlike with TensorFlow optimizers in the TensorFlow format the optimizer's state will not be saved.\n",
      "\n",
      "Consider using a TensorFlow optimizer from `tf.train`.\n",
      "\n",
      "Epoch 00020: saving model to training_2/cp-0020.ckpt\n",
      "WARNING:tensorflow:This model was compiled with a Keras optimizer (<tensorflow.python.keras.optimizers.Adam object at 0x0000023950612748>) but is being saved in TensorFlow format with `save_weights`. The model's weights will be saved, but unlike with TensorFlow optimizers in the TensorFlow format the optimizer's state will not be saved.\n",
      "\n",
      "Consider using a TensorFlow optimizer from `tf.train`.\n"
     ]
    },
    {
     "data": {
      "text/plain": [
       "<tensorflow.python.keras.callbacks.History at 0x239505eecc0>"
      ]
     },
     "execution_count": 18,
     "metadata": {},
     "output_type": "execute_result"
    }
   ],
   "source": [
    "m3=my_model(feature_size)\n",
    "checkpoint_path=\"training_2/cp-{epoch:04d}.ckpt\"\n",
    "checkpoint_dir=os.path.dirname(checkpoint_path)\n",
    "checkpoint = ModelCheckpoint(filepath=checkpoint_path,verbose=1,save_weights_only=True,period=5)\n",
    "m3.save_weights(checkpoint_path.format(epoch=0))\n",
    "m3.fit(x=train_x,y=train_y,batch_size=100,epochs=20,verbose=0,\n",
    "          callbacks=[checkpoint],validation_split=0.1,\n",
    "         shuffle=True)"
   ]
  },
  {
   "cell_type": "code",
   "execution_count": 19,
   "metadata": {},
   "outputs": [
    {
     "name": "stdout",
     "output_type": "stream",
     "text": [
      "checkpoint\n",
      "cp-0000.ckpt.data-00000-of-00001\n",
      "cp-0000.ckpt.index\n",
      "cp-0005.ckpt.data-00000-of-00001\n",
      "cp-0005.ckpt.index\n",
      "cp-0010.ckpt.data-00000-of-00001\n",
      "cp-0010.ckpt.index\n",
      "cp-0015.ckpt.data-00000-of-00001\n",
      "cp-0015.ckpt.index\n",
      "cp-0020.ckpt.data-00000-of-00001\n",
      "cp-0020.ckpt.index\n"
     ]
    }
   ],
   "source": [
    "! ls {checkpoint_dir}"
   ]
  },
  {
   "cell_type": "code",
   "execution_count": 20,
   "metadata": {},
   "outputs": [
    {
     "data": {
      "text/plain": [
       "'training_2\\\\cp-0020.ckpt'"
      ]
     },
     "execution_count": 20,
     "metadata": {},
     "output_type": "execute_result"
    }
   ],
   "source": [
    "latest=tf.train.latest_checkpoint(checkpoint_dir)\n",
    "latest"
   ]
  },
  {
   "cell_type": "code",
   "execution_count": 21,
   "metadata": {},
   "outputs": [
    {
     "name": "stdout",
     "output_type": "stream",
     "text": [
      "962/962 [==============================] - 0s 427us/step\n",
      "loss of restored model: 0.583\n",
      "Acc. of restored model: 71.206 %\n"
     ]
    }
   ],
   "source": [
    "m3=my_model(feature_size)\n",
    "m3.load_weights(latest)\n",
    "loss,acc=m3.evaluate(test_x,test_y)\n",
    "print('loss of restored model: %.3f' %(loss) )\n",
    "print('Acc. of restored model: %.3f %%' %(acc*100) )"
   ]
  },
  {
   "cell_type": "code",
   "execution_count": 22,
   "metadata": {},
   "outputs": [],
   "source": [
    "# m4.save_weights('./checkpoints/my_checkpoint')\n"
   ]
  },
  {
   "cell_type": "code",
   "execution_count": 23,
   "metadata": {},
   "outputs": [],
   "source": [
    "# save whole model (model architecture + weight + optimizer settings)\n",
    "m3.save('my_model.hdf5')"
   ]
  },
  {
   "cell_type": "code",
   "execution_count": 24,
   "metadata": {},
   "outputs": [
    {
     "name": "stdout",
     "output_type": "stream",
     "text": [
      "_________________________________________________________________\n",
      "Layer (type)                 Output Shape              Param #   \n",
      "=================================================================\n",
      "input_9 (InputLayer)         (None, 1757)              0         \n",
      "_________________________________________________________________\n",
      "dense_8 (Dense)              (None, 2)                 3516      \n",
      "=================================================================\n",
      "Total params: 3,516\n",
      "Trainable params: 3,516\n",
      "Non-trainable params: 0\n",
      "_________________________________________________________________\n"
     ]
    }
   ],
   "source": [
    "new_m3=tf.keras.models.load_model('my_model.hdf5')\n",
    "new_m3.summary()"
   ]
  },
  {
   "cell_type": "code",
   "execution_count": 25,
   "metadata": {},
   "outputs": [
    {
     "name": "stdout",
     "output_type": "stream",
     "text": [
      "962/962 [==============================] - 0s 290us/step\n",
      "loss of restored model: 0.583\n",
      "Acc. of restored model: 71.206 %\n"
     ]
    }
   ],
   "source": [
    "loss,acc=m3.evaluate(test_x,test_y)\n",
    "print('loss of restored model: %.3f' %(loss) )\n",
    "print('Acc. of restored model: %.3f %%' %(acc*100) )"
   ]
  },
  {
   "cell_type": "code",
   "execution_count": 27,
   "metadata": {},
   "outputs": [
    {
     "name": "stdout",
     "output_type": "stream",
     "text": [
      "\n",
      "Epoch 00005: saving model to training_2/cp-0005.ckpt\n",
      "WARNING:tensorflow:This model was compiled with a Keras optimizer (<tensorflow.python.keras.optimizers.Adam object at 0x0000023959F50AC8>) but is being saved in TensorFlow format with `save_weights`. The model's weights will be saved, but unlike with TensorFlow optimizers in the TensorFlow format the optimizer's state will not be saved.\n",
      "\n",
      "Consider using a TensorFlow optimizer from `tf.train`.\n",
      "\n",
      "Epoch 00010: saving model to training_2/cp-0010.ckpt\n",
      "WARNING:tensorflow:This model was compiled with a Keras optimizer (<tensorflow.python.keras.optimizers.Adam object at 0x0000023959F50AC8>) but is being saved in TensorFlow format with `save_weights`. The model's weights will be saved, but unlike with TensorFlow optimizers in the TensorFlow format the optimizer's state will not be saved.\n",
      "\n",
      "Consider using a TensorFlow optimizer from `tf.train`.\n",
      "WARNING:tensorflow:This model was compiled with a Keras optimizer (<tensorflow.python.keras.optimizers.Adam object at 0x0000023959F50AC8>) but is being saved in TensorFlow format with `save_weights`. The model's weights will be saved, but unlike with TensorFlow optimizers in the TensorFlow format the optimizer's state will not be saved.\n",
      "\n",
      "Consider using a TensorFlow optimizer from `tf.train`.\n",
      "WARNING:tensorflow:Model was compiled with an optimizer, but the optimizer is not from `tf.train` (e.g. `tf.train.AdagradOptimizer`). Only the serving graph was exported. The train and evaluate graphs were not added to the SavedModel.\n",
      "INFO:tensorflow:Signatures INCLUDED in export for Classify: None\n",
      "INFO:tensorflow:Signatures INCLUDED in export for Regress: None\n",
      "INFO:tensorflow:Signatures INCLUDED in export for Predict: ['serving_default']\n",
      "INFO:tensorflow:Signatures INCLUDED in export for Train: None\n",
      "INFO:tensorflow:Signatures INCLUDED in export for Eval: None\n",
      "INFO:tensorflow:No assets to save.\n",
      "INFO:tensorflow:No assets to write.\n",
      "INFO:tensorflow:SavedModel written to: saved_models\\temp-b'1552052561'\\saved_model.pb\n"
     ]
    }
   ],
   "source": [
    "m4=my_model(feature_size)\n",
    "m4.fit(x=train_x,y=train_y,batch_size=100,epochs=10,verbose=0,\n",
    "          callbacks=[checkpoint],validation_split=0.1,\n",
    "         shuffle=True)\n",
    "saved_model_path = tf.contrib.saved_model.save_keras_model(m4, \"saved_models\")\n",
    "\n"
   ]
  },
  {
   "cell_type": "code",
   "execution_count": 28,
   "metadata": {},
   "outputs": [
    {
     "name": "stdout",
     "output_type": "stream",
     "text": [
      "1552052561\n"
     ]
    }
   ],
   "source": [
    "!ls saved_models/\n"
   ]
  },
  {
   "cell_type": "code",
   "execution_count": 29,
   "metadata": {},
   "outputs": [
    {
     "name": "stdout",
     "output_type": "stream",
     "text": [
      "_________________________________________________________________\n",
      "Layer (type)                 Output Shape              Param #   \n",
      "=================================================================\n",
      "input_11 (InputLayer)        (None, 1757)              0         \n",
      "_________________________________________________________________\n",
      "dense_10 (Dense)             (None, 2)                 3516      \n",
      "=================================================================\n",
      "Total params: 3,516\n",
      "Trainable params: 3,516\n",
      "Non-trainable params: 0\n",
      "_________________________________________________________________\n"
     ]
    }
   ],
   "source": [
    "new_m4 = tf.contrib.saved_model.load_keras_model(saved_model_path)\n",
    "new_m4.summary()"
   ]
  },
  {
   "cell_type": "code",
   "execution_count": 30,
   "metadata": {},
   "outputs": [
    {
     "ename": "RuntimeError",
     "evalue": "You must compile a model before training/testing. Use `model.compile(optimizer, loss)`.",
     "output_type": "error",
     "traceback": [
      "\u001b[1;31m---------------------------------------------------------------------------\u001b[0m",
      "\u001b[1;31mRuntimeError\u001b[0m                              Traceback (most recent call last)",
      "\u001b[1;32m<ipython-input-30-5fee10f4b750>\u001b[0m in \u001b[0;36m<module>\u001b[1;34m\u001b[0m\n\u001b[1;32m----> 1\u001b[1;33m \u001b[0mloss\u001b[0m\u001b[1;33m,\u001b[0m\u001b[0macc\u001b[0m\u001b[1;33m=\u001b[0m\u001b[0mnew_m5\u001b[0m\u001b[1;33m.\u001b[0m\u001b[0mevaluate\u001b[0m\u001b[1;33m(\u001b[0m\u001b[0mtest_x\u001b[0m\u001b[1;33m,\u001b[0m\u001b[0mtest_y\u001b[0m\u001b[1;33m)\u001b[0m\u001b[1;33m\u001b[0m\u001b[1;33m\u001b[0m\u001b[0m\n\u001b[0m\u001b[0;32m      2\u001b[0m \u001b[0mprint\u001b[0m\u001b[1;33m(\u001b[0m\u001b[1;34m'loss of restored model: %.3f'\u001b[0m \u001b[1;33m%\u001b[0m\u001b[1;33m(\u001b[0m\u001b[0mloss\u001b[0m\u001b[1;33m)\u001b[0m \u001b[1;33m)\u001b[0m\u001b[1;33m\u001b[0m\u001b[1;33m\u001b[0m\u001b[0m\n\u001b[0;32m      3\u001b[0m \u001b[0mprint\u001b[0m\u001b[1;33m(\u001b[0m\u001b[1;34m'Acc. of restored model: %.3f %%'\u001b[0m \u001b[1;33m%\u001b[0m\u001b[1;33m(\u001b[0m\u001b[0macc\u001b[0m\u001b[1;33m*\u001b[0m\u001b[1;36m100\u001b[0m\u001b[1;33m)\u001b[0m \u001b[1;33m)\u001b[0m\u001b[1;33m\u001b[0m\u001b[1;33m\u001b[0m\u001b[0m\n",
      "\u001b[1;32md:\\anaconda3\\envs\\tensorflow\\lib\\site-packages\\tensorflow\\python\\keras\\engine\\training.py\u001b[0m in \u001b[0;36mevaluate\u001b[1;34m(self, x, y, batch_size, verbose, sample_weight, steps, max_queue_size, workers, use_multiprocessing)\u001b[0m\n\u001b[0;32m   1749\u001b[0m         \u001b[0mcheck_steps\u001b[0m\u001b[1;33m=\u001b[0m\u001b[1;32mTrue\u001b[0m\u001b[1;33m,\u001b[0m\u001b[1;33m\u001b[0m\u001b[1;33m\u001b[0m\u001b[0m\n\u001b[0;32m   1750\u001b[0m         \u001b[0msteps_name\u001b[0m\u001b[1;33m=\u001b[0m\u001b[1;34m'steps'\u001b[0m\u001b[1;33m,\u001b[0m\u001b[1;33m\u001b[0m\u001b[1;33m\u001b[0m\u001b[0m\n\u001b[1;32m-> 1751\u001b[1;33m         steps=steps)\n\u001b[0m\u001b[0;32m   1752\u001b[0m \u001b[1;33m\u001b[0m\u001b[0m\n\u001b[0;32m   1753\u001b[0m     \u001b[1;32mif\u001b[0m \u001b[0mcontext\u001b[0m\u001b[1;33m.\u001b[0m\u001b[0mexecuting_eagerly\u001b[0m\u001b[1;33m(\u001b[0m\u001b[1;33m)\u001b[0m\u001b[1;33m:\u001b[0m\u001b[1;33m\u001b[0m\u001b[1;33m\u001b[0m\u001b[0m\n",
      "\u001b[1;32md:\\anaconda3\\envs\\tensorflow\\lib\\site-packages\\tensorflow\\python\\keras\\engine\\training.py\u001b[0m in \u001b[0;36m_standardize_user_data\u001b[1;34m(self, x, y, sample_weight, class_weight, batch_size, check_steps, steps_name, steps, validation_split)\u001b[0m\n\u001b[0;32m    990\u001b[0m         \u001b[0mx\u001b[0m\u001b[1;33m,\u001b[0m \u001b[0my\u001b[0m\u001b[1;33m,\u001b[0m \u001b[0msample_weight\u001b[0m \u001b[1;33m=\u001b[0m \u001b[0mnext_element\u001b[0m\u001b[1;33m\u001b[0m\u001b[1;33m\u001b[0m\u001b[0m\n\u001b[0;32m    991\u001b[0m     x, y, sample_weights = self._standardize_weights(x, y, sample_weight,\n\u001b[1;32m--> 992\u001b[1;33m                                                      class_weight, batch_size)\n\u001b[0m\u001b[0;32m    993\u001b[0m     \u001b[1;32mreturn\u001b[0m \u001b[0mx\u001b[0m\u001b[1;33m,\u001b[0m \u001b[0my\u001b[0m\u001b[1;33m,\u001b[0m \u001b[0msample_weights\u001b[0m\u001b[1;33m\u001b[0m\u001b[1;33m\u001b[0m\u001b[0m\n\u001b[0;32m    994\u001b[0m \u001b[1;33m\u001b[0m\u001b[0m\n",
      "\u001b[1;32md:\\anaconda3\\envs\\tensorflow\\lib\\site-packages\\tensorflow\\python\\keras\\engine\\training.py\u001b[0m in \u001b[0;36m_standardize_weights\u001b[1;34m(self, x, y, sample_weight, class_weight, batch_size)\u001b[0m\n\u001b[0;32m   1036\u001b[0m     \u001b[1;32mif\u001b[0m \u001b[0my\u001b[0m \u001b[1;32mis\u001b[0m \u001b[1;32mnot\u001b[0m \u001b[1;32mNone\u001b[0m\u001b[1;33m:\u001b[0m\u001b[1;33m\u001b[0m\u001b[1;33m\u001b[0m\u001b[0m\n\u001b[0;32m   1037\u001b[0m       \u001b[1;32mif\u001b[0m \u001b[1;32mnot\u001b[0m \u001b[0mself\u001b[0m\u001b[1;33m.\u001b[0m\u001b[0moptimizer\u001b[0m\u001b[1;33m:\u001b[0m\u001b[1;33m\u001b[0m\u001b[1;33m\u001b[0m\u001b[0m\n\u001b[1;32m-> 1038\u001b[1;33m         raise RuntimeError('You must compile a model before '\n\u001b[0m\u001b[0;32m   1039\u001b[0m                            \u001b[1;34m'training/testing. '\u001b[0m\u001b[1;33m\u001b[0m\u001b[1;33m\u001b[0m\u001b[0m\n\u001b[0;32m   1040\u001b[0m                            'Use `model.compile(optimizer, loss)`.')\n",
      "\u001b[1;31mRuntimeError\u001b[0m: You must compile a model before training/testing. Use `model.compile(optimizer, loss)`."
     ]
    }
   ],
   "source": [
    "loss,acc=new_m4.evaluate(test_x,test_y)\n",
    "print('loss of restored model: %.3f' %(loss) )\n",
    "print('Acc. of restored model: %.3f %%' %(acc*100) )"
   ]
  },
  {
   "cell_type": "code",
   "execution_count": 33,
   "metadata": {},
   "outputs": [],
   "source": [
    "new_m4.compile(optimizer=tf.keras.optimizers.Adam(), \n",
    "              loss=tf.keras.losses.categorical_crossentropy,\n",
    "              metrics=['accuracy'])"
   ]
  },
  {
   "cell_type": "code",
   "execution_count": 34,
   "metadata": {},
   "outputs": [
    {
     "name": "stdout",
     "output_type": "stream",
     "text": [
      "962/962 [==============================] - 1s 578us/step\n",
      "loss of restored model: 0.591\n",
      "Acc. of restored model: 69.543 %\n"
     ]
    }
   ],
   "source": [
    "loss,acc=new_m4.evaluate(test_x,test_y)\n",
    "print('loss of restored model: %.3f' %(loss) )\n",
    "print('Acc. of restored model: %.3f %%' %(acc*100) )"
   ]
  },
  {
   "cell_type": "code",
   "execution_count": 41,
   "metadata": {},
   "outputs": [
    {
     "name": "stdout",
     "output_type": "stream",
     "text": [
      "\n",
      "Epoch 00005: saving model to training_2/cp-0005.ckpt\n",
      "WARNING:tensorflow:This model was compiled with a Keras optimizer (<tensorflow.python.keras.optimizers.Adam object at 0x000002392F367748>) but is being saved in TensorFlow format with `save_weights`. The model's weights will be saved, but unlike with TensorFlow optimizers in the TensorFlow format the optimizer's state will not be saved.\n",
      "\n",
      "Consider using a TensorFlow optimizer from `tf.train`.\n",
      "\n",
      "Epoch 00010: saving model to training_2/cp-0010.ckpt\n",
      "WARNING:tensorflow:This model was compiled with a Keras optimizer (<tensorflow.python.keras.optimizers.Adam object at 0x000002392F367748>) but is being saved in TensorFlow format with `save_weights`. The model's weights will be saved, but unlike with TensorFlow optimizers in the TensorFlow format the optimizer's state will not be saved.\n",
      "\n",
      "Consider using a TensorFlow optimizer from `tf.train`.\n",
      "\n",
      "Epoch 00015: saving model to training_2/cp-0015.ckpt\n",
      "WARNING:tensorflow:This model was compiled with a Keras optimizer (<tensorflow.python.keras.optimizers.Adam object at 0x000002392F367748>) but is being saved in TensorFlow format with `save_weights`. The model's weights will be saved, but unlike with TensorFlow optimizers in the TensorFlow format the optimizer's state will not be saved.\n",
      "\n",
      "Consider using a TensorFlow optimizer from `tf.train`.\n",
      "\n",
      "Epoch 00020: saving model to training_2/cp-0020.ckpt\n",
      "WARNING:tensorflow:This model was compiled with a Keras optimizer (<tensorflow.python.keras.optimizers.Adam object at 0x000002392F367748>) but is being saved in TensorFlow format with `save_weights`. The model's weights will be saved, but unlike with TensorFlow optimizers in the TensorFlow format the optimizer's state will not be saved.\n",
      "\n",
      "Consider using a TensorFlow optimizer from `tf.train`.\n"
     ]
    },
    {
     "data": {
      "image/png": "[encoded data removed]",
      "text/plain": [
       "<Figure size 432x288 with 2 Axes>"
      ]
     },
     "metadata": {
      "needs_background": "light"
     },
     "output_type": "display_data"
    }
   ],
   "source": [
    "m5=my_model(feature_size)\n",
    "hist=m5.fit(x=train_x,y=train_y,batch_size=100,epochs=20,verbose=0,\n",
    "          callbacks=[checkpoint],validation_split=0.1,\n",
    "         shuffle=True)"
   ]
  },
  {
   "cell_type": "code",
   "execution_count": 76,
   "metadata": {},
   "outputs": [
    {
     "data": {
      "image/png": "[encoded data removed]",
      "text/plain": [
       "<Figure size 432x288 with 2 Axes>"
      ]
     },
     "metadata": {
      "needs_background": "light"
     },
     "output_type": "display_data"
    }
   ],
   "source": [
    "\n",
    "fig, loss_ax = plt.subplots()\n",
    "acc_ax = loss_ax.twinx()\n",
    "\n",
    "loss_ax.plot(hist.history['loss'], 'y', label='train loss')\n",
    "loss_ax.plot(hist.history['val_loss'], 'r', label='val loss')\n",
    "loss_ax.set_xlabel('epoch')\n",
    "loss_ax.set_ylabel('loss')\n",
    "loss_ax.legend(loc='center left', bbox_to_anchor=(1.2,0.1), fancybox=True)\n",
    "# loss_ax.legend( borderaxespad=0.,fancybox=True)\n",
    "\n",
    "acc_ax.plot(hist.history['acc'], 'b', label='train acc')\n",
    "acc_ax.plot(hist.history['val_acc'], 'g', label='val acc')\n",
    "acc_ax.set_ylabel('accuracy')\n",
    "acc_ax.legend(loc='center left', bbox_to_anchor=(1.2,0.9), fancybox=True)\n",
    "\n",
    "plt.show()"
   ]
  },
  {
   "cell_type": "code",
   "execution_count": null,
   "metadata": {},
   "outputs": [],
   "source": []
  }
 ],
 "metadata": {
  "kernelspec": {
   "display_name": "Python 3",
   "language": "python",
   "name": "python3"
  },
  "language_info": {
   "codemirror_mode": {
    "name": "ipython",
    "version": 3
   },
   "file_extension": ".py",
   "mimetype": "text/x-python",
   "name": "python",
   "nbconvert_exporter": "python",
   "pygments_lexer": "ipython3",
   "version": "3.6.8"
  }
 },
 "nbformat": 4,
 "nbformat_minor": 2
}
