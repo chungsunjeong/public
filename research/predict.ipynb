{
 "cells": [
  {
   "cell_type": "code",
   "execution_count": 5,
   "metadata": {},
   "outputs": [
    {
     "name": "stdout",
     "output_type": "stream",
     "text": [
      "--------------------------------------------------------\n",
      "Load DTI data.\n",
      "--------------------------------------------------------\n",
      "Load existing positive & negative sample files.\n",
      "# of positive samples: 9592\n",
      "# of features of a positive sample: 1627\n",
      "\n",
      "# of negative samples: 9592\n",
      "# of features of a negative sample: 1627\n",
      "\n"
     ]
    }
   ],
   "source": [
    "from keras.models import load_model, Model\n",
    "from keras.layers import Input\n",
    "from sklearn.metrics import accuracy_score, confusion_matrix\n",
    "import numpy as np\n",
    "import pandas as pd\n",
    "import matplotlib.pyplot as plt\n",
    "import sys\n",
    "import os\n",
    "import collections\n",
    "import time\n",
    "sys.path.append('./*')\n",
    "sys.path=list(set(sys.path))\n",
    "from model.keras_models import inst_layers\n",
    "from module_DTI.default_load import *\n",
    "from module_DTI.utils import *\n",
    "\n",
    "config = collections.namedtuple('config', ['Dataset'])\n",
    "dict_directories = {'dir_ROOT': './dataset/final', }\n",
    "dict_directories.update({\n",
    "    'DTI_adjmat': dict_directories['dir_ROOT'] + '/drug-target_mat.tsv',\n",
    "    'drug': dict_directories['dir_ROOT'] + '/drug_descriptor.tsv',\n",
    "    'target': dict_directories['dir_ROOT'] + '/protein_descriptor.tsv'\n",
    "})\n",
    "config_Dataset = {\n",
    "        'dict_directories': dict_directories,\n",
    "        'neg_to_pos_ratio': 1,\n",
    "        'split_ratio': 0.8,\n",
    "        'pos_filename': 'pos_sample.txt',\n",
    "        'neg_filename': 'neg_sample_1.txt',\n",
    "}\n",
    "save_path='./model/model_saved/'\n",
    "checkpoint_path='./model/model_checkpoints/'\n",
    "config.Dataset = config_Dataset\n",
    "DTI=load_DTI(config,verbose=0)\n",
    "load_pos_neg_samples(config,DTI)\n",
    "\n",
    "pair_ae=load_model(save_path+'pair_dim500_final.hdf')\n",
    "pair_layer=pair_ae.layers[1].layers[1:]\n",
    "drug_target_intput=Input(shape=(1627,),name='DT_input')\n",
    "drug_target_vector=inst_layers(pair_layer,drug_target_intput)\n",
    "M1=Model(inputs=drug_target_intput,outputs=drug_target_vector)"
   ]
  },
  {
   "cell_type": "code",
   "execution_count": 13,
   "metadata": {},
   "outputs": [],
   "source": [
    "pos_x=DTI.pos.data.values\n",
    "neg_x=DTI.neg.data.values\n",
    "pos_y=np.tile(np.array([0,1]),(len(pos_x),1))\n",
    "neg_y=np.tile(np.array([1,0]),(len(neg_x),1))"
   ]
  },
  {
   "cell_type": "markdown",
   "metadata": {},
   "source": [
    "# Load classifier"
   ]
  },
  {
   "cell_type": "code",
   "execution_count": 7,
   "metadata": {},
   "outputs": [],
   "source": [
    "model_name='tot_m2_semi_100_5000_final_acc_0.8081_F1_0.8002.h5'\n",
    "classifier=load_model(save_path+model_name)"
   ]
  },
  {
   "cell_type": "code",
   "execution_count": 18,
   "metadata": {},
   "outputs": [
    {
     "name": "stdout",
     "output_type": "stream",
     "text": [
      "Positive samples test\n",
      "Acc: 84.1326\n",
      "Negative samples test\n",
      "Acc: 88.9283\n"
     ]
    }
   ],
   "source": [
    "# test\n",
    "print('Positive samples test')\n",
    "y_pred,accuracy,auroc,TPR,TNR,PRE,F1=get_metrics_values(classifier, M1.predict(pos_x), pos_y,\n",
    "                                                        verbose=0)\n",
    "print('Acc: '+str(round(float(accuracy),4)))\n",
    "print('Negative samples test')\n",
    "y_pred,accuracy,auroc,TPR,TNR,PRE,F1=get_metrics_values(classifier, M1.predict(neg_x), neg_y,\n",
    "                                                        verbose=0)\n",
    "print('Acc: '+str(round(float(accuracy),4)))"
   ]
  },
  {
   "cell_type": "markdown",
   "metadata": {},
   "source": [
    "# Unlabel data prediction"
   ]
  },
  {
   "cell_type": "code",
   "execution_count": 20,
   "metadata": {},
   "outputs": [
    {
     "name": "stdout",
     "output_type": "stream",
     "text": [
      "10times.npy\n",
      "Load existing unlabel sample file.\n",
      "Complete loading all default dataset & variables.\n",
      "\n",
      "--------------------------------------------------------\n"
     ]
    }
   ],
   "source": [
    "unlabel_file='10times.npy'\n",
    "print(unlabel_file)\n",
    "unlabel_data=load_unlabel(config,unlabel_file)"
   ]
  },
  {
   "cell_type": "code",
   "execution_count": 33,
   "metadata": {},
   "outputs": [
    {
     "data": {
      "text/plain": [
       "array([ 73846, 101609,  32729,  26828,  57106, 138555,  59776,  36013,\n",
       "        68866,  56468], dtype=int64)"
      ]
     },
     "execution_count": 33,
     "metadata": {},
     "output_type": "execute_result"
    }
   ],
   "source": [
    "top=10\n",
    "u_pred=classifier.predict(M1.predict(unlabel_data))\n",
    "top_ind=np.transpose(u_pred)[0].argsort()\n",
    "pos_top_ind=top_ind[:top]\n",
    "pos_top_ind"
   ]
  },
  {
   "cell_type": "code",
   "execution_count": 34,
   "metadata": {},
   "outputs": [
    {
     "data": {
      "text/plain": [
       "array([[0.02361378, 0.97638613],\n",
       "       [0.02742375, 0.9725762 ],\n",
       "       [0.02832645, 0.9716735 ],\n",
       "       [0.02931192, 0.9706881 ],\n",
       "       [0.02986174, 0.97013825],\n",
       "       [0.03002558, 0.9699744 ],\n",
       "       [0.0307151 , 0.9692849 ],\n",
       "       [0.03128812, 0.96871185],\n",
       "       [0.03147509, 0.9685249 ],\n",
       "       [0.03249684, 0.96750313]], dtype=float32)"
      ]
     },
     "execution_count": 34,
     "metadata": {},
     "output_type": "execute_result"
    }
   ],
   "source": [
    "classifier.predict(M1.predict(unlabel_data[pos_top_ind]))"
   ]
  },
  {
   "cell_type": "code",
   "execution_count": null,
   "metadata": {},
   "outputs": [],
   "source": []
  }
 ],
 "metadata": {
  "kernelspec": {
   "display_name": "Python 3",
   "language": "python",
   "name": "python3"
  },
  "language_info": {
   "codemirror_mode": {
    "name": "ipython",
    "version": 3
   },
   "file_extension": ".py",
   "mimetype": "text/x-python",
   "name": "python",
   "nbconvert_exporter": "python",
   "pygments_lexer": "ipython3",
   "version": "3.5.6"
  }
 },
 "nbformat": 4,
 "nbformat_minor": 2
}
],\n",
       "       ..., \n",
       "       [  1.76134403e-03,   9.98238683e-01],\n",
       "       [  1.76265067e-03,   9.98237371e-01],\n",
       "       [  1.76556851e-03,   9.98234391e-01]], dtype=float32)"
      ]
     },
     "execution_count": 26,
     "metadata": {},
     "output_type": "execute_result"
    }
   ],
   "source": [
    "prob=classifier.predict(M1.predict(unlabel_data[pos_top_ind]))\n",
    "prob"
   ]
  },
  {
   "cell_type": "code",
   "execution_count": 27,
   "metadata": {},
   "outputs": [],
   "source": [
    "with open('normal_prediction3.txt','w') as f:\n",
    "    for i,val in enumerate(result_pair):\n",
    "        f.write(val+'\\t'+str(float(prob[i,1]))+'\\n')"
   ]
  },
  {
   "cell_type": "code",
   "execution_count": null,
   "metadata": {},
   "outputs": [],
   "source": []
  }
 ],
 "metadata": {
  "kernelspec": {
   "display_name": "Python 3",
   "language": "python",
   "name": "python3"
  },
  "language_info": {
   "codemirror_mode": {
    "name": "ipython",
    "version": 3
   },
   "file_extension": ".py",
   "mimetype": "text/x-python",
   "name": "python",
   "nbconvert_exporter": "python",
   "pygments_lexer": "ipython3",
   "version": "3.5.4"
  }
 },
 "nbformat": 4,
 "nbformat_minor": 2
}
