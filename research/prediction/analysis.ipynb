{
 "cells": [
  {
   "cell_type": "code",
   "execution_count": 9,
   "metadata": {},
   "outputs": [],
   "source": [
    "import numpy as np\n",
    "import pandas as pd"
   ]
  },
  {
   "cell_type": "code",
   "execution_count": 22,
   "metadata": {},
   "outputs": [],
   "source": [
    "name_drug=dict()\n",
    "name_target=dict()\n",
    "with open('target_name.txt','r') as f:\n",
    "    for line in f:\n",
    "        try:\n",
    "            ID,name=line.split('\\t')\n",
    "            ID=ID.replace('\\n','')\n",
    "            name=name.replace('\\n','')\n",
    "            name_target[ID]=name\n",
    "        except:pass\n",
    "\n",
    "with open('drug_name.txt','r') as f:\n",
    "    for line in f:\n",
    "        try:\n",
    "            ID,name=line.split('\\t')\n",
    "            ID=ID.replace('\\n','')\n",
    "            name=name.replace('\\n','')\n",
    "            name_drug[ID]=name\n",
    "        except:pass       \n"
   ]
  },
  {
   "cell_type": "code",
   "execution_count": 11,
   "metadata": {},
   "outputs": [],
   "source": [
    "def load_prediction(filename):\n",
    "    pred_dict={}\n",
    "    with open(filename,'r') as f:\n",
    "        for line in f:\n",
    "            pair,prob=line.replace('\\n','').split('\\t')\n",
    "            pred_dict[pair]=prob\n",
    "    return pred_dict"
   ]
  },
  {
   "cell_type": "code",
   "execution_count": 12,
   "metadata": {},
   "outputs": [],
   "source": [
    "semi_filename='20190520_semi_prediction'\n",
    "normal_filename='20190520_normal_prediction'\n",
    "top_n=1000"
   ]
  },
  {
   "cell_type": "code",
   "execution_count": 13,
   "metadata": {},
   "outputs": [],
   "source": [
    "pred1=load_prediction(normal_filename+'1.txt')\n",
    "pred2=load_prediction(normal_filename+'2.txt')\n",
    "pred3=load_prediction(normal_filename+'3.txt')\n",
    "pair_tot=[]\n",
    "prob_tot=[]\n",
    "for key,value in pred1.items():\n",
    "    pair_tot.append(key)\n",
    "    prob_tot.append(value)\n",
    "\n",
    "for key,value in pred2.items():\n",
    "    pair_tot.append(key)\n",
    "    prob_tot.append(value)\n",
    "\n",
    "for key,value in pred3.items():\n",
    "    pair_tot.append(key)\n",
    "    prob_tot.append(value)\n",
    "prob_tot=[float(v) for v in prob_tot]\n",
    "prob_tot=np.array(prob_tot)\n",
    "len(prob_tot)\n",
    "top1000=np.flip(prob_tot.argsort()[-top_n:],axis=0)\n",
    "prob_tot[top1000]\n",
    "final_top1000_normal=[]\n",
    "for l in top1000:\n",
    "    final_top1000_normal.append(pair_tot[l])"
   ]
  },
  {
   "cell_type": "code",
   "execution_count": 14,
   "metadata": {},
   "outputs": [],
   "source": [
    "pred1=load_prediction(semi_filename+'1.txt')\n",
    "pred2=load_prediction(semi_filename+'2.txt')\n",
    "pred3=load_prediction(semi_filename+'3.txt')\n",
    "pair_tot=[]\n",
    "prob_tot=[]\n",
    "for key,value in pred1.items():\n",
    "    pair_tot.append(key)\n",
    "    prob_tot.append(value)\n",
    "\n",
    "for key,value in pred2.items():\n",
    "    pair_tot.append(key)\n",
    "    prob_tot.append(value)\n",
    "\n",
    "for key,value in pred3.items():\n",
    "    pair_tot.append(key)\n",
    "    prob_tot.append(value)\n",
    "prob_tot=[float(v) for v in prob_tot]\n",
    "prob_tot=np.array(prob_tot)\n",
    "top1000=np.flip(prob_tot.argsort()[-top_n:],axis=0)\n",
    "prob_tot[top1000]\n",
    "final_top1000_semi=[]\n",
    "for l in top1000:\n",
    "    final_top1000_semi.append(pair_tot[l])"
   ]
  },
  {
   "cell_type": "code",
   "execution_count": 15,
   "metadata": {},
   "outputs": [
    {
     "name": "stdout",
     "output_type": "stream",
     "text": [
      "1000\n"
     ]
    }
   ],
   "source": [
    "print(len(final_top1000_normal))\n",
    "a=set(final_top1000_normal)\n",
    "b=set(final_top1000_semi)"
   ]
  },
  {
   "cell_type": "code",
   "execution_count": 16,
   "metadata": {},
   "outputs": [
    {
     "name": "stdout",
     "output_type": "stream",
     "text": [
      "246\n"
     ]
    }
   ],
   "source": [
    "for i,v in enumerate(final_top1000_semi):\n",
    "    if v=='DB00115_O75469':\n",
    "        print(i)"
   ]
  },
  {
   "cell_type": "code",
   "execution_count": 24,
   "metadata": {
    "scrolled": false
   },
   "outputs": [
    {
     "name": "stdout",
     "output_type": "stream",
     "text": [
      "vincristine\tDelta-type opioid receptor\n",
      "vinorelbine\tDelta-type opioid receptor\n",
      "calcium\tCarbonic anhydrase 2\n",
      "vinblastine\tDelta-type opioid receptor\n",
      "vindesine\tDelta-type opioid receptor\n",
      "calcium\tGamma-aminobutyric acid receptor subunit beta-1\n",
      "calcium\tGamma-aminobutyric acid receptor subunit beta-2\n",
      "calcium\tGABA-A receptor (benzodiazepine site)\n",
      "vincristine\tProgesterone receptor\n",
      "vincristine\tRetinoic acid receptor gamma\n",
      "calcium\tGamma-aminobutyric acid receptor subunit beta-3\n",
      "vinblastine\tProgesterone receptor\n",
      "vindesine\tAlpha-2A adrenergic receptor\n",
      "vinblastine\tRetinoic acid receptor gamma\n",
      "vindesine\tProgesterone receptor\n",
      "paclitaxel\tDelta-type opioid receptor\n",
      "vincristine\tAlpha-2A adrenergic receptor\n",
      "vincristine\tGlucocorticoid receptor\n",
      "vinblastine\tGlucocorticoid receptor\n",
      "calcium\tGamma-aminobutyric acid receptor subunit alpha-2\n",
      "vinorelbine\tProgesterone receptor\n",
      "voacamine\tDelta-type opioid receptor\n",
      "vinblastine\tAlpha-2A adrenergic receptor\n",
      "vindesine\tGlucocorticoid receptor\n",
      "paclitaxel docosahexaenoic acid\tNuclear receptor subfamily 1 group I member 3\n",
      "pimagedine\tCarbonic anhydrase 2\n",
      "l-2-amino-3-butynoic acid\tCarbonic anhydrase 2\n",
      "vincristine\tMu-type opioid receptor\n",
      "vinorelbine\tGlucocorticoid receptor\n",
      "vinblastine\tMu-type opioid receptor\n",
      "vinorelbine\tMu-type opioid receptor\n",
      "protoporphyrin ix containing co\tMitogen-activated protein kinase 14\n",
      "vinorelbine\tAlpha-2A adrenergic receptor\n",
      "cyanocobalamin\tNuclear receptor subfamily 1 group I member 3\n",
      "vindesine\tRetinoic acid receptor gamma\n",
      "vindesine\tMu-type opioid receptor\n",
      "desogestrel\tNeuronal acetylcholine receptor subunit alpha-7\n",
      "desogestrel\tEstrogen receptor beta\n",
      "guanidine\tCarbonic anhydrase 2\n",
      "ethchlorvynol\tEstrogen receptor beta\n",
      "calcium\tGamma-aminobutyric acid receptor subunit alpha-6\n",
      "levonorgestrel\tNeuronal acetylcholine receptor subunit alpha-7\n",
      "vinorelbine\tRetinoic acid receptor gamma\n",
      "norethisterone\tNeuronal acetylcholine receptor subunit alpha-7\n",
      "etonogestrel\tEstrogen receptor beta\n",
      "desogestrel\tMuscarinic acetylcholine receptor M3\n",
      "vincristine\tNuclear receptor subfamily 1 group I member 3\n",
      "calcium\tGamma-aminobutyric acid receptor subunit gamma-2\n",
      "vinblastine\tNuclear receptor subfamily 1 group I member 3\n",
      "etonogestrel\tNeuronal acetylcholine receptor subunit alpha-7\n"
     ]
    }
   ],
   "source": [
    "i=0\n",
    "for v in final_top1000_semi:\n",
    "    d,t=v.split('_')\n",
    "    try:\n",
    "        i+=1\n",
    "        print(name_drug[d]+'\\t'+name_target[t])\n",
    "        if i==50:break\n",
    "    except:\n",
    "        pass\n",
    "        "
   ]
  }
 ],
 "metadata": {
  "kernelspec": {
   "display_name": "Python 3",
   "language": "python",
   "name": "python3"
  },
  "language_info": {
   "codemirror_mode": {
    "name": "ipython",
    "version": 3
   },
   "file_extension": ".py",
   "mimetype": "text/x-python",
   "name": "python",
   "nbconvert_exporter": "python",
   "pygments_lexer": "ipython3",
   "version": "3.5.6"
  }
 },
 "nbformat": 4,
 "nbformat_minor": 2
}
