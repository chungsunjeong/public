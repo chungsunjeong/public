{
 "cells": [
  {
   "cell_type": "markdown",
   "metadata": {
    "collapsed": true
   },
   "source": [
    "# logistic regression"
   ]
  },
  {
   "cell_type": "code",
   "execution_count": 9,
   "metadata": {},
   "outputs": [],
   "source": [
    "import numpy as np\n",
    "import tensorflow as tf\n",
    "import matplotlib.pyplot as plt\n",
    "import pandas as pd\n",
    "from tensorflow.examples.tutorials.mnist import input_data\n",
    "from module_DTI import load_data"
   ]
  },
  {
   "cell_type": "code",
   "execution_count": 11,
   "metadata": {
    "scrolled": true
   },
   "outputs": [
    {
     "name": "stdout",
     "output_type": "stream",
     "text": [
      "# of drug: 1862\n",
      "# of target: 1554\n",
      "\n",
      "# of drugs: 1862\n",
      "# of features of a drug: 881\n",
      "\n",
      "# of targets: 1554\n",
      "# of features of a target: 876\n",
      "\n",
      "# of drug-target interactions: 4809\n",
      "\n",
      "# of positive samples: 4809\n",
      "# of features of a positive sample: 1757\n",
      "\n",
      "# of negative samples: 4809\n",
      "# of features of a negative sample: 1757\n",
      "\n"
     ]
    }
   ],
   "source": [
    "def get_DTI_dict_from_adjmat(adjmat):\n",
    "    dict_DTI=dict()\n",
    "    adjmat=adjmat.T\n",
    "    i=0\n",
    "    for drug in adjmat.keys():\n",
    "        target_list=adjmat.index[adjmat[drug]==1].tolist()\n",
    "        dict_DTI[drug]=target_list\n",
    "        i+=len(target_list)\n",
    "    print('# of drug-target interactions: '+str(i)+'\\n')\n",
    "    return dict_DTI\n",
    "dir_dataset='D:\\\\Wisdom\\\\research\\\\data\\\\2012, Tabei'\n",
    "\n",
    "dir_DTI_adjmat=dir_dataset+'\\\\inter_admat.txt'\n",
    "dir_drug=dir_dataset+'\\\\drug_repmat.txt'\n",
    "dir_target = dir_dataset + '\\\\target_repmat.txt'\n",
    "\n",
    "matrix_DTI = load_data.load_drug_target_interaction_adjacency_matrix(dir_DTI_adjmat)\n",
    "matrix_drug=load_data.load_drug_descriptor_matrix(dir_drug)\n",
    "matrix_target=load_data.load_target_descriptor_matrix(dir_target)\n",
    "dict_DTI = get_DTI_dict_from_adjmat(matrix_DTI)\n",
    "\n",
    "dir_pos='./sample/pos_sample.txt'\n",
    "dir_neg = './sample/neg_sample.txt'\n",
    "\n",
    "pos_samples = load_data.load_pos_samples(dir_pos)\n",
    "neg_samples = load_data.load_neg_samples(dir_neg)\n"
   ]
  },
  {
   "cell_type": "code",
   "execution_count": 100,
   "metadata": {},
   "outputs": [],
   "source": [
    "def reduce_sample_size(sample):\n",
    "    pass"
   ]
  },
  {
   "cell_type": "code",
   "execution_count": 153,
   "metadata": {},
   "outputs": [],
   "source": [
    "def split_train_test_set(pos_samples,neg_samples,split_ratio=0.9):\n",
    "    pos_label=pos_samples.index\n",
    "    neg_label=neg_samples.index\n",
    "    n_pos=pos_samples.shape[0]\n",
    "    n_neg=neg_samples.shape[0]\n",
    "    if pos_samples.shape[1] != neg_samples.shape[1]:\n",
    "        raise ValueError('# of features of a positive sample is not equal to # of features of a positive sample')\n",
    "    pos_rand=pos_samples.sample(frac=1)\n",
    "    pos_training=pos_rand.loc[pos_rand.index[:int(split_ratio*n_pos)]]\n",
    "    pos_test=pos_rand.loc[pos_rand.index[int(split_ratio*n_pos):]]\n",
    "    neg_rand=neg_samples.sample(frac=1)\n",
    "    neg_training=neg_rand.loc[neg_rand.index[:int(split_ratio*n_neg)]]\n",
    "    neg_test=neg_rand.loc[neg_rand.index[int(split_ratio*n_neg):]]\n",
    "    \n",
    "    training_samples=pos_training.T.join(neg_training.T)\n",
    "    training_samples=training_samples.T\n",
    "    training_samples=training_samples.sample(frac=1)\n",
    "    test_samples=pos_test.T.join(neg_test.T)\n",
    "    test_samples=test_samples.T\n",
    "    test_samples=test_samples.sample(frac=1)\n",
    "    return training_samples, test_samples\n"
   ]
  },
  {
   "cell_type": "code",
   "execution_count": 154,
   "metadata": {},
   "outputs": [
    {
     "name": "stdout",
     "output_type": "stream",
     "text": [
      "(5770, 1757)\n",
      "(3848, 1757)\n"
     ]
    }
   ],
   "source": [
    "# total_samples=pos_samples.T.join(neg_samples.T)\n",
    "# total_samples=total_samples.T\n",
    "# print(total_samples.shape)\n",
    "# print(total_samples)\n",
    "training_samples,test_samples=split_train_test_set(pos_samples,neg_samples,split_ratio=0.6)"
   ]
  },
  {
   "cell_type": "code",
   "execution_count": 290,
   "metadata": {},
   "outputs": [],
   "source": [
    "def next_batch(num,data):\n",
    "    idx = np.arange(0 , data.shape[0])\n",
    "    np.random.shuffle(idx)\n",
    "    idx = idx[:num]\n",
    "    \n",
    "    idx_pair=data.index[idx]\n",
    "    label=list()\n",
    "    for pair in idx_pair:\n",
    "        if pair in pos_label:\n",
    "            label.append([0,1])\n",
    "        elif pair in neg_label:\n",
    "            label.append([1,0])\n",
    "        else:\n",
    "            raise ValueError('Index pair ('+pair+') belongs to neither pos/neg label.')\n",
    "    return data.loc[idx_pair].values, np.array(label)"
   ]
  },
  {
   "cell_type": "code",
   "execution_count": 296,
   "metadata": {},
   "outputs": [],
   "source": [
    "lr=0.05\n",
    "feature_size=1757\n",
    "n_class=2\n",
    "batch_size=100\n",
    "training_epochs=10"
   ]
  },
  {
   "cell_type": "code",
   "execution_count": 297,
   "metadata": {},
   "outputs": [],
   "source": [
    "x=tf.placeholder(tf.float32,[None,feature_size])\n",
    "W=tf.Variable(tf.zeros([feature_size,n_class]),name='W')\n",
    "b=tf.Variable(tf.zeros([n_class]),name='b')\n",
    "y=tf.nn.softmax(tf.matmul(x,W)+b)\n",
    "y_=tf.placeholder(tf.float32,[None,n_class])"
   ]
  },
  {
   "cell_type": "code",
   "execution_count": 298,
   "metadata": {},
   "outputs": [
    {
     "name": "stdout",
     "output_type": "stream",
     "text": [
      "[<tf.Variable 'W:0' shape=(1757, 2) dtype=float32_ref>, <tf.Variable 'b:0' shape=(2,) dtype=float32_ref>]\n"
     ]
    }
   ],
   "source": [
    "print(tf.trainable_variables())"
   ]
  },
  {
   "cell_type": "code",
   "execution_count": 299,
   "metadata": {},
   "outputs": [
    {
     "name": "stdout",
     "output_type": "stream",
     "text": [
      "Tensor(\"Mean:0\", shape=(), dtype=float32)\n",
      "name: \"GradientDescent\"\n",
      "op: \"NoOp\"\n",
      "input: \"^GradientDescent/update_W/ApplyGradientDescent\"\n",
      "input: \"^GradientDescent/update_b/ApplyGradientDescent\"\n",
      "\n"
     ]
    }
   ],
   "source": [
    "cost=tf.reduce_mean(-tf.reduce_sum(y_*tf.log(y),reduction_indices=[1]))\n",
    "optimizer=tf.train.GradientDescentOptimizer(learning_rate=lr).minimize(cost)\n",
    "# accuracy_train=tf.reduce_mean(tf.cast(tf.equal(tf.argmax(y,1),tf.argmax(y_,1)),tf.float32))\n",
    "\n",
    "print(cost)\n",
    "print(optimizer)\n",
    "sess=tf.Session()\n"
   ]
  },
  {
   "cell_type": "code",
   "execution_count": 302,
   "metadata": {},
   "outputs": [
    {
     "name": "stdout",
     "output_type": "stream",
     "text": [
      "(10, 1757)\n",
      "(10, 2)\n",
      "[1 1 1 ... 0 0 0]\n",
      "[1 0]\n"
     ]
    }
   ],
   "source": [
    "batch_xs,batch_ys=next_batch(batch_size,training_samples)\n",
    "print(batch_xs.shape)\n",
    "print(batch_ys.shape)\n",
    "print(batch_xs[0,:])\n",
    "print(batch_ys[0,:])"
   ]
  },
  {
   "cell_type": "code",
   "execution_count": 303,
   "metadata": {
    "scrolled": true
   },
   "outputs": [
    {
     "data": {
      "text/plain": [
       "[<matplotlib.lines.Line2D at 0x19302508940>]"
      ]
     },
     "execution_count": 303,
     "metadata": {},
     "output_type": "execute_result"
    },
    {
     "data": {
      "image/png": "[encoded data removed]",
      "text/plain": [
       "<Figure size 432x288 with 1 Axes>"
      ]
     },
     "metadata": {
      "needs_background": "light"
     },
     "output_type": "display_data"
    }
   ],
   "source": [
    "init=tf.global_variables_initializer()\n",
    "sess.run(init)\n",
    "avg_cost_list=[]\n",
    "total_batch=int(training_samples.shape[0]/batch_size)\n",
    "for epoch in range(training_epochs):\n",
    "    # accuracy_list=[]\n",
    "    avg_cost=0.\n",
    "    \n",
    "    for step in range(total_batch):\n",
    "        batch_xs,batch_ys=next_batch(batch_size,training_samples)\n",
    "        sess.run(optimizer,feed_dict={x:batch_xs,y_:batch_ys})\n",
    "        avg_cost+=sess.run(cost,feed_dict={x:batch_xs,y_:batch_ys})/total_batch\n",
    "    avg_cost_list.append(avg_cost)\n",
    "plt.plot(range(training_epochs),avg_cost_list)\n",
    "# show training accuracy as iteraction in one epoch\n",
    "#         accuracy_list.append(sess.run(accuracy_train,feed_dict={x:batch_xs,y_:batch_ys}))\n",
    "# itr=range(total_batch)\n",
    "# acc=accuracy_list\n",
    "# plt.plot(itr,acc)\n",
    "# plt.xlabel('iteraction')\n",
    "# plt.ylabel('training accuracy')\n",
    "# plt.show()"
   ]
  },
  {
   "cell_type": "code",
   "execution_count": 306,
   "metadata": {
    "scrolled": true
   },
   "outputs": [
    {
     "name": "stdout",
     "output_type": "stream",
     "text": [
      "3848\n",
      "60.00000238418579%\n"
     ]
    }
   ],
   "source": [
    "correct_prediction=tf.equal(tf.argmax(y,1),tf.argmax(y_,1))\n",
    "accuracy=tf.reduce_mean(tf.cast(correct_prediction,dtype='float32'))\n",
    "test_x, test_y=next_batch(test_samples.shape[0],test_samples)\n",
    "print(test_samples.shape[0])\n",
    "ac=sess.run(accuracy,feed_dict={x:test_x, y_:test_y})\n",
    "print(str(ac*100)+'%')\n"
   ]
  },
  {
   "cell_type": "code",
   "execution_count": 307,
   "metadata": {},
   "outputs": [],
   "source": [
    "sess.close()"
   ]
  },
  {
   "cell_type": "code",
   "execution_count": null,
   "metadata": {},
   "outputs": [],
   "source": [
    "\n",
    "# d1 = {'col1': np.array(range(1,3)), 'col2': np.array(range(3,5))}\n",
    "# d2 = {'aa1': np.array(range(1,4)), 'aa2': np.array(range(4,7)),'aa3':np.array(range(7,10))}\n",
    "# a = pd.DataFrame(data=d1, index=['a','b'])\n",
    "# print(a)\n",
    "# b = pd.DataFrame(data=d2,index=['x','y','z'])\n",
    "# print(b)\n",
    "# n_feature_drug=len(a.keys())\n",
    "# n_feature_target=len(b.keys())\n",
    "# n_sample_drug=len(a.index)\n",
    "# n_sample_target=len(b.index)\n",
    "# index=list(a.index)*5\n",
    "# c=pd.DataFrame(pd.np.tile(a, (n_sample_target, 1)),columns=a.keys())\n",
    "# ind_pair=[]\n",
    "# for ind1 in b.index:\n",
    "#     for ind2 in a.index:\n",
    "#         ind_pair.append(str(ind2)+'_'+str(ind1))\n",
    "\n",
    "# d=pd.DataFrame(np.reshape(pd.np.tile(b,(1,n_sample_drug)),(n_sample_drug*n_sample_target,n_sample_target)),\n",
    "#                columns=b.keys())\n",
    "# print(d)\n",
    "\n",
    "# kp=pd.concat([c,d], axis=1)\n",
    "# kp.index=ind_pair\n",
    "# print(kp)\n",
    "# # matrix_DTpair=my_tensordot(matrix_drug,matrix_target)\n",
    "# kp.to_csv('test.txt',sep='\\t')\n",
    "\n",
    "# a,b=next_batch(10,training_samples)\n",
    "# print(type(a))\n",
    "# print(a)\n",
    "# print(b)\n",
    "# print(a.shape)\n",
    "# print(b.shape)\n",
    "#     data_shuffle = [data[ i] for i in idx]\n",
    "#     labels_shuffle = [labels[ i] for i in idx]\n",
    "\n",
    "#     return np.asarray(data_shuffle), np.asarray(labels_shuffle)\n",
    "# batch_xs,batch_ys=mnist.train.next_batch(100)\n",
    "# print(batch_xs.shape)\n",
    "# print(batch_ys.shape)\n",
    "# # print(batch_xs[0,:])\n",
    "# # print(batch_ys[0,:])"
   ]
  }
 ],
 "metadata": {
  "kernelspec": {
   "display_name": "Python 3",
   "language": "python",
   "name": "python3"
  },
  "language_info": {
   "codemirror_mode": {
    "name": "ipython",
    "version": 3
   },
   "file_extension": ".py",
   "mimetype": "text/x-python",
   "name": "python",
   "nbconvert_exporter": "python",
   "pygments_lexer": "ipython3",
   "version": "3.5.6"
  }
 },
 "nbformat": 4,
 "nbformat_minor": 2
}
