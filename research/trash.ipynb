{
 "cells": [
  {
   "cell_type": "code",
   "execution_count": null,
   "metadata": {},
   "outputs": [],
   "source": [
    "\n",
    "# pos_label = set()\n",
    "\n",
    "# i = 0\n",
    "# pos_sample=pd.DataFrame()\n",
    "# for drug, targets in dict_DTI.items():\n",
    "#     for target in targets:\n",
    "#         pair_name=[str(drug) + '_' + target]\n",
    "#         pos_label.update(pair_name)\n",
    "#         if i==0:\n",
    "#             pos_sample=pd.DataFrame(pd.concat([matrix_drug.loc[drug],matrix_target.loc[target]]),columns=pair_name)\n",
    "#         else:\n",
    "#             spl=pd.DataFrame(pd.concat([matrix_drug.loc[drug],matrix_target.loc[target]]),columns=pair_name)\n",
    "#             pos_sample=pos_sample.join(spl)\n",
    "#         i+=1\n",
    "# '--------------------------------------'\n",
    "# pos_sample = pos_sample.T\n",
    "# print(pos_sample.shape)\n",
    "# print('# of positive samples: ' + str(len(pos_label)))\n",
    "# n_positive = len(pos_label)\n",
    "# n_negative = n_positive\n",
    "# neg_label_total = set()\n",
    "# for ind1 in matrix_target.index:\n",
    "#     for ind2 in matrix_drug.index:\n",
    "#         neg_label_total.update([str(ind2) + '_' + str(ind1)])\n",
    "# print(len(neg_label_total))\n",
    "# neg_label_total = neg_label_total.difference(pos_label)\n",
    "# neg_label = np.random.choice(list(neg_label_total), size=n_negative, replace=False)\n",
    "# '--------------------------------------'\n",
    "# pos_label = set()\n",
    "\n",
    "# for drug, targets in dict_DTI.items():\n",
    "#     for target in targets:\n",
    "#         pair_name = [str(drug) + '_' + target]\n",
    "#         pos_label.update(pair_name)\n",
    "# print(pos_label)\n",
    "# '--------------------------------------'\n",
    "\n",
    "\n",
    "# neg_sample=pd.DataFrame()\n",
    "# j=0\n",
    "# # dtype_drug=np.issubdtype(matrix_drug.index.dtype,np.number)\n",
    "# # dtype_target=np.issubdtype(matrix_target.index.dtype,np.number)\n",
    "# for neg in neg_label:\n",
    "#     drug, target = neg.split('_',1)\n",
    "#     if j==0:\n",
    "#         neg_sample = pd.DataFrame(pd.concat([matrix_drug.loc[drug], matrix_target.loc[target]]),\n",
    "#                                       columns=[neg])\n",
    "#     else:\n",
    "#         df_tmp = pd.DataFrame(pd.concat([matrix_drug.loc[drug], matrix_target.loc[target]]), columns=[neg])\n",
    "#         neg_sample = neg_sample.join(df_tmp)\n",
    "#     j += 1\n",
    "# neg_sample = neg_sample.T\n",
    "# print(neg_sample.shape)\n",
    "# neg_sample.to_csv('neg_sample.txt',sep='\\t')\n",
    "    "
   ]
  }
 ],
 "metadata": {
  "kernelspec": {
   "display_name": "Python 3",
   "language": "python",
   "name": "python3"
  },
  "language_info": {
   "codemirror_mode": {
    "name": "ipython",
    "version": 3
   },
   "file_extension": ".py",
   "mimetype": "text/x-python",
   "name": "python",
   "nbconvert_exporter": "python",
   "pygments_lexer": "ipython3",
   "version": "3.5.6"
  }
 },
 "nbformat": 4,
 "nbformat_minor": 2
}
