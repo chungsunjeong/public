{
 "cells": [
  {
   "cell_type": "code",
   "execution_count": 2,
   "metadata": {},
   "outputs": [],
   "source": [
    "from pmlb import fetch_data\n",
    "from pmlb import dataset_lists"
   ]
  },
  {
   "cell_type": "code",
   "execution_count": 21,
   "metadata": {},
   "outputs": [
    {
     "name": "stdout",
     "output_type": "stream",
     "text": [
      "['GAMETES_Epistasis_2-Way_1000atts_0.4H_EDM-1_EDM-1_1', 'GAMETES_Epistasis_2-Way_20atts_0.1H_EDM-1_1', 'GAMETES_Epistasis_2-Way_20atts_0.4H_EDM-1_1', 'GAMETES_Epistasis_3-Way_20atts_0.2H_EDM-1_1', 'GAMETES_Heterogeneity_20atts_1600_Het_0.4_0.2_50_EDM-2_001', 'GAMETES_Heterogeneity_20atts_1600_Het_0.4_0.2_75_EDM-2_001', 'Hill_Valley_with_noise', 'Hill_Valley_without_noise', 'adult', 'agaricus-lepiota', 'allbp', 'allhyper', 'allhypo', 'allrep', 'analcatdata_aids', 'analcatdata_asbestos', 'analcatdata_authorship', 'analcatdata_bankruptcy', 'analcatdata_boxing1', 'analcatdata_boxing2', 'analcatdata_creditscore', 'analcatdata_cyyoung8092', 'analcatdata_cyyoung9302', 'analcatdata_dmft', 'analcatdata_fraud', 'analcatdata_germangss', 'analcatdata_happiness', 'analcatdata_japansolvent', 'analcatdata_lawsuit', 'ann-thyroid', 'appendicitis', 'australian', 'auto', 'backache', 'balance-scale', 'banana', 'biomed', 'breast', 'breast-cancer', 'breast-cancer-wisconsin', 'breast-w', 'buggyCrx', 'bupa', 'calendarDOW', 'car', 'car-evaluation', 'cars', 'cars1', 'chess', 'churn', 'clean1', 'clean2', 'cleve', 'cleveland', 'cleveland-nominal', 'cloud', 'cmc', 'coil2000', 'colic', 'collins', 'confidence', 'connect-4', 'contraceptive', 'corral', 'credit-a', 'credit-g', 'crx', 'dermatology', 'diabetes', 'dis', 'dna', 'ecoli', 'fars', 'flags', 'flare', 'german', 'glass', 'glass2', 'haberman', 'hayes-roth', 'heart-c', 'heart-h', 'heart-statlog', 'hepatitis', 'horse-colic', 'house-votes-84', 'hungarian', 'hypothyroid', 'ionosphere', 'iris', 'irish', 'kddcup', 'kr-vs-kp', 'krkopt', 'labor', 'led24', 'led7', 'letter', 'liver-disorder', 'lupus', 'lymphography', 'magic', 'mfeat-factors', 'mfeat-fourier', 'mfeat-karhunen', 'mfeat-morphological', 'mfeat-pixel', 'mfeat-zernike', 'mnist', 'mofn-3-7-10', 'molecular-biology_promoters', 'monk1', 'monk2', 'monk3', 'movement_libras', 'mushroom', 'mux6', 'new-thyroid', 'nursery', 'optdigits', 'page-blocks', 'parity5', 'parity5+5', 'pendigits', 'phoneme', 'pima', 'poker', 'postoperative-patient-data', 'prnn_crabs', 'prnn_fglass', 'prnn_synth', 'profb', 'promoters', 'ring', 'saheart', 'satimage', 'schizo', 'segmentation', 'shuttle', 'sleep', 'solar-flare_1', 'solar-flare_2', 'sonar', 'soybean', 'spambase', 'spect', 'spectf', 'splice', 'tae', 'texture', 'threeOf9', 'tic-tac-toe', 'titanic', 'tokyo1', 'twonorm', 'vehicle', 'vote', 'vowel', 'waveform-21', 'waveform-40', 'wdbc', 'wine-quality-red', 'wine-quality-white', 'wine-recognition', 'xd6', 'yeast']\n"
     ]
    }
   ],
   "source": [
    "name_classification=dataset_lists.classification_dataset_names\n",
    "name_regression=dataset_lists.regression_dataset_names\n",
    "print(name_classification)\n",
    "# print(name_regression)\n",
    "\n",
    "top12_UCI_dataset_raw_name=['iris','adult','wine-recognition','car-evaluation',\n",
    "                            'breast-cancer-wisconsin','wine-quality-white','wine-quality-red',\n",
    "                            'heart-disease','human-activity-recognition-using-smartphones','bank-marketing',\n",
    "                           'abalone','forest-fires','poker-hand']\n",
    "# for x in top12_UCI_dataset_raw_name:\n",
    "#     print(x in name_classification)"
   ]
  },
  {
   "cell_type": "code",
   "execution_count": 22,
   "metadata": {},
   "outputs": [
    {
     "name": "stdout",
     "output_type": "stream",
     "text": [
      "     sepal-length  sepal-width  petal-length  petal-width  target\n",
      "0             6.7          3.0           5.2          2.3       2\n",
      "1             6.0          2.2           5.0          1.5       2\n",
      "2             6.2          2.8           4.8          1.8       2\n",
      "3             7.7          3.8           6.7          2.2       2\n",
      "4             7.2          3.0           5.8          1.6       2\n",
      "5             5.5          2.4           3.8          1.1       1\n",
      "6             6.0          2.7           5.1          1.6       1\n",
      "7             5.5          2.5           4.0          1.3       1\n",
      "8             5.6          2.9           3.6          1.3       1\n",
      "9             5.7          2.9           4.2          1.3       1\n",
      "10            5.0          3.2           1.2          0.2       0\n",
      "11            4.9          3.1           1.5          0.1       0\n",
      "12            5.3          3.7           1.5          0.2       0\n",
      "13            4.8          3.1           1.6          0.2       0\n",
      "14            5.0          3.3           1.4          0.2       0\n",
      "15            6.3          3.4           5.6          2.4       2\n",
      "16            7.1          3.0           5.9          2.1       2\n",
      "17            6.3          2.8           5.1          1.5       2\n",
      "18            6.3          2.9           5.6          1.8       2\n",
      "19            5.8          2.7           5.1          1.9       2\n",
      "20            5.2          2.7           3.9          1.4       1\n",
      "21            5.6          3.0           4.1          1.3       1\n",
      "22            6.9          3.1           4.9          1.5       1\n",
      "23            6.2          2.9           4.3          1.3       1\n",
      "24            6.5          2.8           4.6          1.5       1\n",
      "25            5.0          3.0           1.6          0.2       0\n",
      "26            5.5          3.5           1.3          0.2       0\n",
      "27            5.1          3.5           1.4          0.3       0\n",
      "28            5.7          3.8           1.7          0.3       0\n",
      "29            5.5          4.2           1.4          0.2       0\n",
      "..            ...          ...           ...          ...     ...\n",
      "120           6.7          3.3           5.7          2.1       2\n",
      "121           6.4          2.7           5.3          1.9       2\n",
      "122           5.8          2.7           5.1          1.9       2\n",
      "123           6.2          3.4           5.4          2.3       2\n",
      "124           6.0          3.0           4.8          1.8       2\n",
      "125           5.6          2.5           3.9          1.1       1\n",
      "126           4.9          2.4           3.3          1.0       1\n",
      "127           5.1          2.5           3.0          1.1       1\n",
      "128           6.4          3.2           4.5          1.5       1\n",
      "129           5.7          3.0           4.2          1.2       1\n",
      "130           4.3          3.0           1.1          0.1       0\n",
      "131           5.1          3.7           1.5          0.4       0\n",
      "132           4.8          3.4           1.6          0.2       0\n",
      "133           4.6          3.2           1.4          0.2       0\n",
      "134           4.8          3.0           1.4          0.1       0\n",
      "135           6.9          3.1           5.4          2.1       2\n",
      "136           7.2          3.2           6.0          1.8       2\n",
      "137           7.7          3.0           6.1          2.3       2\n",
      "138           7.7          2.8           6.7          2.0       2\n",
      "139           6.5          3.0           5.2          2.0       2\n",
      "140           5.5          2.4           3.7          1.0       1\n",
      "141           5.4          3.0           4.5          1.5       1\n",
      "142           6.8          2.8           4.8          1.4       1\n",
      "143           6.1          2.9           4.7          1.4       1\n",
      "144           6.7          3.0           5.0          1.7       1\n",
      "145           5.0          3.5           1.6          0.6       0\n",
      "146           5.4          3.9           1.7          0.4       0\n",
      "147           5.1          3.4           1.5          0.2       0\n",
      "148           5.0          3.6           1.4          0.2       0\n",
      "149           5.0          3.4           1.6          0.4       0\n",
      "\n",
      "[150 rows x 5 columns]\n"
     ]
    }
   ],
   "source": [
    "iris=fetch_data('iris',return_X_y=False,local_cache_dir=None)\n",
    "print(iris)"
   ]
  },
  {
   "cell_type": "code",
   "execution_count": null,
   "metadata": {},
   "outputs": [],
   "source": []
  }
 ],
 "metadata": {
  "kernelspec": {
   "display_name": "Python 3",
   "language": "python",
   "name": "python3"
  },
  "language_info": {
   "codemirror_mode": {
    "name": "ipython",
    "version": 3
   },
   "file_extension": ".py",
   "mimetype": "text/x-python",
   "name": "python",
   "nbconvert_exporter": "python",
   "pygments_lexer": "ipython3",
   "version": "3.5.6"
  }
 },
 "nbformat": 4,
 "nbformat_minor": 2
}
