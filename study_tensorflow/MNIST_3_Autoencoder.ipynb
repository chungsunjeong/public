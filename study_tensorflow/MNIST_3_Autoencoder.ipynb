{
 "cells": [
  {
   "cell_type": "markdown",
   "metadata": {},
   "source": [
    "# [NA] MNIST classification with autoencoder"
   ]
  },
  {
   "cell_type": "markdown",
   "metadata": {},
   "source": [
    "## Basic classification task with simple autoencoder"
   ]
  },
  {
   "cell_type": "code",
   "execution_count": 11,
   "metadata": {},
   "outputs": [],
   "source": [
    "import pandas as pd\n",
    "import numpy as np\n",
    "import tensorflow as tf\n",
    "import matplotlib.pyplot as plt\n",
    "from tensorflow.examples.tutorials.mnist import input_data\n",
    "import sys\n",
    "sys.path.append('D:/Wisdom/workspace_python/research/model/')\n",
    "import keras_models"
   ]
  },
  {
   "cell_type": "code",
   "execution_count": 2,
   "metadata": {},
   "outputs": [
    {
     "name": "stdout",
     "output_type": "stream",
     "text": [
      "WARNING:tensorflow:From <ipython-input-2-32c3265369be>:1: read_data_sets (from tensorflow.contrib.learn.python.learn.datasets.mnist) is deprecated and will be removed in a future version.\n",
      "Instructions for updating:\n",
      "Please use alternatives such as official/mnist/dataset.py from tensorflow/models.\n",
      "WARNING:tensorflow:From D:\\Anaconda3\\envs\\tensorflow\\lib\\site-packages\\tensorflow\\contrib\\learn\\python\\learn\\datasets\\mnist.py:260: maybe_download (from tensorflow.contrib.learn.python.learn.datasets.base) is deprecated and will be removed in a future version.\n",
      "Instructions for updating:\n",
      "Please write your own downloading logic.\n",
      "WARNING:tensorflow:From D:\\Anaconda3\\envs\\tensorflow\\lib\\site-packages\\tensorflow\\contrib\\learn\\python\\learn\\datasets\\mnist.py:262: extract_images (from tensorflow.contrib.learn.python.learn.datasets.mnist) is deprecated and will be removed in a future version.\n",
      "Instructions for updating:\n",
      "Please use tf.data to implement this functionality.\n",
      "Extracting ../dataset/MNIST_data/train-images-idx3-ubyte.gz\n",
      "WARNING:tensorflow:From D:\\Anaconda3\\envs\\tensorflow\\lib\\site-packages\\tensorflow\\contrib\\learn\\python\\learn\\datasets\\mnist.py:267: extract_labels (from tensorflow.contrib.learn.python.learn.datasets.mnist) is deprecated and will be removed in a future version.\n",
      "Instructions for updating:\n",
      "Please use tf.data to implement this functionality.\n",
      "Extracting ../dataset/MNIST_data/train-labels-idx1-ubyte.gz\n",
      "WARNING:tensorflow:From D:\\Anaconda3\\envs\\tensorflow\\lib\\site-packages\\tensorflow\\contrib\\learn\\python\\learn\\datasets\\mnist.py:110: dense_to_one_hot (from tensorflow.contrib.learn.python.learn.datasets.mnist) is deprecated and will be removed in a future version.\n",
      "Instructions for updating:\n",
      "Please use tf.one_hot on tensors.\n",
      "Extracting ../dataset/MNIST_data/t10k-images-idx3-ubyte.gz\n",
      "Extracting ../dataset/MNIST_data/t10k-labels-idx1-ubyte.gz\n",
      "WARNING:tensorflow:From D:\\Anaconda3\\envs\\tensorflow\\lib\\site-packages\\tensorflow\\contrib\\learn\\python\\learn\\datasets\\mnist.py:290: DataSet.__init__ (from tensorflow.contrib.learn.python.learn.datasets.mnist) is deprecated and will be removed in a future version.\n",
      "Instructions for updating:\n",
      "Please use alternatives such as official/mnist/dataset.py from tensorflow/models.\n",
      "55000\n",
      "5000\n",
      "10000\n"
     ]
    }
   ],
   "source": [
    "mnist=input_data.read_data_sets(\"../dataset/MNIST_data/\",one_hot=True)\n",
    "print(mnist.train.num_examples)\n",
    "print(mnist.validation.num_examples)\n",
    "print(mnist.test.num_examples)"
   ]
  },
  {
   "cell_type": "code",
   "execution_count": 3,
   "metadata": {},
   "outputs": [
    {
     "name": "stdout",
     "output_type": "stream",
     "text": [
      "550\n"
     ]
    }
   ],
   "source": [
    "# parameter and hyperparameter setting\n",
    "pixel=28\n",
    "image_size=pixel*pixel\n",
    "n_class=10\n",
    "n_hidden=200\n",
    "n_latent=50\n",
    "\n",
    "lr=0.001\n",
    "training_epochs=15\n",
    "batch_size=100\n",
    "total_batch=int(mnist.train.num_examples/batch_size)\n",
    "print(total_batch)\n",
    "\n",
    "display_step=1\n",
    "example_to_show=10"
   ]
  },
  {
   "cell_type": "code",
   "execution_count": null,
   "metadata": {},
   "outputs": [],
   "source": []
  },
  {
   "cell_type": "code",
   "execution_count": 4,
   "metadata": {},
   "outputs": [],
   "source": [
    "tf.reset_default_graph()"
   ]
  },
  {
   "cell_type": "code",
   "execution_count": 5,
   "metadata": {},
   "outputs": [],
   "source": [
    "# autoencoder part\n",
    "def weight_variable(shape):\n",
    "#     return tf.Variable(tf.random_normal(shape=shape))\n",
    "    return tf.Variable(tf.truncated_normal(shape=shape,stddev=0.1))\n",
    "\n",
    "def bias_variable(shape):\n",
    "#     return tf.Variable(tf.random_normal(shape=shape))\n",
    "    return tf.Variable(tf.constant(shape=shape,value=0.1))\n",
    "\n",
    "def fc_layer(inputs,n_outputs,activation_fn=tf.nn.relu,keep_prob=1):\n",
    "    n_inputs=int(inputs.shape[1])\n",
    "    W_fc=weight_variable([n_inputs,n_outputs])\n",
    "    b_fc=bias_variable([n_outputs])\n",
    "    logit_fc=tf.matmul(inputs,W_fc)+b_fc\n",
    "    _a_fc=activation_fn(logit_fc)\n",
    "    a_fc=tf.nn.dropout(_a_fc,keep_prob=keep_prob)\n",
    "    return a_fc, logit_fc\n"
   ]
  },
  {
   "cell_type": "code",
   "execution_count": 6,
   "metadata": {},
   "outputs": [
    {
     "name": "stdout",
     "output_type": "stream",
     "text": [
      "WARNING:tensorflow:From <ipython-input-6-55add7a6a092>:31: softmax_cross_entropy_with_logits (from tensorflow.python.ops.nn_ops) is deprecated and will be removed in a future version.\n",
      "Instructions for updating:\n",
      "\n",
      "Future major versions of TensorFlow will allow gradients to flow\n",
      "into the labels input on backprop by default.\n",
      "\n",
      "See `tf.nn.softmax_cross_entropy_with_logits_v2`.\n",
      "\n",
      "Tensor(\"add_5:0\", shape=(), dtype=float32)\n",
      "name: \"Adam_2\"\n",
      "op: \"NoOp\"\n",
      "input: \"^Adam_2/update_Variable/ApplyAdam\"\n",
      "input: \"^Adam_2/update_Variable_1/ApplyAdam\"\n",
      "input: \"^Adam_2/update_Variable_2/ApplyAdam\"\n",
      "input: \"^Adam_2/update_Variable_3/ApplyAdam\"\n",
      "input: \"^Adam_2/update_Variable_4/ApplyAdam\"\n",
      "input: \"^Adam_2/update_Variable_5/ApplyAdam\"\n",
      "input: \"^Adam_2/update_Variable_6/ApplyAdam\"\n",
      "input: \"^Adam_2/update_Variable_7/ApplyAdam\"\n",
      "input: \"^Adam_2/update_Variable_8/ApplyAdam\"\n",
      "input: \"^Adam_2/update_Variable_9/ApplyAdam\"\n",
      "input: \"^Adam_2/Assign\"\n",
      "input: \"^Adam_2/Assign_1\"\n",
      "\n"
     ]
    }
   ],
   "source": [
    "x=tf.placeholder('float32',[None,image_size])\n",
    "y_=tf.placeholder('float32',[None,n_class])\n",
    "\n",
    "a1,_=fc_layer(x,n_hidden,activation_fn=tf.nn.sigmoid,keep_prob=1)\n",
    "a2,_=fc_layer(a1,n_latent,activation_fn=tf.nn.sigmoid,keep_prob=1)\n",
    "a3,_=fc_layer(a2,n_hidden,activation_fn=tf.nn.sigmoid,keep_prob=1)\n",
    "a4,_=fc_layer(a3,image_size,activation_fn=tf.nn.sigmoid,keep_prob=1)\n",
    "\n",
    "# W1=tf.Variable(tf.random_normal([image_size,n_hidden]))\n",
    "# W2=tf.Variable(tf.random_normal([n_hidden,n_latent]))\n",
    "# W3=tf.Variable(tf.random_normal([n_latent,n_hidden]))\n",
    "# W4=tf.Variable(tf.random_normal([n_hidden,image_size]))\n",
    "# b1=tf.Variable(tf.random_normal([n_hidden]))\n",
    "# b2=tf.Variable(tf.random_normal([n_latent]))\n",
    "# b3=tf.Variable(tf.random_normal([n_hidden]))\n",
    "# b4=tf.Variable(tf.random_normal([image_size]))\n",
    "# a1=tf.nn.sigmoid(tf.matmul(x,W1)+b1)\n",
    "# a2=tf.nn.sigmoid(tf.matmul(a1,W2)+b2)\n",
    "# a3=tf.nn.sigmoid(tf.matmul(a2,W3)+b3)\n",
    "# a4=tf.nn.sigmoid(tf.matmul(a3,W4)+b4)\n",
    "\n",
    "\n",
    "cost_autoencoder=tf.reduce_mean(tf.squared_difference(x,a4))\n",
    "optimizer_autoencoder=tf.train.AdamOptimizer(learning_rate=lr).minimize(cost_autoencoder)\n",
    "\n",
    "# softmax classifier part\n",
    "# y=fc_layer(a2,10)\n",
    "Wc1=tf.Variable(tf.random_normal([n_latent,10]))\n",
    "bc1=tf.Variable(tf.random_normal([10]))\n",
    "y=tf.matmul(a2,Wc1)+bc1\n",
    "cost_classifier=tf.reduce_mean(tf.nn.softmax_cross_entropy_with_logits(labels=y_,logits=y))\n",
    "optimizer_classifier=tf.train.AdamOptimizer(learning_rate=lr).minimize(cost_classifier)\n",
    "\n",
    "# Fine tuning optimization\n",
    "cost_total=cost_autoencoder+cost_classifier\n",
    "optimizer_total=tf.train.AdamOptimizer(learning_rate=lr).minimize(cost_total)\n",
    "print(cost_total)\n",
    "print(optimizer_total)\n"
   ]
  },
  {
   "cell_type": "code",
   "execution_count": 7,
   "metadata": {},
   "outputs": [
    {
     "data": {
      "text/plain": [
       "550"
      ]
     },
     "execution_count": 7,
     "metadata": {},
     "output_type": "execute_result"
    }
   ],
   "source": [
    "total_batch"
   ]
  },
  {
   "cell_type": "code",
   "execution_count": 8,
   "metadata": {},
   "outputs": [
    {
     "name": "stdout",
     "output_type": "stream",
     "text": [
      "Epoch:  0001 cost= 0.045875870\n",
      "Epoch:  0002 cost= 0.036276035\n",
      "Epoch:  0003 cost= 0.029373029\n",
      "Epoch:  0004 cost= 0.025005318\n",
      "Epoch:  0005 cost= 0.021167750\n",
      "Epoch:  0006 cost= 0.020097448\n",
      "Epoch:  0007 cost= 0.016877588\n",
      "Epoch:  0008 cost= 0.016187157\n",
      "Epoch:  0009 cost= 0.015052418\n",
      "Epoch:  0010 cost= 0.014025374\n",
      "Epoch:  0011 cost= 0.012001353\n",
      "Epoch:  0012 cost= 0.011880728\n",
      "Epoch:  0013 cost= 0.012969426\n",
      "Epoch:  0014 cost= 0.012158904\n",
      "Epoch:  0015 cost= 0.011076144\n",
      "Autoencoder pre-training optimization finished.\n"
     ]
    }
   ],
   "source": [
    "sess=tf.Session()\n",
    "init=tf.global_variables_initializer()\n",
    "sess.run(init)\n",
    "train_cost_list=[]\n",
    "test_cost_list=[]\n",
    "\n",
    "for epoch in range(training_epochs):\n",
    "    avg_cost=0.\n",
    "    for step in range(total_batch):\n",
    "        batch_xs,batch_ys=mnist.train.next_batch(batch_size)\n",
    "        _,cost_value=sess.run([optimizer_autoencoder,cost_autoencoder],feed_dict={x:batch_xs})\n",
    "        avg_cost+=cost_value\n",
    "    train_cost_list.append(avg_cost/total_batch)\n",
    "    test_cost_list.append(sess.run(cost_autoencoder,feed_dict={x:mnist.test.images}))\n",
    "    if epoch % display_step ==0:\n",
    "        print(\"Epoch: \", '%04d' %(epoch+1), \"cost=\",\"{:.9f}\".format(cost_value))\n",
    "print(\"Autoencoder pre-training optimization finished.\")\n"
   ]
  },
  {
   "cell_type": "code",
   "execution_count": 9,
   "metadata": {},
   "outputs": [
    {
     "name": "stderr",
     "output_type": "stream",
     "text": [
      "D:\\Anaconda3\\envs\\tensorflow\\lib\\site-packages\\matplotlib\\figure.py:445: UserWarning: Matplotlib is currently using module://ipykernel.pylab.backend_inline, which is a non-GUI backend, so cannot show the figure.\n",
      "  % get_backend())\n"
     ]
    },
    {
     "data": {
      "image/png": "[encoded data removed]",
      "text/plain": [
       "<Figure size 720x144 with 20 Axes>"
      ]
     },
     "metadata": {
      "needs_background": "light"
     },
     "output_type": "display_data"
    }
   ],
   "source": [
    "x_reconstructed=sess.run(a4,feed_dict={x:mnist.test.images[:example_to_show]})\n",
    "f,a=plt.subplots(2,10,figsize=(10,2))\n",
    "for i in range(example_to_show):\n",
    "    a[0][i].imshow(np.reshape(mnist.test.images[i],(pixel,pixel)))\n",
    "    a[1][i].imshow(np.reshape(x_reconstructed[i],(pixel,pixel)))\n",
    "f.show()\n",
    "plt.draw()\n",
    "plt.show()"
   ]
  },
  {
   "cell_type": "code",
   "execution_count": 18,
   "metadata": {},
   "outputs": [
    {
     "data": {
      "text/plain": [
       "<matplotlib.axes._subplots.AxesSubplot at 0x13b86c42d68>"
      ]
     },
     "execution_count": 18,
     "metadata": {},
     "output_type": "execute_result"
    },
    {
     "data": {
      "image/png": "[encoded data removed]",
      "text/plain": [
       "<Figure size 432x288 with 1 Axes>"
      ]
     },
     "metadata": {
      "needs_background": "light"
     },
     "output_type": "display_data"
    }
   ],
   "source": [
    "cost_list=pd.DataFrame([train_cost_list,test_cost_list])\n",
    "a=cost_list.transpose()\n",
    "a.plot()"
   ]
  },
  {
   "cell_type": "code",
   "execution_count": 17,
   "metadata": {},
   "outputs": [
    {
     "data": {
      "text/plain": [
       "<matplotlib.axes._subplots.AxesSubplot at 0x13b868caf60>"
      ]
     },
     "execution_count": 17,
     "metadata": {},
     "output_type": "execute_result"
    },
    {
     "data": {
      "image/png": "[encoded data removed]",
      "text/plain": [
       "<Figure size 432x288 with 1 Axes>"
      ]
     },
     "metadata": {
      "needs_background": "light"
     },
     "output_type": "display_data"
    }
   ],
   "source": []
  },
  {
   "cell_type": "code",
   "execution_count": 10,
   "metadata": {},
   "outputs": [
    {
     "name": "stdout",
     "output_type": "stream",
     "text": [
      "Epoch:  0001 cost= 0.224019706\n",
      "Epoch:  0002 cost= 0.094335817\n",
      "Epoch:  0003 cost= 0.162616387\n",
      "Epoch:  0004 cost= 0.128618419\n",
      "Epoch:  0005 cost= 0.047837898\n",
      "Epoch:  0006 cost= 0.060543261\n",
      "Epoch:  0007 cost= 0.099329770\n",
      "Epoch:  0008 cost= 0.073805630\n",
      "Epoch:  0009 cost= 0.038858224\n",
      "Epoch:  0010 cost= 0.027226072\n",
      "Epoch:  0011 cost= 0.016398299\n",
      "Epoch:  0012 cost= 0.035922479\n",
      "Epoch:  0013 cost= 0.039171714\n",
      "Epoch:  0014 cost= 0.012315679\n",
      "Epoch:  0015 cost= 0.012558797\n",
      "Classifier optimization finished.\n"
     ]
    }
   ],
   "source": [
    "plt.close()\n",
    "# training softmax classificer with latent features\n",
    "avg_cost_list=[]\n",
    "\n",
    "for epoch in range(training_epochs):\n",
    "    avg_cost=0.\n",
    "    for step in range(total_batch):\n",
    "        batch_xs,batch_ys=mnist.train.next_batch(batch_size)\n",
    "        _,cost_value=sess.run([optimizer_classifier,cost_classifier],\n",
    "                              feed_dict={x:batch_xs,y_:batch_ys})\n",
    "    if epoch % display_step ==0:\n",
    "        print(\"Epoch: \", '%04d' %(epoch+1), \"cost=\",\"{:.9f}\".format(cost_value))\n",
    "print(\"Classifier optimization finished.\")"
   ]
  },
  {
   "cell_type": "code",
   "execution_count": 11,
   "metadata": {},
   "outputs": [
    {
     "name": "stdout",
     "output_type": "stream",
     "text": [
      "Accuracy (before fine-tuning): 97.93999791145325%\n"
     ]
    }
   ],
   "source": [
    "correct_prediction=tf.equal(tf.argmax(y,1),tf.argmax(y_,1))\n",
    "accuracy=tf.reduce_mean(tf.cast(correct_prediction,dtype='float32'))\n",
    "ac=sess.run(accuracy,feed_dict={x:mnist.test.images,y_:mnist.test.labels})\n",
    "print('Accuracy (before fine-tuning): '+str(ac*100)+'%')"
   ]
  },
  {
   "cell_type": "code",
   "execution_count": 12,
   "metadata": {},
   "outputs": [
    {
     "name": "stdout",
     "output_type": "stream",
     "text": [
      "Epoch:  0001 cost= 0.060781434\n",
      "Epoch:  0002 cost= 0.033292487\n",
      "Epoch:  0003 cost= 0.026264925\n",
      "Epoch:  0004 cost= 0.044873111\n",
      "Epoch:  0005 cost= 0.053562589\n",
      "Epoch:  0006 cost= 0.028308801\n",
      "Epoch:  0007 cost= 0.028287996\n",
      "Epoch:  0008 cost= 0.021506064\n",
      "Epoch:  0009 cost= 0.018515436\n",
      "Epoch:  0010 cost= 0.019438878\n",
      "Epoch:  0011 cost= 0.022516564\n",
      "Epoch:  0012 cost= 0.023160517\n",
      "Epoch:  0013 cost= 0.019391689\n",
      "Epoch:  0014 cost= 0.016047213\n",
      "Epoch:  0015 cost= 0.014641181\n",
      "Fine-tuning softmax model optimization finished.\n"
     ]
    }
   ],
   "source": [
    "# fine-tuning softmax model\n",
    "avg_cost_list=[]\n",
    "\n",
    "for epoch in range(training_epochs):\n",
    "    avg_cost=0.\n",
    "    for step in range(total_batch):\n",
    "        batch_xs,batch_ys=mnist.train.next_batch(batch_size)\n",
    "        _,cost_value=sess.run([optimizer_total,cost_total],\n",
    "                              feed_dict={x:batch_xs,y_:batch_ys})\n",
    "    if epoch % display_step ==0:\n",
    "        print(\"Epoch: \", '%04d' %(epoch+1), \"cost=\",\"{:.9f}\".format(cost_value))\n",
    "print(\"Fine-tuning softmax model optimization finished.\")"
   ]
  },
  {
   "cell_type": "code",
   "execution_count": 13,
   "metadata": {},
   "outputs": [
    {
     "data": {
      "image/png": "[encoded data removed]",
      "text/plain": [
       "<Figure size 720x144 with 20 Axes>"
      ]
     },
     "metadata": {
      "needs_background": "light"
     },
     "output_type": "display_data"
    }
   ],
   "source": [
    "x_reconstructed=sess.run(a4,feed_dict={x:mnist.test.images[:example_to_show]})\n",
    "f,a=plt.subplots(2,10,figsize=(10,2))\n",
    "for i in range(example_to_show):\n",
    "    a[0][i].imshow(np.reshape(mnist.test.images[i],(pixel,pixel)))\n",
    "    a[1][i].imshow(np.reshape(x_reconstructed[i],(pixel,pixel)))\n",
    "f.show()\n",
    "plt.draw()\n",
    "plt.show()"
   ]
  },
  {
   "cell_type": "code",
   "execution_count": 14,
   "metadata": {},
   "outputs": [
    {
     "name": "stdout",
     "output_type": "stream",
     "text": [
      "Accuracy (before fine-tuning): 98.089998960495%\n"
     ]
    }
   ],
   "source": [
    "ac=sess.run(accuracy,feed_dict={x:mnist.test.images,y_:mnist.test.labels})\n",
    "print('Accuracy (before fine-tuning): '+str(ac*100)+'%')\n",
    "# is there significant change in accuracy? \n",
    "# why? maybe small learning rate? or network modeling?"
   ]
  },
  {
   "cell_type": "code",
   "execution_count": 15,
   "metadata": {},
   "outputs": [],
   "source": [
    "tf.reset_default_graph()\n",
    "sess.close()"
   ]
  },
  {
   "cell_type": "code",
   "execution_count": 7,
   "metadata": {},
   "outputs": [],
   "source": []
  },
  {
   "cell_type": "code",
   "execution_count": 8,
   "metadata": {},
   "outputs": [
    {
     "name": "stdout",
     "output_type": "stream",
     "text": [
      "Extracting ../data/MNIST_data\\train-images-idx3-ubyte.gz\n",
      "Extracting ../data/MNIST_data\\train-labels-idx1-ubyte.gz\n",
      "Extracting ../data/MNIST_data\\t10k-images-idx3-ubyte.gz\n",
      "Extracting ../data/MNIST_data\\t10k-labels-idx1-ubyte.gz\n"
     ]
    }
   ],
   "source": [
    "mnist = input_data.read_data_sets('../data/MNIST_data', one_hot=True)\n",
    "x_train, _ = mnist.train.images, mnist.train.labels\n",
    "x_test = mnist.test.images"
   ]
  },
  {
   "cell_type": "code",
   "execution_count": 44,
   "metadata": {},
   "outputs": [
    {
     "name": "stdout",
     "output_type": "stream",
     "text": [
      "Train on 55000 samples, validate on 10000 samples\n",
      "Epoch 1/20\n",
      "55000/55000 [==============================] - 4s 76us/step - loss: 0.0718 - val_loss: 0.0421\n",
      "Epoch 2/20\n",
      "55000/55000 [==============================] - 3s 52us/step - loss: 0.0356 - val_loss: 0.0294\n",
      "Epoch 3/20\n",
      "55000/55000 [==============================] - 3s 62us/step - loss: 0.0263 - val_loss: 0.0230\n",
      "Epoch 4/20\n",
      "55000/55000 [==============================] - 3s 49us/step - loss: 0.0221 - val_loss: 0.0203\n",
      "Epoch 5/20\n",
      "55000/55000 [==============================] - 3s 48us/step - loss: 0.0199 - val_loss: 0.0184\n",
      "Epoch 6/20\n",
      "55000/55000 [==============================] - 3s 61us/step - loss: 0.0181 - val_loss: 0.0169\n",
      "Epoch 7/20\n",
      "55000/55000 [==============================] - 3s 48us/step - loss: 0.0170 - val_loss: 0.0161\n",
      "Epoch 8/20\n",
      "55000/55000 [==============================] - 3s 50us/step - loss: 0.0163 - val_loss: 0.0155\n",
      "Epoch 9/20\n",
      "55000/55000 [==============================] - 3s 58us/step - loss: 0.0158 - val_loss: 0.0150\n",
      "Epoch 10/20\n",
      "55000/55000 [==============================] - 3s 52us/step - loss: 0.0152 - val_loss: 0.0145\n",
      "Epoch 11/20\n",
      "55000/55000 [==============================] - 3s 56us/step - loss: 0.0147 - val_loss: 0.0142\n",
      "Epoch 12/20\n",
      "55000/55000 [==============================] - 3s 63us/step - loss: 0.0143 - val_loss: 0.0137\n",
      "Epoch 13/20\n",
      "55000/55000 [==============================] - 3s 55us/step - loss: 0.0139 - val_loss: 0.0134\n",
      "Epoch 14/20\n",
      "55000/55000 [==============================] - 4s 69us/step - loss: 0.0136 - val_loss: 0.0130\n",
      "Epoch 15/20\n",
      "55000/55000 [==============================] - 3s 59us/step - loss: 0.0133 - val_loss: 0.0128\n",
      "Epoch 16/20\n",
      "55000/55000 [==============================] - 3s 58us/step - loss: 0.0130 - val_loss: 0.0125\n",
      "Epoch 17/20\n",
      "55000/55000 [==============================] - 3s 63us/step - loss: 0.0128 - val_loss: 0.0122\n",
      "Epoch 18/20\n",
      "55000/55000 [==============================] - 3s 56us/step - loss: 0.0125 - val_loss: 0.0120\n",
      "Epoch 19/20\n",
      "55000/55000 [==============================] - 3s 63us/step - loss: 0.0123 - val_loss: 0.0118\n",
      "Epoch 20/20\n",
      "55000/55000 [==============================] - 3s 58us/step - loss: 0.0120 - val_loss: 0.0116\n"
     ]
    },
    {
     "data": {
      "text/plain": [
       "<tensorflow.python.keras.callbacks.History at 0x24119a95860>"
      ]
     },
     "execution_count": 44,
     "metadata": {},
     "output_type": "execute_result"
    }
   ],
   "source": [
    "input_shape=(784,)\n",
    "\n",
    "inputs=tf.keras.layers.Input(shape=input_shape,name='encoder_input')\n",
    "x=inputs\n",
    "x = tf.keras.layers.Dense(64, activation='relu')(x)\n",
    "z=tf.keras.layers.Dense(32,activation='relu',name='latent_vector')(x)\n",
    "encoder=tf.keras.models.Model(inputs,z,name='encoder')\n",
    "\n",
    "z_inputs=tf.keras.layers.Input(shape=(32,),name='decoder_input')\n",
    "x = tf.keras.layers.Dense(64, activation='relu')(z_inputs)\n",
    "outputs = tf.keras.layers.Dense(784, activation='sigmoid')(x)\n",
    "decoder=tf.keras.models.Model(z_inputs,outputs,name='decoder')\n",
    "\n",
    "autoencoder=tf.keras.models.Model(inputs,decoder(encoder(inputs)),name='autoencoder')\n",
    "autoencoder.compile(loss='mse',optimizer='adam')\n",
    "\n",
    "autoencoder.fit(x_train, x_train,\n",
    "                epochs=20,\n",
    "                batch_size=256,\n",
    "                shuffle=True,\n",
    "                validation_data=(x_test, x_test))\n"
   ]
  },
  {
   "cell_type": "code",
   "execution_count": 51,
   "metadata": {},
   "outputs": [],
   "source": [
    "f=autoencoder.predict(x_test[0:1])\n",
    "# with open('C:/Users/csjeong/Desktop/predicted_mnist.txt','w') as b:\n",
    "#     for a in f[0]:\n",
    "#         b.writelines(str(a)+'\\n')\n",
    "with open('C:/Users/csjeong/Desktop/original_mnist.txt','w') as b:\n",
    "    for a in x_test[0]:\n",
    "        b.writelines(str(a)+'\\n')\n",
    "    \n",
    "\n"
   ]
  },
  {
   "cell_type": "code",
   "execution_count": 45,
   "metadata": {},
   "outputs": [
    {
     "data": {
      "image/png": "[encoded data removed]",
      "text/plain": [
       "<Figure size 1440x288 with 20 Axes>"
      ]
     },
     "metadata": {
      "needs_background": "light"
     },
     "output_type": "display_data"
    }
   ],
   "source": [
    "\n",
    "encoded_imgs = encoder.predict(x_test)\n",
    "decoded_imgs = decoder.predict(encoded_imgs)\n",
    "n = 10  # how many digits we will display\n",
    "plt.figure(figsize=(20, 4))\n",
    "for i in range(n):\n",
    "    # display original\n",
    "    ax = plt.subplot(2, n, i + 1)\n",
    "    plt.imshow(x_test[i].reshape(28, 28))\n",
    "    plt.gray()\n",
    "    ax.get_xaxis().set_visible(False)\n",
    "    ax.get_yaxis().set_visible(False)\n",
    "\n",
    "    # display reconstruction\n",
    "    ax = plt.subplot(2, n, i + 1 + n)\n",
    "    plt.imshow(decoded_imgs[i].reshape(28, 28))\n",
    "    plt.gray()\n",
    "    ax.get_xaxis().set_visible(False)\n",
    "    ax.get_yaxis().set_visible(False)\n",
    "plt.show()"
   ]
  },
  {
   "cell_type": "code",
   "execution_count": 27,
   "metadata": {},
   "outputs": [
    {
     "data": {
      "text/plain": [
       "784"
      ]
     },
     "execution_count": 27,
     "metadata": {},
     "output_type": "execute_result"
    }
   ],
   "source": [
    "autoencoder.save('test.hdf5')"
   ]
  },
  {
   "cell_type": "code",
   "execution_count": 109,
   "metadata": {},
   "outputs": [],
   "source": [
    "import tensorflow as tf\n",
    "import matplotlib.pyplot as plt\n",
    "from sklearn.metrics import auc, roc_curve\n",
    "\n",
    "class MyKeras(tf.keras.Model):\n",
    "    def __init__(self, inputs, outputs,**kw):\n",
    "        super(MyKeras, self).__init__(inputs, outputs,**kw)\n",
    "\n",
    "    def fit(self, **kw):\n",
    "        self.hist = super(MyKeras, self).fit(**kw)\n",
    "\n",
    "    def get_info(self):\n",
    "        print('------------------------ GET Model Info. ------------------------')\n",
    "        print('Current class and base class(es):\\t')\n",
    "        class_list = []\n",
    "        for base in self.__class__.mro():\n",
    "            class_list.append(base.__name__)\n",
    "        print(' < '.join(class_list))\n",
    "        print('\\nSummary my model:')\n",
    "        self.summary()\n",
    "\n",
    "    def plot_epoch_acc_loss(self):\n",
    "        fig, loss_ax = plt.subplots()\n",
    "        acc_ax = loss_ax.twinx()\n",
    "        loss_ax.plot(self.hist.history['loss'], 'y', label='train loss')\n",
    "        loss_ax.plot(self.hist.history['val_loss'], 'r', label='val loss')\n",
    "        loss_ax.set_xlabel('epoch')\n",
    "        loss_ax.set_ylabel('loss')\n",
    "        loss_ax.legend(loc='lower left', fancybox=True)\n",
    "\n",
    "        acc_ax.plot(self.hist.history['acc'], 'b', label='train acc')\n",
    "        acc_ax.plot(self.hist.history['val_acc'], 'g', label='val acc')\n",
    "        acc_ax.set_ylabel('accuracy')\n",
    "        acc_ax.legend(loc='upper left', fancybox=True)\n",
    "        plt.show()\n",
    "\n",
    "    def plot_roc_curve(self,test_x,test_y):\n",
    "        y_test=[]\n",
    "        for v in test_y:\n",
    "            y_test.append(list(v).index(1))\n",
    "        y_pred = self.predict(test_x)[:, 1]\n",
    "        fpr, tpr, threshold = roc_curve(y_test, y_pred, pos_label=1)\n",
    "        roc_auc = auc(fpr, tpr)\n",
    "        plt.figure()\n",
    "        plt.plot(fpr, tpr, color='darkorange',\n",
    "                 lw=3, label='ROC curve (AUROC = %0.2f)' % roc_auc)\n",
    "\n",
    "        plt.plot([0, 1], [0, 1], color='navy', lw=2, linestyle='--')\n",
    "        plt.xlim([0.0, 1.0])\n",
    "        plt.ylim([0.0, 1.05])\n",
    "        plt.xlabel('False Positive Rate')\n",
    "        plt.ylabel('True Positive Rate')\n",
    "        plt.title('Receiver operating characteristic curve')\n",
    "        plt.legend(loc=\"lower right\")\n",
    "        plt.show()\n",
    "\n",
    "class LinearClassifier(MyKeras):\n",
    "    def __init__(self, inputs, optimizer=tf.keras.optimizers.Adam()):\n",
    "        outputs = tf.keras.layers.Dense(2, activation=tf.keras.activations.linear)(inputs)\n",
    "        super(LinearClassifier, self).__init__(inputs, outputs)\n",
    "        self.optimizer = optimizer\n",
    "        super(LinearClassifier, self).compile(loss=tf.keras.losses.categorical_crossentropy,\n",
    "                                                optimizer=self.optimizer, metrics=['accuracy'])\n",
    "\n",
    "class LogisticRegression(MyKeras):\n",
    "    def __init__(self, inputs, optimizer=tf.keras.optimizers.Adam()):\n",
    "        outputs = tf.keras.layers.Dense(2, activation=tf.nn.softmax)(inputs)\n",
    "        super(LogisticRegression, self).__init__(inputs, outputs)\n",
    "        self.optimizer = optimizer\n",
    "        super(LogisticRegression, self).compile(loss=tf.keras.losses.categorical_crossentropy,\n",
    "                                                optimizer=self.optimizer, metrics=['accuracy'])\n",
    "\n",
    "\n",
    "class MultiLayerPerceptron(MyKeras):\n",
    "    def __init__(self, inputs, optimizer=tf.keras.optimizers.Adam()):\n",
    "        x = tf.keras.layers.Dense(500, activation=tf.nn.relu)(inputs)\n",
    "        outputs = tf.keras.layers.Dense(2, activation=tf.nn.softmax)(x)\n",
    "        super(MultiLayerPerceptron, self).__init__(inputs, outputs)\n",
    "        self.optimizer = optimizer\n",
    "        super(MultiLayerPerceptron, self).compile(loss=tf.keras.losses.categorical_crossentropy,\n",
    "                                                optimizer=self.optimizer, metrics=['accuracy'])\n",
    "\n",
    "\n",
    "\n",
    "def plot_history(history):\n",
    "\n",
    "    x= range(1,len(history['val_loss'])+1)\n",
    "\n",
    "    plt.figure(figsize=(8,12))\n",
    "\n",
    "    plt.subplot(2,1,1)\n",
    "    plt.xlabel('Epoch')\n",
    "    plt.ylabel('Mean Abs Error [MPG]')\n",
    "    plt.plot(x, history['mean_absolute_error'],\n",
    "           label='Train Error')\n",
    "    plt.plot(x, history['val_mean_absolute_error'],\n",
    "           label = 'Val Error')\n",
    "    plt.legend()\n",
    "\n",
    "    plt.subplot(2,1,2)\n",
    "    plt.xlabel('Epoch')\n",
    "    plt.ylabel('Mean Square Error [$MPG^2$]')\n",
    "    plt.plot(x, history['mean_squared_error'],\n",
    "           label='Train Error')\n",
    "    plt.plot(x, history['val_mean_squared_error'],\n",
    "           label = 'Val Error')\n",
    "    plt.legend()\n",
    "    plt.show()"
   ]
  },
  {
   "cell_type": "code",
   "execution_count": 157,
   "metadata": {},
   "outputs": [],
   "source": [
    "class AutoEncoder(MyKeras):\n",
    "    def __init__(self, inputs, optimizer=tf.keras.optimizers.Adam()):\n",
    "        self.inputs=inputs\n",
    "        self.encoded = tf.keras.layers.Dense(64, activation='relu')(self.inputs)\n",
    "        self.z = tf.keras.layers.Dense(32, activation='relu')(self.encoded)\n",
    "        self.encoder=super(object,self.inputs,self.z)\n",
    "        \n",
    "        self.z_inputs=tf.keras.layers.Input(shape=(32,),name='decoder_input')\n",
    "        self.decoded = tf.keras.layers.Dense(64, activation='relu')(self.z_inputs)\n",
    "        self.outputs = tf.keras.layers.Dense(int(inputs.shape[1]), activation='sigmoid')(self.decoded)\n",
    "        self.decoder=super(object,self.z_inputs,self.outputs)\n",
    "        print(self.encoder)\n",
    "        print(self.decoder)\n",
    "#         super(AutoEncoder, self).__init__(self.inputs, self.decoder(self.encoder(self.inputs)))\n",
    "#         self.optimizer = optimizer\n",
    "#         super(AutoEncoder, self).compile(loss='mse', optimizer=self.optimizer,\n",
    "#                                          metrics=['mean_squared_error', 'mean_absolute_error', 'cosine_proximity'])\n",
    "#     def encoder(self,super):\n",
    "#         return super(inputs=self.inputs,outputs=self.z)\n",
    "    \n",
    "#     def decoder(self,super):\n",
    "#         return super(inputs=self.z_inputs,outputs=self.outputs)\n",
    "\n"
   ]
  },
  {
   "cell_type": "code",
   "execution_count": 158,
   "metadata": {
    "scrolled": true
   },
   "outputs": [
    {
     "ename": "TypeError",
     "evalue": "super() takes at most 2 arguments (3 given)",
     "output_type": "error",
     "traceback": [
      "\u001b[1;31m---------------------------------------------------------------------------\u001b[0m",
      "\u001b[1;31mTypeError\u001b[0m                                 Traceback (most recent call last)",
      "\u001b[1;32m<ipython-input-158-a4b04d56f120>\u001b[0m in \u001b[0;36m<module>\u001b[1;34m\u001b[0m\n\u001b[0;32m      9\u001b[0m \u001b[0minput_img\u001b[0m\u001b[1;33m=\u001b[0m\u001b[0mtf\u001b[0m\u001b[1;33m.\u001b[0m\u001b[0mkeras\u001b[0m\u001b[1;33m.\u001b[0m\u001b[0mlayers\u001b[0m\u001b[1;33m.\u001b[0m\u001b[0mInput\u001b[0m\u001b[1;33m(\u001b[0m\u001b[0mshape\u001b[0m\u001b[1;33m=\u001b[0m\u001b[1;33m(\u001b[0m\u001b[1;36m784\u001b[0m\u001b[1;33m,\u001b[0m\u001b[1;33m)\u001b[0m\u001b[1;33m)\u001b[0m\u001b[1;33m\u001b[0m\u001b[1;33m\u001b[0m\u001b[0m\n\u001b[0;32m     10\u001b[0m \u001b[0mint\u001b[0m\u001b[1;33m(\u001b[0m\u001b[0minput_img\u001b[0m\u001b[1;33m.\u001b[0m\u001b[0mshape\u001b[0m\u001b[1;33m[\u001b[0m\u001b[1;36m1\u001b[0m\u001b[1;33m]\u001b[0m\u001b[1;33m)\u001b[0m\u001b[1;33m\u001b[0m\u001b[1;33m\u001b[0m\u001b[0m\n\u001b[1;32m---> 11\u001b[1;33m \u001b[0mautoencoder\u001b[0m\u001b[1;33m=\u001b[0m\u001b[0mAutoEncoder\u001b[0m\u001b[1;33m(\u001b[0m\u001b[0minput_img\u001b[0m\u001b[1;33m)\u001b[0m\u001b[1;33m\u001b[0m\u001b[1;33m\u001b[0m\u001b[0m\n\u001b[0m\u001b[0;32m     12\u001b[0m \u001b[1;31m# autoencoder.fit(x=x_train, y=x_train,epochs=50,batch_size=256,shuffle=True,validation_data=(x_test, x_test))\u001b[0m\u001b[1;33m\u001b[0m\u001b[1;33m\u001b[0m\u001b[1;33m\u001b[0m\u001b[0m\n",
      "\u001b[1;32m<ipython-input-157-683c7f5fe030>\u001b[0m in \u001b[0;36m__init__\u001b[1;34m(self, inputs, optimizer)\u001b[0m\n\u001b[0;32m      4\u001b[0m         \u001b[0mself\u001b[0m\u001b[1;33m.\u001b[0m\u001b[0mencoded\u001b[0m \u001b[1;33m=\u001b[0m \u001b[0mtf\u001b[0m\u001b[1;33m.\u001b[0m\u001b[0mkeras\u001b[0m\u001b[1;33m.\u001b[0m\u001b[0mlayers\u001b[0m\u001b[1;33m.\u001b[0m\u001b[0mDense\u001b[0m\u001b[1;33m(\u001b[0m\u001b[1;36m64\u001b[0m\u001b[1;33m,\u001b[0m \u001b[0mactivation\u001b[0m\u001b[1;33m=\u001b[0m\u001b[1;34m'relu'\u001b[0m\u001b[1;33m)\u001b[0m\u001b[1;33m(\u001b[0m\u001b[0mself\u001b[0m\u001b[1;33m.\u001b[0m\u001b[0minputs\u001b[0m\u001b[1;33m)\u001b[0m\u001b[1;33m\u001b[0m\u001b[1;33m\u001b[0m\u001b[0m\n\u001b[0;32m      5\u001b[0m         \u001b[0mself\u001b[0m\u001b[1;33m.\u001b[0m\u001b[0mz\u001b[0m \u001b[1;33m=\u001b[0m \u001b[0mtf\u001b[0m\u001b[1;33m.\u001b[0m\u001b[0mkeras\u001b[0m\u001b[1;33m.\u001b[0m\u001b[0mlayers\u001b[0m\u001b[1;33m.\u001b[0m\u001b[0mDense\u001b[0m\u001b[1;33m(\u001b[0m\u001b[1;36m32\u001b[0m\u001b[1;33m,\u001b[0m \u001b[0mactivation\u001b[0m\u001b[1;33m=\u001b[0m\u001b[1;34m'relu'\u001b[0m\u001b[1;33m)\u001b[0m\u001b[1;33m(\u001b[0m\u001b[0mself\u001b[0m\u001b[1;33m.\u001b[0m\u001b[0mencoded\u001b[0m\u001b[1;33m)\u001b[0m\u001b[1;33m\u001b[0m\u001b[1;33m\u001b[0m\u001b[0m\n\u001b[1;32m----> 6\u001b[1;33m         \u001b[0mself\u001b[0m\u001b[1;33m.\u001b[0m\u001b[0mencoder\u001b[0m\u001b[1;33m=\u001b[0m\u001b[0msuper\u001b[0m\u001b[1;33m(\u001b[0m\u001b[0mobject\u001b[0m\u001b[1;33m,\u001b[0m\u001b[0mself\u001b[0m\u001b[1;33m.\u001b[0m\u001b[0minputs\u001b[0m\u001b[1;33m,\u001b[0m\u001b[0mself\u001b[0m\u001b[1;33m.\u001b[0m\u001b[0mz\u001b[0m\u001b[1;33m)\u001b[0m\u001b[1;33m\u001b[0m\u001b[1;33m\u001b[0m\u001b[0m\n\u001b[0m\u001b[0;32m      7\u001b[0m \u001b[1;33m\u001b[0m\u001b[0m\n\u001b[0;32m      8\u001b[0m         \u001b[0mself\u001b[0m\u001b[1;33m.\u001b[0m\u001b[0mz_inputs\u001b[0m\u001b[1;33m=\u001b[0m\u001b[0mtf\u001b[0m\u001b[1;33m.\u001b[0m\u001b[0mkeras\u001b[0m\u001b[1;33m.\u001b[0m\u001b[0mlayers\u001b[0m\u001b[1;33m.\u001b[0m\u001b[0mInput\u001b[0m\u001b[1;33m(\u001b[0m\u001b[0mshape\u001b[0m\u001b[1;33m=\u001b[0m\u001b[1;33m(\u001b[0m\u001b[1;36m32\u001b[0m\u001b[1;33m,\u001b[0m\u001b[1;33m)\u001b[0m\u001b[1;33m,\u001b[0m\u001b[0mname\u001b[0m\u001b[1;33m=\u001b[0m\u001b[1;34m'decoder_input'\u001b[0m\u001b[1;33m)\u001b[0m\u001b[1;33m\u001b[0m\u001b[1;33m\u001b[0m\u001b[0m\n",
      "\u001b[1;31mTypeError\u001b[0m: super() takes at most 2 arguments (3 given)"
     ]
    }
   ],
   "source": [
    "from tensorflow.keras.datasets import mnist\n",
    "import numpy as np\n",
    "(x_train, _), (x_test, _) = mnist.load_data()\n",
    "x_train = x_train.astype('float32') / 255.\n",
    "x_test = x_test.astype('float32') / 255.\n",
    "x_train = x_train.reshape((len(x_train), np.prod(x_train.shape[1:])))\n",
    "x_test = x_test.reshape((len(x_test), np.prod(x_test.shape[1:])))\n",
    "encoding_dim=32\n",
    "input_img=tf.keras.layers.Input(shape=(784,))\n",
    "int(input_img.shape[1])\n",
    "autoencoder=AutoEncoder(input_img)\n",
    "# autoencoder.fit(x=x_train, y=x_train,epochs=50,batch_size=256,shuffle=True,validation_data=(x_test, x_test))\n"
   ]
  },
  {
   "cell_type": "code",
   "execution_count": 42,
   "metadata": {},
   "outputs": [
    {
     "data": {
      "image/png": "[encoded data removed]",
      "text/plain": [
       "<Figure size 576x864 with 2 Axes>"
      ]
     },
     "metadata": {
      "needs_background": "light"
     },
     "output_type": "display_data"
    }
   ],
   "source": [
    "his=autoencoder.hist.history\n",
    "plot_history(his)"
   ]
  },
  {
   "cell_type": "code",
   "execution_count": 56,
   "metadata": {},
   "outputs": [
    {
     "ename": "AttributeError",
     "evalue": "'Model' object has no attribute '_name'",
     "output_type": "error",
     "traceback": [
      "\u001b[1;31m---------------------------------------------------------------------------\u001b[0m",
      "\u001b[1;31mAttributeError\u001b[0m                            Traceback (most recent call last)",
      "\u001b[1;32m<ipython-input-56-7af782e20a5c>\u001b[0m in \u001b[0;36m<module>\u001b[1;34m\u001b[0m\n\u001b[0;32m      6\u001b[0m \u001b[0mdecoder_layer\u001b[0m \u001b[1;33m=\u001b[0m \u001b[0mautoencoder\u001b[0m\u001b[1;33m.\u001b[0m\u001b[0mlayers\u001b[0m\u001b[1;33m[\u001b[0m\u001b[1;33m-\u001b[0m\u001b[1;36m1\u001b[0m\u001b[1;33m]\u001b[0m\u001b[1;33m\u001b[0m\u001b[1;33m\u001b[0m\u001b[0m\n\u001b[0;32m      7\u001b[0m \u001b[1;31m# decoder_layer.get_config()\u001b[0m\u001b[1;33m\u001b[0m\u001b[1;33m\u001b[0m\u001b[1;33m\u001b[0m\u001b[0m\n\u001b[1;32m----> 8\u001b[1;33m \u001b[0mdecoder\u001b[0m \u001b[1;33m=\u001b[0m \u001b[0mtf\u001b[0m\u001b[1;33m.\u001b[0m\u001b[0mkeras\u001b[0m\u001b[1;33m.\u001b[0m\u001b[0mmodels\u001b[0m\u001b[1;33m.\u001b[0m\u001b[0mModel\u001b[0m\u001b[1;33m(\u001b[0m\u001b[0mautoencoder\u001b[0m\u001b[1;33m.\u001b[0m\u001b[0mz\u001b[0m\u001b[1;33m,\u001b[0m \u001b[0mautoencoder\u001b[0m\u001b[1;33m.\u001b[0m\u001b[0moutputs\u001b[0m\u001b[1;33m)\u001b[0m\u001b[1;33m\u001b[0m\u001b[1;33m\u001b[0m\u001b[0m\n\u001b[0m\u001b[0;32m      9\u001b[0m \u001b[1;33m\u001b[0m\u001b[0m\n\u001b[0;32m     10\u001b[0m \u001b[1;31m# encoded_imgs = encoder.predict(x_test)\u001b[0m\u001b[1;33m\u001b[0m\u001b[1;33m\u001b[0m\u001b[1;33m\u001b[0m\u001b[0m\n",
      "\u001b[1;32md:\\anaconda3\\envs\\tensorflow\\lib\\site-packages\\tensorflow\\python\\keras\\engine\\training.py\u001b[0m in \u001b[0;36m__init__\u001b[1;34m(self, *args, **kwargs)\u001b[0m\n\u001b[0;32m    119\u001b[0m \u001b[1;33m\u001b[0m\u001b[0m\n\u001b[0;32m    120\u001b[0m   \u001b[1;32mdef\u001b[0m \u001b[0m__init__\u001b[0m\u001b[1;33m(\u001b[0m\u001b[0mself\u001b[0m\u001b[1;33m,\u001b[0m \u001b[1;33m*\u001b[0m\u001b[0margs\u001b[0m\u001b[1;33m,\u001b[0m \u001b[1;33m**\u001b[0m\u001b[0mkwargs\u001b[0m\u001b[1;33m)\u001b[0m\u001b[1;33m:\u001b[0m\u001b[1;33m\u001b[0m\u001b[1;33m\u001b[0m\u001b[0m\n\u001b[1;32m--> 121\u001b[1;33m     \u001b[0msuper\u001b[0m\u001b[1;33m(\u001b[0m\u001b[0mModel\u001b[0m\u001b[1;33m,\u001b[0m \u001b[0mself\u001b[0m\u001b[1;33m)\u001b[0m\u001b[1;33m.\u001b[0m\u001b[0m__init__\u001b[0m\u001b[1;33m(\u001b[0m\u001b[1;33m*\u001b[0m\u001b[0margs\u001b[0m\u001b[1;33m,\u001b[0m \u001b[1;33m**\u001b[0m\u001b[0mkwargs\u001b[0m\u001b[1;33m)\u001b[0m\u001b[1;33m\u001b[0m\u001b[1;33m\u001b[0m\u001b[0m\n\u001b[0m\u001b[0;32m    122\u001b[0m     \u001b[1;31m# Create a cache for iterator get_next op.\u001b[0m\u001b[1;33m\u001b[0m\u001b[1;33m\u001b[0m\u001b[1;33m\u001b[0m\u001b[0m\n\u001b[0;32m    123\u001b[0m     \u001b[0mself\u001b[0m\u001b[1;33m.\u001b[0m\u001b[0m_iterator_get_next\u001b[0m \u001b[1;33m=\u001b[0m \u001b[0mweakref\u001b[0m\u001b[1;33m.\u001b[0m\u001b[0mWeakKeyDictionary\u001b[0m\u001b[1;33m(\u001b[0m\u001b[1;33m)\u001b[0m\u001b[1;33m\u001b[0m\u001b[1;33m\u001b[0m\u001b[0m\n",
      "\u001b[1;32md:\\anaconda3\\envs\\tensorflow\\lib\\site-packages\\tensorflow\\python\\keras\\engine\\network.py\u001b[0m in \u001b[0;36m__init__\u001b[1;34m(self, *args, **kwargs)\u001b[0m\n\u001b[0;32m     78\u001b[0m         'inputs' in kwargs and 'outputs' in kwargs):\n\u001b[0;32m     79\u001b[0m       \u001b[1;31m# Graph network\u001b[0m\u001b[1;33m\u001b[0m\u001b[1;33m\u001b[0m\u001b[1;33m\u001b[0m\u001b[0m\n\u001b[1;32m---> 80\u001b[1;33m       \u001b[0mself\u001b[0m\u001b[1;33m.\u001b[0m\u001b[0m_init_graph_network\u001b[0m\u001b[1;33m(\u001b[0m\u001b[1;33m*\u001b[0m\u001b[0margs\u001b[0m\u001b[1;33m,\u001b[0m \u001b[1;33m**\u001b[0m\u001b[0mkwargs\u001b[0m\u001b[1;33m)\u001b[0m\u001b[1;33m\u001b[0m\u001b[1;33m\u001b[0m\u001b[0m\n\u001b[0m\u001b[0;32m     81\u001b[0m     \u001b[1;32melse\u001b[0m\u001b[1;33m:\u001b[0m\u001b[1;33m\u001b[0m\u001b[1;33m\u001b[0m\u001b[0m\n\u001b[0;32m     82\u001b[0m       \u001b[1;31m# Subclassed network\u001b[0m\u001b[1;33m\u001b[0m\u001b[1;33m\u001b[0m\u001b[1;33m\u001b[0m\u001b[0m\n",
      "\u001b[1;32md:\\anaconda3\\envs\\tensorflow\\lib\\site-packages\\tensorflow\\python\\training\\checkpointable\\base.py\u001b[0m in \u001b[0;36m_method_wrapper\u001b[1;34m(self, *args, **kwargs)\u001b[0m\n\u001b[0;32m    472\u001b[0m     \u001b[0mself\u001b[0m\u001b[1;33m.\u001b[0m\u001b[0m_setattr_tracking\u001b[0m \u001b[1;33m=\u001b[0m \u001b[1;32mFalse\u001b[0m  \u001b[1;31m# pylint: disable=protected-access\u001b[0m\u001b[1;33m\u001b[0m\u001b[1;33m\u001b[0m\u001b[0m\n\u001b[0;32m    473\u001b[0m     \u001b[1;32mtry\u001b[0m\u001b[1;33m:\u001b[0m\u001b[1;33m\u001b[0m\u001b[1;33m\u001b[0m\u001b[0m\n\u001b[1;32m--> 474\u001b[1;33m       \u001b[0mmethod\u001b[0m\u001b[1;33m(\u001b[0m\u001b[0mself\u001b[0m\u001b[1;33m,\u001b[0m \u001b[1;33m*\u001b[0m\u001b[0margs\u001b[0m\u001b[1;33m,\u001b[0m \u001b[1;33m**\u001b[0m\u001b[0mkwargs\u001b[0m\u001b[1;33m)\u001b[0m\u001b[1;33m\u001b[0m\u001b[1;33m\u001b[0m\u001b[0m\n\u001b[0m\u001b[0;32m    475\u001b[0m     \u001b[1;32mfinally\u001b[0m\u001b[1;33m:\u001b[0m\u001b[1;33m\u001b[0m\u001b[1;33m\u001b[0m\u001b[0m\n\u001b[0;32m    476\u001b[0m       \u001b[0mself\u001b[0m\u001b[1;33m.\u001b[0m\u001b[0m_setattr_tracking\u001b[0m \u001b[1;33m=\u001b[0m \u001b[0mprevious_value\u001b[0m  \u001b[1;31m# pylint: disable=protected-access\u001b[0m\u001b[1;33m\u001b[0m\u001b[1;33m\u001b[0m\u001b[0m\n",
      "\u001b[1;32md:\\anaconda3\\envs\\tensorflow\\lib\\site-packages\\tensorflow\\python\\keras\\engine\\network.py\u001b[0m in \u001b[0;36m_init_graph_network\u001b[1;34m(self, inputs, outputs, name)\u001b[0m\n\u001b[0;32m    216\u001b[0m                         \u001b[1;34m'Note that input tensors are '\u001b[0m\u001b[1;33m\u001b[0m\u001b[1;33m\u001b[0m\u001b[0m\n\u001b[0;32m    217\u001b[0m                         \u001b[1;34m'instantiated via `tensor = tf.layers.Input(shape)`.\\n'\u001b[0m\u001b[1;33m\u001b[0m\u001b[1;33m\u001b[0m\u001b[0m\n\u001b[1;32m--> 218\u001b[1;33m                         'The tensor that caused the issue was: ' + str(x.name))\n\u001b[0m\u001b[0;32m    219\u001b[0m     \u001b[1;32mfor\u001b[0m \u001b[0mx\u001b[0m \u001b[1;32min\u001b[0m \u001b[0mself\u001b[0m\u001b[1;33m.\u001b[0m\u001b[0moutputs\u001b[0m\u001b[1;33m:\u001b[0m\u001b[1;33m\u001b[0m\u001b[1;33m\u001b[0m\u001b[0m\n\u001b[0;32m    220\u001b[0m       \u001b[1;32mif\u001b[0m \u001b[1;32mnot\u001b[0m \u001b[0mhasattr\u001b[0m\u001b[1;33m(\u001b[0m\u001b[0mx\u001b[0m\u001b[1;33m,\u001b[0m \u001b[1;34m'_keras_history'\u001b[0m\u001b[1;33m)\u001b[0m\u001b[1;33m:\u001b[0m\u001b[1;33m\u001b[0m\u001b[1;33m\u001b[0m\u001b[0m\n",
      "\u001b[1;32md:\\anaconda3\\envs\\tensorflow\\lib\\site-packages\\tensorflow\\python\\keras\\engine\\base_layer.py\u001b[0m in \u001b[0;36mname\u001b[1;34m(self)\u001b[0m\n\u001b[0;32m    222\u001b[0m   \u001b[1;33m@\u001b[0m\u001b[0mproperty\u001b[0m\u001b[1;33m\u001b[0m\u001b[1;33m\u001b[0m\u001b[0m\n\u001b[0;32m    223\u001b[0m   \u001b[1;32mdef\u001b[0m \u001b[0mname\u001b[0m\u001b[1;33m(\u001b[0m\u001b[0mself\u001b[0m\u001b[1;33m)\u001b[0m\u001b[1;33m:\u001b[0m\u001b[1;33m\u001b[0m\u001b[1;33m\u001b[0m\u001b[0m\n\u001b[1;32m--> 224\u001b[1;33m     \u001b[1;32mreturn\u001b[0m \u001b[0mself\u001b[0m\u001b[1;33m.\u001b[0m\u001b[0m_name\u001b[0m\u001b[1;33m\u001b[0m\u001b[1;33m\u001b[0m\u001b[0m\n\u001b[0m\u001b[0;32m    225\u001b[0m \u001b[1;33m\u001b[0m\u001b[0m\n\u001b[0;32m    226\u001b[0m   \u001b[1;33m@\u001b[0m\u001b[0mproperty\u001b[0m\u001b[1;33m\u001b[0m\u001b[1;33m\u001b[0m\u001b[0m\n",
      "\u001b[1;31mAttributeError\u001b[0m: 'Model' object has no attribute '_name'"
     ]
    }
   ],
   "source": [
    "encoding_dim=50\n",
    "encoder = tf.keras.models.Model(autoencoder.inputs, autoencoder.z)\n",
    "\n",
    "encoded_input = tf.keras.layers.Input(shape=(encoding_dim,))\n",
    "# retrieve the last layer of the autoencoder model\n",
    "decoder_layer = autoencoder.layers[-1]\n",
    "# decoder_layer.get_config()\n",
    "decoder = tf.keras.models.Model(autoencoder.z, autoencoder.outputs)\n",
    "\n",
    "# encoded_imgs = encoder.predict(x_test)\n",
    "# decoded_imgs = decoder.predict(encoded_imgs)\n",
    "# n = 10  # how many digits we will display\n",
    "# plt.figure(figsize=(20, 4))\n",
    "# for i in range(n):\n",
    "#     # display original\n",
    "#     ax = plt.subplot(2, n, i + 1)\n",
    "#     plt.imshow(x_test[i].reshape(28, 28))\n",
    "#     plt.gray()\n",
    "#     ax.get_xaxis().set_visible(False)\n",
    "#     ax.get_yaxis().set_visible(False)\n",
    "\n",
    "#     # display reconstruction\n",
    "#     ax = plt.subplot(2, n, i + 1 + n)\n",
    "#     plt.imshow(decoded_imgs[i].reshape(28, 28))\n",
    "#     plt.gray()\n",
    "#     ax.get_xaxis().set_visible(False)\n",
    "#     ax.get_yaxis().set_visible(False)\n",
    "# plt.show()"
   ]
  }
 ],
 "metadata": {
  "kernelspec": {
   "display_name": "Python 3",
   "language": "python",
   "name": "python3"
  },
  "language_info": {
   "codemirror_mode": {
    "name": "ipython",
    "version": 3
   },
   "file_extension": ".py",
   "mimetype": "text/x-python",
   "name": "python",
   "nbconvert_exporter": "python",
   "pygments_lexer": "ipython3",
   "version": "3.6.8"
  }
 },
 "nbformat": 4,
 "nbformat_minor": 2
}
