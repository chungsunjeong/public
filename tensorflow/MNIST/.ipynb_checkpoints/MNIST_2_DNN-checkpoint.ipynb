{
 "cells": [
  {
   "cell_type": "markdown",
   "metadata": {},
   "source": [
    "# [NA] MNIST classification with DNN"
   ]
  },
  {
   "cell_type": "markdown",
   "metadata": {},
   "source": [
    "## Basic classification task with DNN"
   ]
  },
  {
   "cell_type": "code",
   "execution_count": 1,
   "metadata": {},
   "outputs": [],
   "source": [
    "import numpy\n",
    "import tensorflow as tf\n",
    "import matplotlib.pyplot as plt\n",
    "from tensorflow.examples.tutorials.mnist import input_data"
   ]
  },
  {
   "cell_type": "code",
   "execution_count": 2,
   "metadata": {},
   "outputs": [
    {
     "name": "stdout",
     "output_type": "stream",
     "text": [
      "Extracting MNIST_data/train-images-idx3-ubyte.gz\n",
      "Extracting MNIST_data/train-labels-idx1-ubyte.gz\n",
      "Extracting MNIST_data/t10k-images-idx3-ubyte.gz\n",
      "Extracting MNIST_data/t10k-labels-idx1-ubyte.gz\n",
      "55000\n",
      "5000\n",
      "10000\n"
     ]
    }
   ],
   "source": [
    "mnist=input_data.read_data_sets(\"MNIST_data/\",one_hot=True)\n",
    "print(mnist.train.num_examples)\n",
    "print(mnist.validation.num_examples)\n",
    "print(mnist.test.num_examples)"
   ]
  },
  {
   "cell_type": "code",
   "execution_count": 3,
   "metadata": {},
   "outputs": [
    {
     "name": "stdout",
     "output_type": "stream",
     "text": [
      "550\n"
     ]
    }
   ],
   "source": [
    "# parameter and hyperparameter setting\n",
    "pixel=28\n",
    "image_size=pixel*pixel\n",
    "n_class=10\n",
    "n_hidden1=256\n",
    "n_hidden2=256\n",
    "\n",
    "lr=0.01\n",
    "training_epochs=15\n",
    "batch_size=100\n",
    "total_batch=int(mnist.train.num_examples/batch_size)\n",
    "print(total_batch)"
   ]
  },
  {
   "cell_type": "code",
   "execution_count": 4,
   "metadata": {},
   "outputs": [
    {
     "name": "stdout",
     "output_type": "stream",
     "text": [
      "Tensor(\"Mean:0\", shape=(), dtype=float32)\n",
      "name: \"Adam\"\n",
      "op: \"NoOp\"\n",
      "input: \"^Adam/update_Variable/ApplyAdam\"\n",
      "input: \"^Adam/update_Variable_1/ApplyAdam\"\n",
      "input: \"^Adam/update_Variable_2/ApplyAdam\"\n",
      "input: \"^Adam/update_Variable_3/ApplyAdam\"\n",
      "input: \"^Adam/update_Variable_4/ApplyAdam\"\n",
      "input: \"^Adam/update_Variable_5/ApplyAdam\"\n",
      "input: \"^Adam/Assign\"\n",
      "input: \"^Adam/Assign_1\"\n",
      "\n"
     ]
    }
   ],
   "source": [
    "W1=tf.Variable(tf.random_normal([image_size,n_hidden1]))\n",
    "W2=tf.Variable(tf.random_normal([n_hidden1,n_hidden2]))\n",
    "W3=tf.Variable(tf.random_normal([n_hidden2,n_class]))\n",
    "\n",
    "b1=tf.Variable(tf.random_normal([n_hidden1]))\n",
    "b2=tf.Variable(tf.random_normal([n_hidden2]))\n",
    "b3=tf.Variable(tf.random_normal([n_class]))\n",
    "\n",
    "x=tf.placeholder('float32',[None,image_size])\n",
    "y_=tf.placeholder('float32',[None,n_class])\n",
    "\n",
    "a1=tf.nn.relu(tf.matmul(x,W1)+b1)\n",
    "a2=tf.nn.relu(tf.matmul(a1,W2)+b2)\n",
    "# softmax cause some problem in learning. \n",
    "# If we set the flow as some ex line using softmax, the learnig is failed.\n",
    "# a3=tf.nn.softmax(tf.matmul(a2,W3)+b3)\n",
    "a3=tf.matmul(a2,W3)+b3\n",
    "\n",
    "# cost=tf.reduce_mean(-tf.reduce_sum(y_*tf.log(softmax(a3)),reduction_indices=[1]))\n",
    "cost=tf.reduce_mean(tf.nn.softmax_cross_entropy_with_logits(logits=a3,labels=y_))\n",
    "# optimizer=tf.train.GradientDescentOptimizer(learning_rate=lr).minimize(cost)\n",
    "optimizer=tf.train.AdamOptimizer(learning_rate=lr).minimize(cost)\n",
    "\n",
    "print(cost)\n",
    "print(optimizer)\n"
   ]
  },
  {
   "cell_type": "code",
   "execution_count": 5,
   "metadata": {},
   "outputs": [
    {
     "name": "stdout",
     "output_type": "stream",
     "text": [
      "96.0700154305%\n"
     ]
    },
    {
     "data": {
      "image/png": "[encoded data removed]",
      "text/plain": [
       "<Figure size 432x288 with 1 Axes>"
      ]
     },
     "metadata": {
      "needs_background": "light"
     },
     "output_type": "display_data"
    }
   ],
   "source": [
    "sess=tf.Session()\n",
    "init=tf.global_variables_initializer()\n",
    "sess.run(init)\n",
    "# init=tf.initialize_all_variables() is same with global_variables_initializer\n",
    "avg_cost_list=[]\n",
    "\n",
    "for epoch in range(training_epochs):\n",
    "    avg_cost=0.\n",
    "    for step in range(total_batch):\n",
    "        batch_xs,batch_ys=mnist.train.next_batch(batch_size)\n",
    "        sess.run(optimizer,feed_dict={x:batch_xs,y_:batch_ys})\n",
    "        avg_cost+=sess.run(cost,feed_dict={x:batch_xs,y_:batch_ys})/total_batch\n",
    "    avg_cost_list.append(avg_cost)\n",
    "\n",
    "plt.plot(range(training_epochs),avg_cost_list)\n",
    "plt.xlabel('epoch')\n",
    "plt.ylabel('cost')\n",
    "correct_prediction=tf.equal(tf.argmax(a3,1),tf.argmax(y_,1))\n",
    "accuracy=tf.reduce_mean(tf.cast(correct_prediction,dtype='float32'))\n",
    "ac=sess.run(accuracy,feed_dict={x:mnist.test.images,y_:mnist.test.labels})\n",
    "print('accuracy : '+str(ac*100)+'%')\n"
   ]
  },
  {
   "cell_type": "code",
   "execution_count": 6,
   "metadata": {},
   "outputs": [],
   "source": [
    "sess.close()"
   ]
  },
  {
   "cell_type": "markdown",
   "metadata": {},
   "source": [
    "## (plus) Xavier initialization"
   ]
  },
  {
   "cell_type": "code",
   "execution_count": 7,
   "metadata": {},
   "outputs": [],
   "source": [
    "def xavier_initializer(n_inputs,n_outputs,uniform=True):\n",
    "    if uniform:\n",
    "        init_range=tf.sqrt(6./(n_inputs+n_outputs))\n",
    "        return tf.random_uniform_initializer(-init_range,init_range)\n",
    "    else:\n",
    "        stddev=tf.sqrt(3./(n_inputs+n_outputs))\n",
    "        return tf.truncated_normal_initializer(stddev=stddev)"
   ]
  },
  {
   "cell_type": "code",
   "execution_count": 10,
   "metadata": {},
   "outputs": [
    {
     "name": "stdout",
     "output_type": "stream",
     "text": [
      "96.7500090599%\n"
     ]
    },
    {
     "data": {
      "image/png": "[encoded data removed]",
      "text/plain": [
       "<Figure size 432x288 with 1 Axes>"
      ]
     },
     "metadata": {
      "needs_background": "light"
     },
     "output_type": "display_data"
    }
   ],
   "source": [
    "tf.reset_default_graph()\n",
    "# almost same code with basic classification task with DNN except variable declaration part\n",
    "W1=tf.get_variable(name='W1',shape=[image_size,n_hidden1],\n",
    "                   initializer=xavier_initializer(image_size,n_hidden1))\n",
    "W2=tf.get_variable(name='W2',shape=[n_hidden1,n_hidden2],\n",
    "                   initializer=xavier_initializer(n_hidden1,n_hidden2))\n",
    "W3=tf.get_variable(name='W3',shape=[n_hidden2,n_class],\n",
    "                   initializer=xavier_initializer(n_hidden2,n_class))\n",
    "# original code: W3=tf.Variable(tf.random_normal([n_hidden2,n_class]))\n",
    "\n",
    "b1=tf.Variable(tf.random_normal([n_hidden1]))\n",
    "b2=tf.Variable(tf.random_normal([n_hidden2]))\n",
    "b3=tf.Variable(tf.random_normal([n_class]))\n",
    "\n",
    "x=tf.placeholder('float32',[None,image_size])\n",
    "y_=tf.placeholder('float32',[None,n_class])\n",
    "\n",
    "a1=tf.nn.relu(tf.matmul(x,W1)+b1)\n",
    "a2=tf.nn.relu(tf.matmul(a1,W2)+b2)\n",
    "a3=tf.matmul(a2,W3)+b3\n",
    "\n",
    "cost=tf.reduce_mean(tf.nn.softmax_cross_entropy_with_logits(logits=a3,labels=y_))\n",
    "optimizer=tf.train.AdamOptimizer(learning_rate=lr).minimize(cost)\n",
    "\n",
    "sess=tf.Session()\n",
    "init=tf.global_variables_initializer()\n",
    "sess.run(init)\n",
    "avg_cost_list=[]\n",
    "\n",
    "for epoch in range(training_epochs):\n",
    "    avg_cost=0.\n",
    "    for step in range(total_batch):\n",
    "        batch_xs,batch_ys=mnist.train.next_batch(batch_size)\n",
    "        sess.run(optimizer,feed_dict={x:batch_xs,y_:batch_ys})\n",
    "        avg_cost+=sess.run(cost,feed_dict={x:batch_xs,y_:batch_ys})/total_batch\n",
    "    avg_cost_list.append(avg_cost)\n",
    "\n",
    "plt.plot(range(training_epochs),avg_cost_list)\n",
    "\n",
    "correct_prediction=tf.equal(tf.argmax(a3,1),tf.argmax(y_,1))\n",
    "accuracy=tf.reduce_mean(tf.cast(correct_prediction,dtype='float32'))\n",
    "ac=sess.run(accuracy,feed_dict={x:mnist.test.images,y_:mnist.test.labels})\n",
    "print('accuracy : '+str(ac*100)+'%')\n"
   ]
  },
  {
   "cell_type": "code",
   "execution_count": 11,
   "metadata": {},
   "outputs": [],
   "source": [
    "sess.close()"
   ]
  },
  {
   "cell_type": "markdown",
   "metadata": {},
   "source": [
    "## (plus) dropout technique for preventing overfitting in deeper neural network"
   ]
  },
  {
   "cell_type": "code",
   "execution_count": 28,
   "metadata": {},
   "outputs": [
    {
     "name": "stdout",
     "output_type": "stream",
     "text": [
      "accuracy : 98.0500102043%\n"
     ]
    },
    {
     "data": {
      "image/png": "[encoded data removed]",
      "text/plain": [
       "<Figure size 432x288 with 1 Axes>"
      ]
     },
     "metadata": {
      "needs_background": "light"
     },
     "output_type": "display_data"
    }
   ],
   "source": [
    "tf.reset_default_graph()\n",
    "_dropout_rate=0.7\n",
    "lr=0.001\n",
    "# almost same code with basic classification task with DNN except model constructino part\n",
    "W1=tf.get_variable(name='W1',shape=[image_size,n_hidden1],\n",
    "                   initializer=xavier_initializer(image_size,n_hidden1))\n",
    "W2=tf.get_variable(name='W2',shape=[n_hidden1,n_hidden2],\n",
    "                   initializer=xavier_initializer(n_hidden1,n_hidden2))\n",
    "W3=tf.get_variable(name='W3',shape=[n_hidden1,n_hidden2],\n",
    "                   initializer=xavier_initializer(n_hidden1,n_hidden2))\n",
    "W4=tf.get_variable(name='W4',shape=[n_hidden1,n_hidden2],\n",
    "                   initializer=xavier_initializer(n_hidden1,n_hidden2))\n",
    "W5=tf.get_variable(name='W5',shape=[n_hidden2,n_class],\n",
    "                   initializer=xavier_initializer(n_hidden2,n_class))\n",
    "\n",
    "b1=tf.Variable(tf.random_normal([n_hidden1]))\n",
    "b2=tf.Variable(tf.random_normal([n_hidden2]))\n",
    "b3=tf.Variable(tf.random_normal([n_hidden2]))\n",
    "b4=tf.Variable(tf.random_normal([n_hidden2]))\n",
    "b5=tf.Variable(tf.random_normal([n_class]))\n",
    "\n",
    "x=tf.placeholder('float32',[None,image_size])\n",
    "y_=tf.placeholder('float32',[None,n_class])\n",
    "dropout_rate=tf.placeholder('float')\n",
    "\n",
    "# dropout part\n",
    "_a1=tf.nn.relu(tf.matmul(x,W1)+b1)\n",
    "a1=tf.nn.dropout(_a1,keep_prob=dropout_rate)\n",
    "_a2=tf.nn.relu(tf.matmul(a1,W2)+b2)\n",
    "a2=tf.nn.dropout(_a2,keep_prob=dropout_rate)\n",
    "_a3=tf.nn.relu(tf.matmul(a2,W3)+b3)\n",
    "a3=tf.nn.dropout(_a3,keep_prob=dropout_rate)\n",
    "_a4=tf.nn.relu(tf.matmul(a3,W4)+b4)\n",
    "a4=tf.nn.dropout(_a4,keep_prob=dropout_rate)\n",
    "a5=tf.matmul(a4,W5)+b5\n",
    "\n",
    "cost=tf.reduce_mean(tf.nn.softmax_cross_entropy_with_logits(logits=a5,labels=y_))\n",
    "optimizer=tf.train.AdamOptimizer(learning_rate=lr).minimize(cost)\n",
    "\n",
    "sess=tf.Session()\n",
    "init=tf.global_variables_initializer()\n",
    "sess.run(init)\n",
    "avg_cost_list=[]\n",
    "\n",
    "for epoch in range(training_epochs):\n",
    "    avg_cost=0.\n",
    "    for step in range(total_batch):\n",
    "        batch_xs,batch_ys=mnist.train.next_batch(batch_size)\n",
    "        sess.run(optimizer,feed_dict={x:batch_xs,y_:batch_ys,dropout_rate:_dropout_rate})\n",
    "        avg_cost+=sess.run(cost,feed_dict={x:batch_xs,y_:batch_ys,\n",
    "                                           dropout_rate:_dropout_rate})/total_batch\n",
    "    avg_cost_list.append(avg_cost)\n",
    "\n",
    "plt.plot(range(training_epochs),avg_cost_list)\n",
    "\n",
    "correct_prediction=tf.equal(tf.argmax(a5,1),tf.argmax(y_,1))\n",
    "accuracy=tf.reduce_mean(tf.cast(correct_prediction,dtype='float32'))\n",
    "\n",
    "# In the case of prediction, dropout rate should be 1. \n",
    "ac=sess.run(accuracy,feed_dict={x:mnist.test.images,y_:mnist.test.labels,dropout_rate:1})\n",
    "print('accuracy : '+str(ac*100)+'%')\n"
   ]
  },
  {
   "cell_type": "code",
   "execution_count": 29,
   "metadata": {},
   "outputs": [],
   "source": [
    "sess.close()"
   ]
  },
  {
   "cell_type": "code",
   "execution_count": null,
   "metadata": {},
   "outputs": [],
   "source": []
  }
 ],
 "metadata": {
  "kernelspec": {
   "display_name": "Python 3",
   "language": "python",
   "name": "python3"
  },
  "language_info": {
   "codemirror_mode": {
    "name": "ipython",
    "version": 3
   },
   "file_extension": ".py",
   "mimetype": "text/x-python",
   "name": "python",
   "nbconvert_exporter": "python",
   "pygments_lexer": "ipython3",
   "version": "3.5.4"
  }
 },
 "nbformat": 4,
 "nbformat_minor": 2
}
