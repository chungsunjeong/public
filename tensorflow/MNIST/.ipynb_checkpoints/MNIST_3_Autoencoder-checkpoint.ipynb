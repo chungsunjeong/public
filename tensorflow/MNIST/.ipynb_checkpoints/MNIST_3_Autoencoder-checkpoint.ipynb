{
 "cells": [
  {
   "cell_type": "markdown",
   "metadata": {},
   "source": [
    "# [NA] MNIST classification with autoencoder"
   ]
  },
  {
   "cell_type": "markdown",
   "metadata": {},
   "source": [
    "## Basic classification task with simple autoencoder"
   ]
  },
  {
   "cell_type": "code",
   "execution_count": 33,
   "metadata": {},
   "outputs": [],
   "source": [
    "import numpy as np\n",
    "import tensorflow as tf\n",
    "import matplotlib.pyplot as plt\n",
    "from tensorflow.examples.tutorials.mnist import input_data"
   ]
  },
  {
   "cell_type": "code",
   "execution_count": 34,
   "metadata": {},
   "outputs": [
    {
     "name": "stdout",
     "output_type": "stream",
     "text": [
      "Extracting MNIST_data/train-images-idx3-ubyte.gz\n",
      "Extracting MNIST_data/train-labels-idx1-ubyte.gz\n",
      "Extracting MNIST_data/t10k-images-idx3-ubyte.gz\n",
      "Extracting MNIST_data/t10k-labels-idx1-ubyte.gz\n",
      "55000\n",
      "5000\n",
      "10000\n"
     ]
    }
   ],
   "source": [
    "mnist=input_data.read_data_sets(\"MNIST_data/\",one_hot=True)\n",
    "print(mnist.train.num_examples)\n",
    "print(mnist.validation.num_examples)\n",
    "print(mnist.test.num_examples)"
   ]
  },
  {
   "cell_type": "code",
   "execution_count": 35,
   "metadata": {},
   "outputs": [
    {
     "name": "stdout",
     "output_type": "stream",
     "text": [
      "550\n"
     ]
    }
   ],
   "source": [
    "# parameter and hyperparameter setting\n",
    "pixel=28\n",
    "image_size=pixel*pixel\n",
    "n_class=10\n",
    "n_hidden=200\n",
    "n_latent=50\n",
    "\n",
    "lr=0.001\n",
    "training_epochs=15\n",
    "batch_size=100\n",
    "total_batch=int(mnist.train.num_examples/batch_size)\n",
    "print(total_batch)\n",
    "\n",
    "display_step=1\n",
    "example_to_show=10"
   ]
  },
  {
   "cell_type": "code",
   "execution_count": 36,
   "metadata": {},
   "outputs": [
    {
     "name": "stdout",
     "output_type": "stream",
     "text": [
      "Tensor(\"add_5:0\", shape=(), dtype=float32)\n",
      "name: \"Adam_2\"\n",
      "op: \"NoOp\"\n",
      "input: \"^Adam_2/update_Variable/ApplyAdam\"\n",
      "input: \"^Adam_2/update_Variable_1/ApplyAdam\"\n",
      "input: \"^Adam_2/update_Variable_2/ApplyAdam\"\n",
      "input: \"^Adam_2/update_Variable_3/ApplyAdam\"\n",
      "input: \"^Adam_2/update_Variable_4/ApplyAdam\"\n",
      "input: \"^Adam_2/update_Variable_5/ApplyAdam\"\n",
      "input: \"^Adam_2/update_Variable_6/ApplyAdam\"\n",
      "input: \"^Adam_2/update_Variable_7/ApplyAdam\"\n",
      "input: \"^Adam_2/update_Variable_8/ApplyAdam\"\n",
      "input: \"^Adam_2/update_Variable_9/ApplyAdam\"\n",
      "input: \"^Adam_2/Assign\"\n",
      "input: \"^Adam_2/Assign_1\"\n",
      "\n"
     ]
    }
   ],
   "source": [
    "tf.reset_default_graph()\n",
    "# autoencoder part\n",
    "W1=tf.Variable(tf.random_normal([image_size,n_hidden]))\n",
    "W2=tf.Variable(tf.random_normal([n_hidden,n_latent]))\n",
    "W3=tf.Variable(tf.random_normal([n_latent,n_hidden]))\n",
    "W4=tf.Variable(tf.random_normal([n_hidden,image_size]))\n",
    "\n",
    "b1=tf.Variable(tf.random_normal([n_hidden]))\n",
    "b2=tf.Variable(tf.random_normal([n_latent]))\n",
    "b3=tf.Variable(tf.random_normal([n_hidden]))\n",
    "b4=tf.Variable(tf.random_normal([image_size]))\n",
    "\n",
    "x=tf.placeholder('float32',[None,image_size])\n",
    "y_=tf.placeholder('float32',[None,n_class])\n",
    "\n",
    "a1=tf.nn.sigmoid(tf.matmul(x,W1)+b1)\n",
    "a2=tf.nn.sigmoid(tf.matmul(a1,W2)+b2)\n",
    "a3=tf.nn.sigmoid(tf.matmul(a2,W3)+b3)\n",
    "a4=tf.nn.sigmoid(tf.matmul(a3,W4)+b4)\n",
    "\n",
    "cost_autoencoder=tf.reduce_mean(tf.squared_difference(x,a4))\n",
    "optimizer_autoencoder=tf.train.AdamOptimizer(learning_rate=lr).minimize(cost_autoencoder)\n",
    "\n",
    "# softmax classifier part\n",
    "Wc1=tf.Variable(tf.random_normal([n_latent,10]))\n",
    "bc1=tf.Variable(tf.random_normal([10]))\n",
    "y=tf.matmul(a2,Wc1)+bc1\n",
    "cost_classifier=tf.reduce_mean(tf.nn.softmax_cross_entropy_with_logits(labels=y_,logits=y))\n",
    "optimizer_classifier=tf.train.AdamOptimizer(learning_rate=lr).minimize(cost_classifier)\n",
    "\n",
    "# Fine tuning optimization\n",
    "cost_total=cost_autoencoder+cost_classifier\n",
    "optimizer_total=tf.train.AdamOptimizer(learning_rate=lr).minimize(cost_total)\n",
    "print(cost_total)\n",
    "print(optimizer_total)\n"
   ]
  },
  {
   "cell_type": "code",
   "execution_count": 37,
   "metadata": {},
   "outputs": [
    {
     "name": "stdout",
     "output_type": "stream",
     "text": [
      "Epoch:  0001 cost= 0.088348925\n",
      "Epoch:  0002 cost= 0.088639975\n",
      "Epoch:  0003 cost= 0.080634490\n",
      "Epoch:  0004 cost= 0.078829177\n",
      "Epoch:  0005 cost= 0.074569277\n",
      "Epoch:  0006 cost= 0.068351053\n",
      "Epoch:  0007 cost= 0.072124861\n",
      "Epoch:  0008 cost= 0.065662637\n",
      "Epoch:  0009 cost= 0.068283819\n",
      "Epoch:  0010 cost= 0.061492659\n",
      "Epoch:  0011 cost= 0.057242949\n",
      "Epoch:  0012 cost= 0.057418052\n",
      "Epoch:  0013 cost= 0.053936083\n",
      "Epoch:  0014 cost= 0.052633859\n",
      "Epoch:  0015 cost= 0.049749982\n",
      "Autoencoder pre-training optimization finished.\n"
     ]
    }
   ],
   "source": [
    "sess=tf.Session()\n",
    "init=tf.global_variables_initializer()\n",
    "sess.run(init)\n",
    "avg_cost_list=[]\n",
    "\n",
    "for epoch in range(training_epochs):\n",
    "    avg_cost=0.\n",
    "    for step in range(total_batch):\n",
    "        batch_xs,batch_ys=mnist.train.next_batch(batch_size)\n",
    "        _,cost_value=sess.run([optimizer_autoencoder,cost_autoencoder],feed_dict={x:batch_xs})\n",
    "    if epoch % display_step ==0:\n",
    "        print(\"Epoch: \", '%04d' %(epoch+1), \"cost=\",\"{:.9f}\".format(cost_value))\n",
    "print(\"Autoencoder pre-training optimization finished.\")\n"
   ]
  },
  {
   "cell_type": "code",
   "execution_count": 38,
   "metadata": {},
   "outputs": [
    {
     "name": "stderr",
     "output_type": "stream",
     "text": [
      "/home/ldapusers/csjeong/anaconda3/envs/tensorflow/lib/python3.5/site-packages/matplotlib/figure.py:445: UserWarning: Matplotlib is currently using module://ipykernel.pylab.backend_inline, which is a non-GUI backend, so cannot show the figure.\n",
      "  % get_backend())\n"
     ]
    },
    {
     "data": {
      "image/png": "[encoded data removed]",
      "text/plain": [
       "<Figure size 720x144 with 20 Axes>"
      ]
     },
     "metadata": {
      "needs_background": "light"
     },
     "output_type": "display_data"
    }
   ],
   "source": [
    "x_reconstructed=sess.run(a4,feed_dict={x:mnist.test.images[:example_to_show]})\n",
    "f,a=plt.subplots(2,10,figsize=(10,2))\n",
    "for i in range(example_to_show):\n",
    "    a[0][i].imshow(np.reshape(mnist.test.images[i],(pixel,pixel)))\n",
    "    a[1][i].imshow(np.reshape(x_reconstructed[i],(pixel,pixel)))\n",
    "f.show()\n",
    "plt.draw()\n",
    "plt.show()"
   ]
  },
  {
   "cell_type": "code",
   "execution_count": 39,
   "metadata": {},
   "outputs": [
    {
     "name": "stdout",
     "output_type": "stream",
     "text": [
      "Epoch:  0001 cost= 0.610597968\n",
      "Epoch:  0002 cost= 0.377304584\n",
      "Epoch:  0003 cost= 0.296716124\n",
      "Epoch:  0004 cost= 0.462052703\n",
      "Epoch:  0005 cost= 0.361548722\n",
      "Epoch:  0006 cost= 0.202672228\n",
      "Epoch:  0007 cost= 0.189198285\n",
      "Epoch:  0008 cost= 0.177773178\n",
      "Epoch:  0009 cost= 0.123605281\n",
      "Epoch:  0010 cost= 0.119108953\n",
      "Epoch:  0011 cost= 0.048481960\n",
      "Epoch:  0012 cost= 0.047624689\n",
      "Epoch:  0013 cost= 0.047153920\n",
      "Epoch:  0014 cost= 0.053687278\n",
      "Epoch:  0015 cost= 0.103133373\n",
      "Classifier optimization finished.\n"
     ]
    }
   ],
   "source": [
    "plt.close()\n",
    "# training softmax classificer with latent features\n",
    "avg_cost_list=[]\n",
    "\n",
    "for epoch in range(training_epochs):\n",
    "    avg_cost=0.\n",
    "    for step in range(total_batch):\n",
    "        batch_xs,batch_ys=mnist.train.next_batch(batch_size)\n",
    "        _,cost_value=sess.run([optimizer_classifier,cost_classifier],\n",
    "                              feed_dict={x:batch_xs,y_:batch_ys})\n",
    "    if epoch % display_step ==0:\n",
    "        print(\"Epoch: \", '%04d' %(epoch+1), \"cost=\",\"{:.9f}\".format(cost_value))\n",
    "print(\"Classifier optimization finished.\")"
   ]
  },
  {
   "cell_type": "code",
   "execution_count": 40,
   "metadata": {},
   "outputs": [
    {
     "name": "stdout",
     "output_type": "stream",
     "text": [
      "Accuracy (before fine-tuning): 95.2000021935%\n"
     ]
    }
   ],
   "source": [
    "correct_prediction=tf.equal(tf.argmax(y,1),tf.argmax(y_,1))\n",
    "accuracy=tf.reduce_mean(tf.cast(correct_prediction,dtype='float32'))\n",
    "ac=sess.run(accuracy,feed_dict={x:mnist.test.images,y_:mnist.test.labels})\n",
    "print('Accuracy (before fine-tuning): '+str(ac*100)+'%')"
   ]
  },
  {
   "cell_type": "code",
   "execution_count": 41,
   "metadata": {},
   "outputs": [
    {
     "name": "stdout",
     "output_type": "stream",
     "text": [
      "Epoch:  0001 cost= 0.101263255\n",
      "Epoch:  0002 cost= 0.101175584\n",
      "Epoch:  0003 cost= 0.068184376\n",
      "Epoch:  0004 cost= 0.094576970\n",
      "Epoch:  0005 cost= 0.073823281\n",
      "Epoch:  0006 cost= 0.073923185\n",
      "Epoch:  0007 cost= 0.077668890\n",
      "Epoch:  0008 cost= 0.058449555\n",
      "Epoch:  0009 cost= 0.077008411\n",
      "Epoch:  0010 cost= 0.052761484\n",
      "Epoch:  0011 cost= 0.060575038\n",
      "Epoch:  0012 cost= 0.046054062\n",
      "Epoch:  0013 cost= 0.055318929\n",
      "Epoch:  0014 cost= 0.043380372\n",
      "Epoch:  0015 cost= 0.065622002\n",
      "Fine-tuning softmax model optimization finished.\n"
     ]
    }
   ],
   "source": [
    "# fine-tuning softmax model\n",
    "avg_cost_list=[]\n",
    "\n",
    "for epoch in range(training_epochs):\n",
    "    avg_cost=0.\n",
    "    for step in range(total_batch):\n",
    "        batch_xs,batch_ys=mnist.train.next_batch(batch_size)\n",
    "        _,cost_value=sess.run([optimizer_total,cost_total],\n",
    "                              feed_dict={x:batch_xs,y_:batch_ys})\n",
    "    if epoch % display_step ==0:\n",
    "        print(\"Epoch: \", '%04d' %(epoch+1), \"cost=\",\"{:.9f}\".format(cost_value))\n",
    "print(\"Fine-tuning softmax model optimization finished.\")"
   ]
  },
  {
   "cell_type": "code",
   "execution_count": 42,
   "metadata": {},
   "outputs": [
    {
     "name": "stdout",
     "output_type": "stream",
     "text": [
      "Accuracy (before fine-tuning): 95.8500027657%\n"
     ]
    }
   ],
   "source": [
    "ac=sess.run(accuracy,feed_dict={x:mnist.test.images,y_:mnist.test.labels})\n",
    "print('Accuracy (before fine-tuning): '+str(ac*100)+'%')\n",
    "# is there significant change in accuracy? \n",
    "# why? maybe small learning rate? or network modeling?"
   ]
  },
  {
   "cell_type": "code",
   "execution_count": 45,
   "metadata": {},
   "outputs": [],
   "source": [
    "tf.reset_default_graph()\n",
    "sess.close()"
   ]
  }
 ],
 "metadata": {
  "kernelspec": {
   "display_name": "Python 3",
   "language": "python",
   "name": "python3"
  },
  "language_info": {
   "codemirror_mode": {
    "name": "ipython",
    "version": 3
   },
   "file_extension": ".py",
   "mimetype": "text/x-python",
   "name": "python",
   "nbconvert_exporter": "python",
   "pygments_lexer": "ipython3",
   "version": "3.5.4"
  }
 },
 "nbformat": 4,
 "nbformat_minor": 2
}
