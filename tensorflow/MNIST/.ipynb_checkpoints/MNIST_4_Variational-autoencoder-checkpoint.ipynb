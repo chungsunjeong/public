{
 "cells": [
  {
   "cell_type": "code",
   "execution_count": 15,
   "metadata": {},
   "outputs": [],
   "source": [
    "import numpy as np\n",
    "import tensorflow as tf\n",
    "import matplotlib.pyplot as plt\n",
    "from tensorflow.examples.tutorials.mnist import input_data"
   ]
  },
  {
   "cell_type": "code",
   "execution_count": 16,
   "metadata": {},
   "outputs": [
    {
     "name": "stdout",
     "output_type": "stream",
     "text": [
      "Extracting MNIST_data/train-images-idx3-ubyte.gz\n",
      "Extracting MNIST_data/train-labels-idx1-ubyte.gz\n",
      "Extracting MNIST_data/t10k-images-idx3-ubyte.gz\n",
      "Extracting MNIST_data/t10k-labels-idx1-ubyte.gz\n",
      "55000\n",
      "5000\n",
      "10000\n"
     ]
    }
   ],
   "source": [
    "mnist=input_data.read_data_sets(\"MNIST_data/\",one_hot=True)\n",
    "print(mnist.train.num_examples)\n",
    "print(mnist.validation.num_examples)\n",
    "print(mnist.test.num_examples)"
   ]
  },
  {
   "cell_type": "code",
   "execution_count": 17,
   "metadata": {},
   "outputs": [
    {
     "name": "stdout",
     "output_type": "stream",
     "text": [
      "550\n"
     ]
    }
   ],
   "source": [
    "# parameter and hyperparameter setting\n",
    "pixel=28\n",
    "image_size=pixel*pixel\n",
    "n_class=10\n",
    "n_hidden1=500\n",
    "n_hidden2=500\n",
    "n_latent=20\n",
    "batch_size=100\n",
    "training_epochs=30\n",
    "total_batch=int(mnist.train.num_examples/batch_size)\n",
    "print(total_batch)\n",
    "\n",
    "lr=0.001\n",
    "\n",
    "display_step=1\n",
    "example_to_show=10"
   ]
  },
  {
   "cell_type": "code",
   "execution_count": 18,
   "metadata": {},
   "outputs": [],
   "source": [
    "x=tf.placeholder('float32',[None,image_size])\n",
    "keep_prob=tf.placeholder('float32')\n",
    "z_in=tf.placeholder('float32',[None,n_latent])"
   ]
  },
  {
   "cell_type": "code",
   "execution_count": 19,
   "metadata": {},
   "outputs": [],
   "source": [
    "def weight_variable(shape):\n",
    "#     init=tf.Variable(tf.random_normal(shape=shape,dtype='float32'))\n",
    "    return tf.Variable(tf.truncated_normal(shape=shape,stddev=0.1))\n",
    "\n",
    "def bias_variable(shape):\n",
    "#     init=tf.Variable(tf.random_normal(shape=shape,dtype='float32'))\n",
    "    return tf.Variable(tf.constant(shape=shape,value=0.1))\n",
    "\n",
    "def fc_layer(inputs,n_outputs,activation_fn=tf.nn.relu,keep_prob=1):\n",
    "    n_inputs=int(inputs.shape[1])\n",
    "    W_fc=weight_variable([n_inputs,n_outputs])\n",
    "    b_fc=bias_variable([n_outputs])\n",
    "    logit_fc=tf.matmul(inputs,W_fc)+b_fc\n",
    "    _a_fc=activation_fn(logit_fc)\n",
    "    a_fc=tf.nn.dropout(_a_fc,keep_prob=keep_prob)\n",
    "    return a_fc,logit_fc\n",
    "\n",
    "def encoder(inputs,n_hidden1,n_hidden2,n_latent,keep_prob=1):\n",
    "    fc_layer1,_=fc_layer(inputs,n_hidden1,activation_fn=tf.nn.sigmoid,keep_prob=keep_prob)\n",
    "    fc_layer2,_=fc_layer(fc_layer1,n_hidden2,activation_fn=tf.nn.sigmoid,keep_prob=keep_prob)\n",
    "    \n",
    "    w_encoder=weight_variable([n_hidden2,n_latent*2])\n",
    "    b_encoder=bias_variable([n_latent*2])\n",
    "    gaussian_params=tf.matmul(fc_layer2,w_encoder)+b_encoder\n",
    "    \n",
    "    mean=gaussian_params[:,:n_latent]\n",
    "    # to make stddev be positive, add softplus \n",
    "    # to make stddev be stable, add a small epsilon\n",
    "    stddev=1e-6+tf.nn.softplus(gaussian_params[:,n_latent:])\n",
    "    return mean,stddev\n",
    "\n",
    "def decoder(z,n_hidden2,n_hidden1,n_outputs,keep_prob=1):\n",
    "    fc_layer1,_=fc_layer(z,n_hidden2,activation_fn=tf.nn.sigmoid,keep_prob=keep_prob)\n",
    "    fc_layer2,_=fc_layer(fc_layer1,n_hidden1,activation_fn=tf.nn.sigmoid,keep_prob=keep_prob)\n",
    "    \n",
    "    w_decoder=weight_variable([n_hidden1,n_outputs])\n",
    "    b_decoder=bias_variable([n_outputs])\n",
    "    outputs=tf.sigmoid(tf.matmul(fc_layer2,w_decoder)+b_decoder)\n",
    "    \n",
    "    return outputs\n",
    "\n",
    "def variational_autoencoder(inputs,n_hidden1,n_hidden2,n_latent,keep_prob=1):\n",
    "    # encoder\n",
    "    mu,std=encoder(inputs,n_hidden1,n_hidden2,n_latent,keep_prob)\n",
    "    \n",
    "    # sampling by re-parameterization technique\n",
    "    latent_variable=mu+std*tf.random_normal(tf.shape(mu),mean=0,stddev=1,dtype='float32')\n",
    "    \n",
    "    # decoder\n",
    "    n_outputs=int(inputs.shape[1])\n",
    "    x_=decoder(latent_variable,n_hidden2,n_hidden1,n_outputs,keep_prob)\n",
    "#     x_=tf.clip_by_value(x_,1e-8,1-1e-8)\n",
    "    \n",
    "    # loss\n",
    "    marginal_likelihood=tf.reduce_sum(inputs*tf.log(x_)+(1-inputs)*tf.log(1-x_),1)\n",
    "    KL_divergence=0.5*tf.reduce_sum(tf.square(mu)+tf.square(std)-tf.log(1e-7+tf.square(std))-1,1)\n",
    "    \n",
    "    marginal_likelihood=tf.reduce_mean(marginal_likelihood)\n",
    "    KL_divergence=tf.reduce_mean(KL_divergence)\n",
    "    \n",
    "    ELBO=marginal_likelihood-KL_divergence\n",
    "    \n",
    "    loss=-ELBO\n",
    "    \n",
    "    return x_,latent_variable,loss,-marginal_likelihood,KL_divergence\n",
    "\n",
    "def generator(z,n_hidden2,n_hidden1,n_outputs):\n",
    "    return decoder(z,n_hidden2,n_hidden1,n_outputs,keep_prob=1)\n",
    "\n"
   ]
  },
  {
   "cell_type": "code",
   "execution_count": 20,
   "metadata": {},
   "outputs": [],
   "source": [
    "sess=tf.Session()\n",
    "init=tf.global_variables_initializer()\n",
    "x_,z,loss,neg_marginal_likelihood,KL_divergence=variational_autoencoder(\n",
    "    x,n_hidden1,n_hidden2,n_latent,keep_prob=keep_prob)\n",
    "optimizer=tf.train.AdadeltaOptimizer(learning_rate=lr).minimize(loss)"
   ]
  },
  {
   "cell_type": "code",
   "execution_count": 22,
   "metadata": {},
   "outputs": [
    {
     "name": "stdout",
     "output_type": "stream",
     "text": [
      "Epoch: 0: L_tot 681.07 L_likelihood 668.12 L_divergence 12.94\n",
      "Epoch: 1: L_tot 634.07 L_likelihood 625.10 L_divergence 8.96\n",
      "Epoch: 2: L_tot 589.18 L_likelihood 582.84 L_divergence 6.33\n",
      "Epoch: 3: L_tot 544.01 L_likelihood 539.57 L_divergence 4.44\n",
      "Epoch: 4: L_tot 497.08 L_likelihood 493.35 L_divergence 3.73\n",
      "Epoch: 5: L_tot 457.43 L_likelihood 454.18 L_divergence 3.25\n",
      "Epoch: 6: L_tot 416.93 L_likelihood 413.68 L_divergence 3.25\n",
      "Epoch: 7: L_tot 376.08 L_likelihood 372.92 L_divergence 3.16\n",
      "Epoch: 8: L_tot 354.40 L_likelihood 351.41 L_divergence 2.99\n",
      "Epoch: 9: L_tot 321.70 L_likelihood 318.91 L_divergence 2.79\n",
      "Epoch: 10: L_tot 299.21 L_likelihood 296.41 L_divergence 2.81\n",
      "Epoch: 11: L_tot 286.04 L_likelihood 283.22 L_divergence 2.82\n",
      "Epoch: 12: L_tot 267.38 L_likelihood 264.67 L_divergence 2.71\n",
      "Epoch: 13: L_tot 257.63 L_likelihood 255.05 L_divergence 2.58\n",
      "Epoch: 14: L_tot 246.74 L_likelihood 244.18 L_divergence 2.55\n",
      "Epoch: 15: L_tot 246.28 L_likelihood 243.88 L_divergence 2.40\n",
      "Epoch: 16: L_tot 237.31 L_likelihood 234.80 L_divergence 2.50\n",
      "Epoch: 17: L_tot 232.59 L_likelihood 230.36 L_divergence 2.23\n",
      "Epoch: 18: L_tot 235.72 L_likelihood 233.43 L_divergence 2.29\n",
      "Epoch: 19: L_tot 228.79 L_likelihood 226.53 L_divergence 2.26\n",
      "Epoch: 20: L_tot 228.82 L_likelihood 226.57 L_divergence 2.26\n",
      "Epoch: 21: L_tot 225.63 L_likelihood 223.48 L_divergence 2.16\n",
      "Epoch: 22: L_tot 225.52 L_likelihood 223.47 L_divergence 2.05\n",
      "Epoch: 23: L_tot 221.58 L_likelihood 219.55 L_divergence 2.03\n",
      "Epoch: 24: L_tot 212.28 L_likelihood 210.38 L_divergence 1.90\n",
      "Epoch: 25: L_tot 225.20 L_likelihood 223.23 L_divergence 1.96\n",
      "Epoch: 26: L_tot 213.43 L_likelihood 211.59 L_divergence 1.84\n",
      "Epoch: 27: L_tot 218.55 L_likelihood 216.72 L_divergence 1.83\n",
      "Epoch: 28: L_tot 218.20 L_likelihood 216.50 L_divergence 1.70\n",
      "Epoch: 29: L_tot 204.11 L_likelihood 202.42 L_divergence 1.70\n"
     ]
    }
   ],
   "source": [
    "init=tf.global_variables_initializer()\n",
    "sess.run(init,feed_dict={keep_prob:0.8})\n",
    "\n",
    "for epoch in range(training_epochs):\n",
    "    avg_cost=0.\n",
    "    for step in range(total_batch):\n",
    "        batch_xs,batch_ys=mnist.train.next_batch(batch_size)\n",
    "\n",
    "        _,tot_loss,loss_likelihood,loss_divergence=sess.run(\n",
    "            (optimizer,loss,neg_marginal_likelihood,KL_divergence),\n",
    "        feed_dict={x:batch_xs,keep_prob:0.9})\n",
    "\n",
    "    print(\"Epoch: %d: L_tot %03.2f L_likelihood %03.2f L_divergence %03.2f\" % (\n",
    "        epoch,tot_loss,loss_likelihood,loss_divergence))\n"
   ]
  },
  {
   "cell_type": "code",
   "execution_count": 25,
   "metadata": {},
   "outputs": [
    {
     "name": "stderr",
     "output_type": "stream",
     "text": [
      "C:\\ProgramData\\Anaconda3\\envs\\tensorflow\\lib\\site-packages\\matplotlib\\figure.py:445: UserWarning: Matplotlib is currently using module://ipykernel.pylab.backend_inline, which is a non-GUI backend, so cannot show the figure.\n",
      "  % get_backend())\n"
     ]
    },
    {
     "data": {
      "image/png": "[encoded data removed]",
      "text/plain": [
       "<Figure size 720x144 with 20 Axes>"
      ]
     },
     "metadata": {
      "needs_background": "light"
     },
     "output_type": "display_data"
    }
   ],
   "source": [
    "x_reconstructed=sess.run(x_,feed_dict={x:mnist.test.images[:example_to_show],keep_prob:1.})\n",
    "f,a=plt.subplots(2,10,figsize=(10,2))\n",
    "for i in range(example_to_show):\n",
    "    a[0][i].imshow(np.reshape(mnist.test.images[i],(pixel,pixel)))\n",
    "    a[1][i].imshow(np.reshape(x_reconstructed[i],(pixel,pixel)))\n",
    "f.show()\n",
    "plt.draw()\n",
    "plt.show()"
   ]
  },
  {
   "cell_type": "code",
   "execution_count": 26,
   "metadata": {},
   "outputs": [
    {
     "name": "stdout",
     "output_type": "stream",
     "text": [
      "[-1.1611719  -0.3263441  -0.72428036  0.38073573 -0.11974258  0.13730009\n",
      "  0.01882     1.4826671   0.14653048  1.2662209   0.60078824 -0.3687701\n",
      "  0.07716531  1.2756993   0.32456616  0.36628905 -0.4425045   0.45448667\n",
      "  0.47183567  1.664619  ]\n",
      "[-0.25774947 -0.22638795  1.5406427  -1.0106786  -0.64559555 -0.48483583\n",
      " -2.9833024  -1.090814   -0.8511026   0.25468877  0.69498414 -0.9994849\n",
      "  0.1260423  -0.7318954  -0.5054413   0.42691556 -0.12276188 -0.7019066\n",
      "  0.5885507  -2.6399186 ]\n",
      "[-0.40010485 -0.05282296 -1.2474791   1.433764    0.10678562 -0.54032105\n",
      "  0.7207479  -0.6095626  -0.13815607 -0.8259616  -1.249421   -0.00190286\n",
      "  0.7225429  -1.4180862   0.07182676  1.2846625   0.8581745   0.23618844\n",
      " -1.7918893   0.5528094 ]\n"
     ]
    }
   ],
   "source": [
    "z_list=sess.run(z,feed_dict={x:mnist.test.images[:3],keep_prob:1.})\n",
    "for a in z_list:\n",
    "    print(a)"
   ]
  },
  {
   "cell_type": "code",
   "execution_count": null,
   "metadata": {},
   "outputs": [],
   "source": []
  },
  {
   "cell_type": "code",
   "execution_count": null,
   "metadata": {},
   "outputs": [],
   "source": [
    "tf.reset_default_graph()\n",
    "sess.close()"
   ]
  }
 ],
 "metadata": {
  "kernelspec": {
   "display_name": "Python 3",
   "language": "python",
   "name": "python3"
  },
  "language_info": {
   "codemirror_mode": {
    "name": "ipython",
    "version": 3
   },
   "file_extension": ".py",
   "mimetype": "text/x-python",
   "name": "python",
   "nbconvert_exporter": "python",
   "pygments_lexer": "ipython3",
   "version": "3.5.6"
  }
 },
 "nbformat": 4,
 "nbformat_minor": 2
}
