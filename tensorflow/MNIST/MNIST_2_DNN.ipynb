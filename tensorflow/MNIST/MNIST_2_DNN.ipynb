{
 "cells": [
  {
   "cell_type": "markdown",
   "metadata": {},
   "source": [
    "# [NA] MNIST classification with DNN"
   ]
  },
  {
   "cell_type": "markdown",
   "metadata": {},
   "source": [
    "## Basic classification task with DNN"
   ]
  },
  {
   "cell_type": "code",
   "execution_count": 1,
   "metadata": {},
   "outputs": [],
   "source": [
    "import time\n",
    "import numpy\n",
    "import tensorflow as tf\n",
    "import matplotlib.pyplot as plt\n",
    "from tensorflow.examples.tutorials.mnist import input_data"
   ]
  },
  {
   "cell_type": "code",
   "execution_count": 2,
   "metadata": {},
   "outputs": [
    {
     "name": "stdout",
     "output_type": "stream",
     "text": [
      "WARNING:tensorflow:From <ipython-input-2-6406dd46ab18>:1: read_data_sets (from tensorflow.contrib.learn.python.learn.datasets.mnist) is deprecated and will be removed in a future version.\n",
      "Instructions for updating:\n",
      "Please use alternatives such as official/mnist/dataset.py from tensorflow/models.\n",
      "WARNING:tensorflow:From C:\\ProgramData\\Anaconda3\\envs\\tensorflow\\lib\\site-packages\\tensorflow\\contrib\\learn\\python\\learn\\datasets\\mnist.py:260: maybe_download (from tensorflow.contrib.learn.python.learn.datasets.base) is deprecated and will be removed in a future version.\n",
      "Instructions for updating:\n",
      "Please write your own downloading logic.\n",
      "WARNING:tensorflow:From C:\\ProgramData\\Anaconda3\\envs\\tensorflow\\lib\\site-packages\\tensorflow\\contrib\\learn\\python\\learn\\datasets\\mnist.py:262: extract_images (from tensorflow.contrib.learn.python.learn.datasets.mnist) is deprecated and will be removed in a future version.\n",
      "Instructions for updating:\n",
      "Please use tf.data to implement this functionality.\n",
      "Extracting MNIST_data/train-images-idx3-ubyte.gz\n",
      "WARNING:tensorflow:From C:\\ProgramData\\Anaconda3\\envs\\tensorflow\\lib\\site-packages\\tensorflow\\contrib\\learn\\python\\learn\\datasets\\mnist.py:267: extract_labels (from tensorflow.contrib.learn.python.learn.datasets.mnist) is deprecated and will be removed in a future version.\n",
      "Instructions for updating:\n",
      "Please use tf.data to implement this functionality.\n",
      "Extracting MNIST_data/train-labels-idx1-ubyte.gz\n",
      "WARNING:tensorflow:From C:\\ProgramData\\Anaconda3\\envs\\tensorflow\\lib\\site-packages\\tensorflow\\contrib\\learn\\python\\learn\\datasets\\mnist.py:110: dense_to_one_hot (from tensorflow.contrib.learn.python.learn.datasets.mnist) is deprecated and will be removed in a future version.\n",
      "Instructions for updating:\n",
      "Please use tf.one_hot on tensors.\n",
      "Extracting MNIST_data/t10k-images-idx3-ubyte.gz\n",
      "Extracting MNIST_data/t10k-labels-idx1-ubyte.gz\n",
      "WARNING:tensorflow:From C:\\ProgramData\\Anaconda3\\envs\\tensorflow\\lib\\site-packages\\tensorflow\\contrib\\learn\\python\\learn\\datasets\\mnist.py:290: DataSet.__init__ (from tensorflow.contrib.learn.python.learn.datasets.mnist) is deprecated and will be removed in a future version.\n",
      "Instructions for updating:\n",
      "Please use alternatives such as official/mnist/dataset.py from tensorflow/models.\n",
      "55000\n",
      "5000\n",
      "10000\n"
     ]
    }
   ],
   "source": [
    "mnist=input_data.read_data_sets(\"MNIST_data/\",one_hot=True)\n",
    "print(mnist.train.num_examples)\n",
    "print(mnist.validation.num_examples)\n",
    "print(mnist.test.num_examples)"
   ]
  },
  {
   "cell_type": "code",
   "execution_count": 3,
   "metadata": {},
   "outputs": [
    {
     "name": "stdout",
     "output_type": "stream",
     "text": [
      "550\n"
     ]
    }
   ],
   "source": [
    "# parameter and hyperparameter setting\n",
    "pixel=28\n",
    "image_size=pixel*pixel\n",
    "n_class=10\n",
    "n_hidden1=200\n",
    "n_hidden2=200\n",
    "\n",
    "lr=0.01\n",
    "training_epochs=15\n",
    "batch_size=100\n",
    "total_batch=int(mnist.train.num_examples/batch_size)\n",
    "print(total_batch)\n"
   ]
  },
  {
   "cell_type": "code",
   "execution_count": 4,
   "metadata": {},
   "outputs": [],
   "source": [
    "def weight_variable(shape):\n",
    "    return tf.Variable(tf.truncated_normal(shape,stddev=0.1))\n",
    "\n",
    "def bias_variable(shape):\n",
    "    return tf.Variable(tf.constant(0.1,shape=shape))\n",
    "\n",
    "def fc_layer(inputs,n_outputs,activation=tf.nn.relu,keep_prob=1):\n",
    "    n_inputs=int(inputs.shape[1])\n",
    "    W_fc=weight_variable([n_inputs,n_outputs])\n",
    "    b_fc=bias_variable([n_outputs])\n",
    "    logit_fc=tf.matmul(inputs,W_fc)+b_fc\n",
    "    _a_fc=activation(logit_fc)\n",
    "    a_fc=tf.nn.dropout(_a_fc,keep_prob=keep_prob)\n",
    "    return a_fc,logit_fc"
   ]
  },
  {
   "cell_type": "code",
   "execution_count": 5,
   "metadata": {},
   "outputs": [
    {
     "name": "stdout",
     "output_type": "stream",
     "text": [
      "WARNING:tensorflow:From <ipython-input-5-142e1b77d177>:7: softmax_cross_entropy_with_logits (from tensorflow.python.ops.nn_ops) is deprecated and will be removed in a future version.\n",
      "Instructions for updating:\n",
      "\n",
      "Future major versions of TensorFlow will allow gradients to flow\n",
      "into the labels input on backprop by default.\n",
      "\n",
      "See `tf.nn.softmax_cross_entropy_with_logits_v2`.\n",
      "\n",
      "Tensor(\"Mean:0\", shape=(), dtype=float32)\n",
      "name: \"Adam\"\n",
      "op: \"NoOp\"\n",
      "input: \"^Adam/update_Variable/ApplyAdam\"\n",
      "input: \"^Adam/update_Variable_1/ApplyAdam\"\n",
      "input: \"^Adam/update_Variable_2/ApplyAdam\"\n",
      "input: \"^Adam/update_Variable_3/ApplyAdam\"\n",
      "input: \"^Adam/update_Variable_4/ApplyAdam\"\n",
      "input: \"^Adam/update_Variable_5/ApplyAdam\"\n",
      "input: \"^Adam/Assign\"\n",
      "input: \"^Adam/Assign_1\"\n",
      "\n"
     ]
    }
   ],
   "source": [
    "x=tf.placeholder('float32',[None,image_size])\n",
    "y_=tf.placeholder('float32',[None,n_class])\n",
    "\n",
    "fc_layer1,_=fc_layer(x,n_hidden1,activation=tf.nn.relu,keep_prob=1)\n",
    "fc_layer2,_=fc_layer(fc_layer1,n_hidden2,activation=tf.nn.relu,keep_prob=1)\n",
    "fc_layer3,logit3=fc_layer(fc_layer2,n_class,activation=tf.nn.relu,keep_prob=1)\n",
    "cost=tf.reduce_mean(tf.nn.softmax_cross_entropy_with_logits(logits=logit3,labels=y_))\n",
    "optimizer=tf.train.AdamOptimizer(learning_rate=lr).minimize(cost)\n",
    "\n",
    "# W1=tf.Variable(tf.random_normal([image_size,n_hidden1]))\n",
    "# W2=tf.Variable(tf.random_normal([n_hidden1,n_hidden2]))\n",
    "# W3=tf.Variable(tf.random_normal([n_hidden2,n_class]))\n",
    "\n",
    "# b1=tf.Variable(tf.random_normal([n_hidden1]))\n",
    "# b2=tf.Variable(tf.random_normal([n_hidden2]))\n",
    "# b3=tf.Variable(tf.random_normal([n_class]))\n",
    "\n",
    "# a1=tf.nn.relu(tf.matmul(x,W1)+b1)\n",
    "# a2=tf.nn.relu(tf.matmul(a1,W2)+b2)\n",
    "\n",
    "## softmax cause some problem in learning. \n",
    "## If we set the flow as some ex line using softmax, the learnig is failed.\n",
    "## logit3=tf.nn.softmax(tf.matmul(a2,W3)+b3)\n",
    "# logit3=tf.matmul(a2,W3)+b3\n",
    "\n",
    "## cost=tf.reduce_mean(-tf.reduce_sum(y_*tf.log(softmax(logit3)),reduction_indices=[1]))\n",
    "#cost=tf.reduce_mean(tf.nn.softmax_cross_entropy_with_logits(logits=logit3,labels=y_))\n",
    "## optimizer=tf.train.GradientDescentOptimizer(learning_rate=lr).minimize(cost)\n",
    "#optimizer=tf.train.AdamOptimizer(learning_rate=lr).minimize(cost)\n",
    "\n",
    "print(cost)\n",
    "print(optimizer)\n"
   ]
  },
  {
   "cell_type": "code",
   "execution_count": 6,
   "metadata": {},
   "outputs": [
    {
     "ename": "TypeError",
     "evalue": "Can't convert 'float' object to str implicitly",
     "output_type": "error",
     "traceback": [
      "\u001b[1;31m---------------------------------------------------------------------------\u001b[0m",
      "\u001b[1;31mTypeError\u001b[0m                                 Traceback (most recent call last)",
      "\u001b[1;32m<ipython-input-6-71cec056c161>\u001b[0m in \u001b[0;36m<module>\u001b[1;34m()\u001b[0m\n\u001b[0;32m     15\u001b[0m \u001b[1;33m\u001b[0m\u001b[0m\n\u001b[0;32m     16\u001b[0m \u001b[0mtrain_time\u001b[0m\u001b[1;33m=\u001b[0m\u001b[0mtime\u001b[0m\u001b[1;33m.\u001b[0m\u001b[0mtime\u001b[0m\u001b[1;33m(\u001b[0m\u001b[1;33m)\u001b[0m\u001b[1;33m\u001b[0m\u001b[0m\n\u001b[1;32m---> 17\u001b[1;33m \u001b[0mprint\u001b[0m\u001b[1;33m(\u001b[0m\u001b[1;34m'training time: %.5f'\u001b[0m\u001b[1;33m+\u001b[0m\u001b[1;33m(\u001b[0m\u001b[0mtrain_time\u001b[0m\u001b[1;33m-\u001b[0m\u001b[0mstart_time\u001b[0m\u001b[1;33m)\u001b[0m\u001b[1;33m)\u001b[0m\u001b[1;33m\u001b[0m\u001b[0m\n\u001b[0m\u001b[0;32m     18\u001b[0m \u001b[1;33m\u001b[0m\u001b[0m\n\u001b[0;32m     19\u001b[0m \u001b[0mplt\u001b[0m\u001b[1;33m.\u001b[0m\u001b[0mplot\u001b[0m\u001b[1;33m(\u001b[0m\u001b[0mrange\u001b[0m\u001b[1;33m(\u001b[0m\u001b[0mtraining_epochs\u001b[0m\u001b[1;33m)\u001b[0m\u001b[1;33m,\u001b[0m\u001b[0mavg_cost_list\u001b[0m\u001b[1;33m)\u001b[0m\u001b[1;33m\u001b[0m\u001b[0m\n",
      "\u001b[1;31mTypeError\u001b[0m: Can't convert 'float' object to str implicitly"
     ]
    }
   ],
   "source": [
    "sess=tf.Session()\n",
    "start_time=time.time()\n",
    "init=tf.global_variables_initializer()\n",
    "sess.run(init)\n",
    "# init=tf.initialize_all_variables() is same with global_variables_initializer\n",
    "avg_cost_list=[]\n",
    "\n",
    "for epoch in range(training_epochs):\n",
    "    avg_cost=0.\n",
    "    for step in range(total_batch):\n",
    "        batch_xs,batch_ys=mnist.train.next_batch(batch_size)\n",
    "        sess.run(optimizer,feed_dict={x:batch_xs,y_:batch_ys})\n",
    "        avg_cost+=sess.run(cost,feed_dict={x:batch_xs,y_:batch_ys})/total_batch\n",
    "    avg_cost_list.append(avg_cost)\n",
    "\n",
    "train_time=time.time()\n",
    "print('training time: %.5f' % (train_time-start_time))\n",
    "\n",
    "plt.plot(range(training_epochs),avg_cost_list)\n",
    "plt.xlabel('epoch')\n",
    "plt.ylabel('cost')\n",
    "correct_prediction=tf.equal(tf.argmax(logit3,1),tf.argmax(y_,1))\n",
    "accuracy=tf.reduce_mean(tf.cast(correct_prediction,dtype='float32'))\n",
    "ac=sess.run(accuracy,feed_dict={x:mnist.test.images,y_:mnist.test.labels})\n",
    "print('accuracy : '+str(ac*100)+'%')\n",
    "\n",
    "sess.close()\n",
    "sess_time=time.time()\n",
    "print('session time: %.5f'+(sess_time-start_time))\n"
   ]
  },
  {
   "cell_type": "markdown",
   "metadata": {},
   "source": [
    "## (plus) Xavier initialization"
   ]
  },
  {
   "cell_type": "code",
   "execution_count": 7,
   "metadata": {},
   "outputs": [],
   "source": [
    "def xavier_initializer(n_inputs,n_outputs,uniform=True):\n",
    "    if uniform:\n",
    "        init_range=tf.sqrt(6./(n_inputs+n_outputs))\n",
    "        return tf.random_uniform_initializer(-init_range,init_range)\n",
    "    else:\n",
    "        stddev=tf.sqrt(3./(n_inputs+n_outputs))\n",
    "        return tf.truncated_normal_initializer(stddev=stddev)"
   ]
  },
  {
   "cell_type": "code",
   "execution_count": 10,
   "metadata": {},
   "outputs": [
    {
     "name": "stdout",
     "output_type": "stream",
     "text": [
      "96.7500090599%\n"
     ]
    },
    {
     "data": {
      "image/png": "[encoded data removed]",
      "text/plain": [
       "<Figure size 432x288 with 1 Axes>"
      ]
     },
     "metadata": {
      "needs_background": "light"
     },
     "output_type": "display_data"
    }
   ],
   "source": [
    "tf.reset_default_graph()\n",
    "# almost same code with basic classification task with DNN except variable declaration part\n",
    "W1=tf.get_variable(name='W1',shape=[image_size,n_hidden1],\n",
    "                   initializer=xavier_initializer(image_size,n_hidden1))\n",
    "W2=tf.get_variable(name='W2',shape=[n_hidden1,n_hidden2],\n",
    "                   initializer=xavier_initializer(n_hidden1,n_hidden2))\n",
    "W3=tf.get_variable(name='W3',shape=[n_hidden2,n_class],\n",
    "                   initializer=xavier_initializer(n_hidden2,n_class))\n",
    "# original code: W3=tf.Variable(tf.random_normal([n_hidden2,n_class]))\n",
    "\n",
    "b1=tf.Variable(tf.random_normal([n_hidden1]))\n",
    "b2=tf.Variable(tf.random_normal([n_hidden2]))\n",
    "b3=tf.Variable(tf.random_normal([n_class]))\n",
    "\n",
    "x=tf.placeholder('float32',[None,image_size])\n",
    "y_=tf.placeholder('float32',[None,n_class])\n",
    "\n",
    "a1=tf.nn.relu(tf.matmul(x,W1)+b1)\n",
    "a2=tf.nn.relu(tf.matmul(a1,W2)+b2)\n",
    "a3=tf.matmul(a2,W3)+b3\n",
    "\n",
    "cost=tf.reduce_mean(tf.nn.softmax_cross_entropy_with_logits(logits=a3,labels=y_))\n",
    "optimizer=tf.train.AdamOptimizer(learning_rate=lr).minimize(cost)\n",
    "\n",
    "sess=tf.Session()\n",
    "init=tf.global_variables_initializer()\n",
    "sess.run(init)\n",
    "avg_cost_list=[]\n",
    "\n",
    "for epoch in range(training_epochs):\n",
    "    avg_cost=0.\n",
    "    for step in range(total_batch):\n",
    "        batch_xs,batch_ys=mnist.train.next_batch(batch_size)\n",
    "        sess.run(optimizer,feed_dict={x:batch_xs,y_:batch_ys})\n",
    "        avg_cost+=sess.run(cost,feed_dict={x:batch_xs,y_:batch_ys})/total_batch\n",
    "    avg_cost_list.append(avg_cost)\n",
    "\n",
    "plt.plot(range(training_epochs),avg_cost_list)\n",
    "\n",
    "correct_prediction=tf.equal(tf.argmax(a3,1),tf.argmax(y_,1))\n",
    "accuracy=tf.reduce_mean(tf.cast(correct_prediction,dtype='float32'))\n",
    "ac=sess.run(accuracy,feed_dict={x:mnist.test.images,y_:mnist.test.labels})\n",
    "print('accuracy : '+str(ac*100)+'%')\n"
   ]
  },
  {
   "cell_type": "code",
   "execution_count": 11,
   "metadata": {},
   "outputs": [],
   "source": [
    "sess.close()"
   ]
  },
  {
   "cell_type": "markdown",
   "metadata": {},
   "source": [
    "## (plus) dropout technique for preventing overfitting in deeper neural network"
   ]
  },
  {
   "cell_type": "code",
   "execution_count": 28,
   "metadata": {},
   "outputs": [
    {
     "name": "stdout",
     "output_type": "stream",
     "text": [
      "accuracy : 98.0500102043%\n"
     ]
    },
    {
     "data": {
      "image/png": "[encoded data removed]",
      "text/plain": [
       "<Figure size 432x288 with 1 Axes>"
      ]
     },
     "metadata": {
      "needs_background": "light"
     },
     "output_type": "display_data"
    }
   ],
   "source": [
    "tf.reset_default_graph()\n",
    "_dropout_rate=0.7\n",
    "lr=0.001\n",
    "# almost same code with basic classification task with DNN except model constructino part\n",
    "W1=tf.get_variable(name='W1',shape=[image_size,n_hidden1],\n",
    "                   initializer=xavier_initializer(image_size,n_hidden1))\n",
    "W2=tf.get_variable(name='W2',shape=[n_hidden1,n_hidden2],\n",
    "                   initializer=xavier_initializer(n_hidden1,n_hidden2))\n",
    "W3=tf.get_variable(name='W3',shape=[n_hidden1,n_hidden2],\n",
    "                   initializer=xavier_initializer(n_hidden1,n_hidden2))\n",
    "W4=tf.get_variable(name='W4',shape=[n_hidden1,n_hidden2],\n",
    "                   initializer=xavier_initializer(n_hidden1,n_hidden2))\n",
    "W5=tf.get_variable(name='W5',shape=[n_hidden2,n_class],\n",
    "                   initializer=xavier_initializer(n_hidden2,n_class))\n",
    "\n",
    "b1=tf.Variable(tf.random_normal([n_hidden1]))\n",
    "b2=tf.Variable(tf.random_normal([n_hidden2]))\n",
    "b3=tf.Variable(tf.random_normal([n_hidden2]))\n",
    "b4=tf.Variable(tf.random_normal([n_hidden2]))\n",
    "b5=tf.Variable(tf.random_normal([n_class]))\n",
    "\n",
    "x=tf.placeholder('float32',[None,image_size])\n",
    "y_=tf.placeholder('float32',[None,n_class])\n",
    "dropout_rate=tf.placeholder('float')\n",
    "\n",
    "# dropout part\n",
    "_a1=tf.nn.relu(tf.matmul(x,W1)+b1)\n",
    "a1=tf.nn.dropout(_a1,keep_prob=dropout_rate)\n",
    "_a2=tf.nn.relu(tf.matmul(a1,W2)+b2)\n",
    "a2=tf.nn.dropout(_a2,keep_prob=dropout_rate)\n",
    "_a3=tf.nn.relu(tf.matmul(a2,W3)+b3)\n",
    "a3=tf.nn.dropout(_a3,keep_prob=dropout_rate)\n",
    "_a4=tf.nn.relu(tf.matmul(a3,W4)+b4)\n",
    "a4=tf.nn.dropout(_a4,keep_prob=dropout_rate)\n",
    "a5=tf.matmul(a4,W5)+b5\n",
    "\n",
    "cost=tf.reduce_mean(tf.nn.softmax_cross_entropy_with_logits(logits=a5,labels=y_))\n",
    "optimizer=tf.train.AdamOptimizer(learning_rate=lr).minimize(cost)\n",
    "\n",
    "sess=tf.Session()\n",
    "init=tf.global_variables_initializer()\n",
    "sess.run(init)\n",
    "avg_cost_list=[]\n",
    "\n",
    "for epoch in range(training_epochs):\n",
    "    avg_cost=0.\n",
    "    for step in range(total_batch):\n",
    "        batch_xs,batch_ys=mnist.train.next_batch(batch_size)\n",
    "        sess.run(optimizer,feed_dict={x:batch_xs,y_:batch_ys,dropout_rate:_dropout_rate})\n",
    "        avg_cost+=sess.run(cost,feed_dict={x:batch_xs,y_:batch_ys,\n",
    "                                           dropout_rate:_dropout_rate})/total_batch\n",
    "    avg_cost_list.append(avg_cost)\n",
    "\n",
    "plt.plot(range(training_epochs),avg_cost_list)\n",
    "\n",
    "correct_prediction=tf.equal(tf.argmax(a5,1),tf.argmax(y_,1))\n",
    "accuracy=tf.reduce_mean(tf.cast(correct_prediction,dtype='float32'))\n",
    "\n",
    "# In the case of prediction, dropout rate should be 1. \n",
    "ac=sess.run(accuracy,feed_dict={x:mnist.test.images,y_:mnist.test.labels,dropout_rate:1})\n",
    "print('accuracy : '+str(ac*100)+'%')\n"
   ]
  },
  {
   "cell_type": "code",
   "execution_count": 29,
   "metadata": {},
   "outputs": [],
   "source": [
    "sess.close()"
   ]
  },
  {
   "cell_type": "code",
   "execution_count": null,
   "metadata": {},
   "outputs": [],
   "source": []
  }
 ],
 "metadata": {
  "kernelspec": {
   "display_name": "Python 3",
   "language": "python",
   "name": "python3"
  },
  "language_info": {
   "codemirror_mode": {
    "name": "ipython",
    "version": 3
   },
   "file_extension": ".py",
   "mimetype": "text/x-python",
   "name": "python",
   "nbconvert_exporter": "python",
   "pygments_lexer": "ipython3",
   "version": "3.5.6"
  }
 },
 "nbformat": 4,
 "nbformat_minor": 2
}
