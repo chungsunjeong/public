{
 "cells": [
  {
   "cell_type": "markdown",
   "metadata": {},
   "source": [
    "# [NA] MNIST classification with autoencoder"
   ]
  },
  {
   "cell_type": "markdown",
   "metadata": {},
   "source": [
    "## Basic classification task with simple autoencoder"
   ]
  },
  {
   "cell_type": "code",
   "execution_count": 1,
   "metadata": {},
   "outputs": [],
   "source": [
    "import numpy as np\n",
    "import tensorflow as tf\n",
    "import matplotlib.pyplot as plt\n",
    "from tensorflow.examples.tutorials.mnist import input_data"
   ]
  },
  {
   "cell_type": "code",
   "execution_count": 4,
   "metadata": {},
   "outputs": [
    {
     "name": "stdout",
     "output_type": "stream",
     "text": [
      "Extracting MNIST_data/train-images-idx3-ubyte.gz\n",
      "Extracting MNIST_data/train-labels-idx1-ubyte.gz\n",
      "Extracting MNIST_data/t10k-images-idx3-ubyte.gz\n",
      "Extracting MNIST_data/t10k-labels-idx1-ubyte.gz\n",
      "55000\n",
      "5000\n",
      "10000\n"
     ]
    }
   ],
   "source": [
    "mnist=input_data.read_data_sets(\"MNIST_data/\",one_hot=True)\n",
    "print(mnist.train.num_examples)\n",
    "print(mnist.validation.num_examples)\n",
    "print(mnist.test.num_examples)"
   ]
  },
  {
   "cell_type": "code",
   "execution_count": 5,
   "metadata": {},
   "outputs": [
    {
     "name": "stdout",
     "output_type": "stream",
     "text": [
      "550\n"
     ]
    }
   ],
   "source": [
    "# parameter and hyperparameter setting\n",
    "pixel=28\n",
    "image_size=pixel*pixel\n",
    "n_class=10\n",
    "n_hidden=200\n",
    "n_latent=50\n",
    "\n",
    "lr=0.001\n",
    "training_epochs=15\n",
    "batch_size=100\n",
    "total_batch=int(mnist.train.num_examples/batch_size)\n",
    "print(total_batch)\n",
    "\n",
    "display_step=1\n",
    "example_to_show=10"
   ]
  },
  {
   "cell_type": "code",
   "execution_count": 7,
   "metadata": {},
   "outputs": [],
   "source": [
    "tf.reset_default_graph()"
   ]
  },
  {
   "cell_type": "code",
   "execution_count": 14,
   "metadata": {},
   "outputs": [],
   "source": [
    "# autoencoder part\n",
    "def weight_variable(shape):\n",
    "#     return tf.Variable(tf.random_normal(shape=shape))\n",
    "    return tf.Variable(tf.truncated_normal(shape=shape,stddev=0.1))\n",
    "\n",
    "def bias_variable(shape):\n",
    "#     return tf.Variable(tf.random_normal(shape=shape))\n",
    "    return tf.Variable(tf.constant(shape=shape,value=0.1))\n",
    "\n",
    "def fc_layer(inputs,n_outputs,activation_fn=tf.nn.relu,keep_prob=1):\n",
    "    n_inputs=int(inputs.shape[1])\n",
    "    W_fc=weight_variable([n_inputs,n_outputs])\n",
    "    b_fc=bias_variable([n_outputs])\n",
    "    logit_fc=tf.matmul(inputs,W_fc)+b_fc\n",
    "    _a_fc=activation_fn(logit_fc)\n",
    "    a_fc=tf.nn.dropout(_a_fc,keep_prob=keep_prob)\n",
    "    return a_fc, logit_fc\n"
   ]
  },
  {
   "cell_type": "code",
   "execution_count": 15,
   "metadata": {},
   "outputs": [
    {
     "name": "stdout",
     "output_type": "stream",
     "text": [
      "Tensor(\"add_12:0\", shape=(), dtype=float32)\n",
      "name: \"Adam_5\"\n",
      "op: \"NoOp\"\n",
      "input: \"^Adam_5/update_Variable_14/ApplyAdam\"\n",
      "input: \"^Adam_5/update_Variable_15/ApplyAdam\"\n",
      "input: \"^Adam_5/update_Variable_16/ApplyAdam\"\n",
      "input: \"^Adam_5/update_Variable_17/ApplyAdam\"\n",
      "input: \"^Adam_5/update_Variable_18/ApplyAdam\"\n",
      "input: \"^Adam_5/update_Variable_19/ApplyAdam\"\n",
      "input: \"^Adam_5/update_Variable_20/ApplyAdam\"\n",
      "input: \"^Adam_5/update_Variable_21/ApplyAdam\"\n",
      "input: \"^Adam_5/update_Variable_22/ApplyAdam\"\n",
      "input: \"^Adam_5/update_Variable_23/ApplyAdam\"\n",
      "input: \"^Adam_5/Assign\"\n",
      "input: \"^Adam_5/Assign_1\"\n",
      "\n"
     ]
    }
   ],
   "source": [
    "x=tf.placeholder('float32',[None,image_size])\n",
    "y_=tf.placeholder('float32',[None,n_class])\n",
    "\n",
    "a1,_=fc_layer(x,n_hidden,activation_fn=tf.nn.sigmoid,keep_prob=1)\n",
    "a2,_=fc_layer(a1,n_latent,activation_fn=tf.nn.sigmoid,keep_prob=1)\n",
    "a3,_=fc_layer(a2,n_hidden,activation_fn=tf.nn.sigmoid,keep_prob=1)\n",
    "a4,_=fc_layer(a3,image_size,activation_fn=tf.nn.sigmoid,keep_prob=1)\n",
    "\n",
    "# W1=tf.Variable(tf.random_normal([image_size,n_hidden]))\n",
    "# W2=tf.Variable(tf.random_normal([n_hidden,n_latent]))\n",
    "# W3=tf.Variable(tf.random_normal([n_latent,n_hidden]))\n",
    "# W4=tf.Variable(tf.random_normal([n_hidden,image_size]))\n",
    "# b1=tf.Variable(tf.random_normal([n_hidden]))\n",
    "# b2=tf.Variable(tf.random_normal([n_latent]))\n",
    "# b3=tf.Variable(tf.random_normal([n_hidden]))\n",
    "# b4=tf.Variable(tf.random_normal([image_size]))\n",
    "# a1=tf.nn.sigmoid(tf.matmul(x,W1)+b1)\n",
    "# a2=tf.nn.sigmoid(tf.matmul(a1,W2)+b2)\n",
    "# a3=tf.nn.sigmoid(tf.matmul(a2,W3)+b3)\n",
    "# a4=tf.nn.sigmoid(tf.matmul(a3,W4)+b4)\n",
    "\n",
    "\n",
    "cost_autoencoder=tf.reduce_mean(tf.squared_difference(x,a4))\n",
    "optimizer_autoencoder=tf.train.AdamOptimizer(learning_rate=lr).minimize(cost_autoencoder)\n",
    "\n",
    "# softmax classifier part\n",
    "# y=fc_layer(a2,10)\n",
    "Wc1=tf.Variable(tf.random_normal([n_latent,10]))\n",
    "bc1=tf.Variable(tf.random_normal([10]))\n",
    "y=tf.matmul(a2,Wc1)+bc1\n",
    "cost_classifier=tf.reduce_mean(tf.nn.softmax_cross_entropy_with_logits(labels=y_,logits=y))\n",
    "optimizer_classifier=tf.train.AdamOptimizer(learning_rate=lr).minimize(cost_classifier)\n",
    "\n",
    "# Fine tuning optimization\n",
    "cost_total=cost_autoencoder+cost_classifier\n",
    "optimizer_total=tf.train.AdamOptimizer(learning_rate=lr).minimize(cost_total)\n",
    "print(cost_total)\n",
    "print(optimizer_total)\n"
   ]
  },
  {
   "cell_type": "code",
   "execution_count": 16,
   "metadata": {},
   "outputs": [
    {
     "name": "stdout",
     "output_type": "stream",
     "text": [
      "Epoch:  0001 cost= 0.048502833\n",
      "Epoch:  0002 cost= 0.035553169\n",
      "Epoch:  0003 cost= 0.031217378\n",
      "Epoch:  0004 cost= 0.025092285\n",
      "Epoch:  0005 cost= 0.020841561\n",
      "Epoch:  0006 cost= 0.020345965\n",
      "Epoch:  0007 cost= 0.018551892\n",
      "Epoch:  0008 cost= 0.016859896\n",
      "Epoch:  0009 cost= 0.014645469\n",
      "Epoch:  0010 cost= 0.014611692\n",
      "Epoch:  0011 cost= 0.013009502\n",
      "Epoch:  0012 cost= 0.011920376\n",
      "Epoch:  0013 cost= 0.012929883\n",
      "Epoch:  0014 cost= 0.011352038\n",
      "Epoch:  0015 cost= 0.012269545\n",
      "Autoencoder pre-training optimization finished.\n"
     ]
    }
   ],
   "source": [
    "sess=tf.Session()\n",
    "init=tf.global_variables_initializer()\n",
    "sess.run(init)\n",
    "avg_cost_list=[]\n",
    "\n",
    "for eapoch in range(training_epochs):\n",
    "    avg_cost=0.\n",
    "    for step in range(total_batch):\n",
    "        batch_xs,batch_ys=mnist.train.next_batch(batch_size)\n",
    "        _,cost_value=sess.run([optimizer_autoencoder,cost_autoencoder],feed_dict={x:batch_xs})\n",
    "    if epoch % display_step ==0:\n",
    "        print(\"Epoch: \", '%04d' %(epoch+1), \"cost=\",\"{:.9f}\".format(cost_value))\n",
    "print(\"Autoencoder pre-training optimization finished.\")\n"
   ]
  },
  {
   "cell_type": "code",
   "execution_count": 17,
   "metadata": {},
   "outputs": [
    {
     "name": "stderr",
     "output_type": "stream",
     "text": [
      "C:\\ProgramData\\Anaconda3\\envs\\tensorflow\\lib\\site-packages\\matplotlib\\figure.py:445: UserWarning: Matplotlib is currently using module://ipykernel.pylab.backend_inline, which is a non-GUI backend, so cannot show the figure.\n",
      "  % get_backend())\n"
     ]
    },
    {
     "data": {
      "image/png": "[encoded data removed]",
      "text/plain": [
       "<Figure size 720x144 with 20 Axes>"
      ]
     },
     "metadata": {
      "needs_background": "light"
     },
     "output_type": "display_data"
    }
   ],
   "source": [
    "x_reconstructed=sess.run(a4,feed_dict={x:mnist.test.images[:example_to_show]})\n",
    "f,a=plt.subplots(2,10,figsize=(10,2))\n",
    "for i in range(example_to_show):\n",
    "    a[0][i].imshow(np.reshape(mnist.test.images[i],(pixel,pixel)))\n",
    "    a[1][i].imshow(np.reshape(x_reconstructed[i],(pixel,pixel)))\n",
    "f.show()\n",
    "plt.draw()\n",
    "plt.show()"
   ]
  },
  {
   "cell_type": "code",
   "execution_count": 18,
   "metadata": {},
   "outputs": [
    {
     "name": "stdout",
     "output_type": "stream",
     "text": [
      "Epoch:  0001 cost= 0.341930002\n",
      "Epoch:  0002 cost= 0.159727082\n",
      "Epoch:  0003 cost= 0.093524702\n",
      "Epoch:  0004 cost= 0.065358609\n",
      "Epoch:  0005 cost= 0.045924425\n",
      "Epoch:  0006 cost= 0.017592929\n",
      "Epoch:  0007 cost= 0.078785665\n",
      "Epoch:  0008 cost= 0.089591295\n",
      "Epoch:  0009 cost= 0.039724987\n",
      "Epoch:  0010 cost= 0.023918467\n",
      "Epoch:  0011 cost= 0.038497224\n",
      "Epoch:  0012 cost= 0.013839857\n",
      "Epoch:  0013 cost= 0.008711847\n",
      "Epoch:  0014 cost= 0.004545196\n",
      "Epoch:  0015 cost= 0.004082967\n",
      "Classifier optimization finished.\n"
     ]
    }
   ],
   "source": [
    "plt.close()\n",
    "# training softmax classificer with latent features\n",
    "avg_cost_list=[]\n",
    "\n",
    "for epoch in range(training_epochs):\n",
    "    avg_cost=0.\n",
    "    for step in range(total_batch):\n",
    "        batch_xs,batch_ys=mnist.train.next_batch(batch_size)\n",
    "        _,cost_value=sess.run([optimizer_classifier,cost_classifier],\n",
    "                              feed_dict={x:batch_xs,y_:batch_ys})\n",
    "    if epoch % display_step ==0:\n",
    "        print(\"Epoch: \", '%04d' %(epoch+1), \"cost=\",\"{:.9f}\".format(cost_value))\n",
    "print(\"Classifier optimization finished.\")"
   ]
  },
  {
   "cell_type": "code",
   "execution_count": 19,
   "metadata": {},
   "outputs": [
    {
     "name": "stdout",
     "output_type": "stream",
     "text": [
      "Accuracy (before fine-tuning): 97.99000024795532%\n"
     ]
    }
   ],
   "source": [
    "correct_prediction=tf.equal(tf.argmax(y,1),tf.argmax(y_,1))\n",
    "accuracy=tf.reduce_mean(tf.cast(correct_prediction,dtype='float32'))\n",
    "ac=sess.run(accuracy,feed_dict={x:mnist.test.images,y_:mnist.test.labels})\n",
    "print('Accuracy (before fine-tuning): '+str(ac*100)+'%')"
   ]
  },
  {
   "cell_type": "code",
   "execution_count": 20,
   "metadata": {},
   "outputs": [
    {
     "name": "stdout",
     "output_type": "stream",
     "text": [
      "Epoch:  0001 cost= 0.037147880\n",
      "Epoch:  0002 cost= 0.036267728\n",
      "Epoch:  0003 cost= 0.029677276\n",
      "Epoch:  0004 cost= 0.027072204\n",
      "Epoch:  0005 cost= 0.023096450\n",
      "Epoch:  0006 cost= 0.021558266\n",
      "Epoch:  0007 cost= 0.022740386\n",
      "Epoch:  0008 cost= 0.023602173\n",
      "Epoch:  0009 cost= 0.024095859\n",
      "Epoch:  0010 cost= 0.019877555\n",
      "Epoch:  0011 cost= 0.018244416\n",
      "Epoch:  0012 cost= 0.016088493\n",
      "Epoch:  0013 cost= 0.015347683\n",
      "Epoch:  0014 cost= 0.015308597\n",
      "Epoch:  0015 cost= 0.013620300\n",
      "Fine-tuning softmax model optimization finished.\n"
     ]
    }
   ],
   "source": [
    "# fine-tuning softmax model\n",
    "avg_cost_list=[]\n",
    "\n",
    "for epoch in range(training_epochs):\n",
    "    avg_cost=0.\n",
    "    for step in range(total_batch):\n",
    "        batch_xs,batch_ys=mnist.train.next_batch(batch_size)\n",
    "        _,cost_value=sess.run([optimizer_total,cost_total],\n",
    "                              feed_dict={x:batch_xs,y_:batch_ys})\n",
    "    if epoch % display_step ==0:\n",
    "        print(\"Epoch: \", '%04d' %(epoch+1), \"cost=\",\"{:.9f}\".format(cost_value))\n",
    "print(\"Fine-tuning softmax model optimization finished.\")"
   ]
  },
  {
   "cell_type": "code",
   "execution_count": 21,
   "metadata": {},
   "outputs": [
    {
     "name": "stderr",
     "output_type": "stream",
     "text": [
      "C:\\ProgramData\\Anaconda3\\envs\\tensorflow\\lib\\site-packages\\matplotlib\\figure.py:445: UserWarning: Matplotlib is currently using module://ipykernel.pylab.backend_inline, which is a non-GUI backend, so cannot show the figure.\n",
      "  % get_backend())\n"
     ]
    },
    {
     "data": {
      "image/png": "[encoded data removed]",
      "text/plain": [
       "<Figure size 720x144 with 20 Axes>"
      ]
     },
     "metadata": {
      "needs_background": "light"
     },
     "output_type": "display_data"
    }
   ],
   "source": [
    "x_reconstructed=sess.run(a4,feed_dict={x:mnist.test.images[:example_to_show]})\n",
    "f,a=plt.subplots(2,10,figsize=(10,2))\n",
    "for i in range(example_to_show):\n",
    "    a[0][i].imshow(np.reshape(mnist.test.images[i],(pixel,pixel)))\n",
    "    a[1][i].imshow(np.reshape(x_reconstructed[i],(pixel,pixel)))\n",
    "f.show()\n",
    "plt.draw()\n",
    "plt.show()"
   ]
  },
  {
   "cell_type": "code",
   "execution_count": 22,
   "metadata": {},
   "outputs": [
    {
     "name": "stdout",
     "output_type": "stream",
     "text": [
      "Accuracy (before fine-tuning): 98.12999963760376%\n"
     ]
    }
   ],
   "source": [
    "ac=sess.run(accuracy,feed_dict={x:mnist.test.images,y_:mnist.test.labels})\n",
    "print('Accuracy (before fine-tuning): '+str(ac*100)+'%')\n",
    "# is there significant change in accuracy? \n",
    "# why? maybe small learning rate? or network modeling?"
   ]
  },
  {
   "cell_type": "code",
   "execution_count": 23,
   "metadata": {},
   "outputs": [],
   "source": [
    "tf.reset_default_graph()\n",
    "sess.close()"
   ]
  },
  {
   "cell_type": "code",
   "execution_count": null,
   "metadata": {},
   "outputs": [],
   "source": []
  }
 ],
 "metadata": {
  "kernelspec": {
   "display_name": "Python 3",
   "language": "python",
   "name": "python3"
  },
  "language_info": {
   "codemirror_mode": {
    "name": "ipython",
    "version": 3
   },
   "file_extension": ".py",
   "mimetype": "text/x-python",
   "name": "python",
   "nbconvert_exporter": "python",
   "pygments_lexer": "ipython3",
   "version": "3.5.6"
  }
 },
 "nbformat": 4,
 "nbformat_minor": 2
}
