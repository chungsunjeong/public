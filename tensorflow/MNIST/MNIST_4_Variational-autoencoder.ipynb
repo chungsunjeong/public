{
 "cells": [
  {
   "cell_type": "code",
   "execution_count": 1,
   "metadata": {},
   "outputs": [],
   "source": [
    "import numpy as np\n",
    "import tensorflow as tf\n",
    "import matplotlib.pyplot as plt\n",
    "from tensorflow.examples.tutorials.mnist import input_data"
   ]
  },
  {
   "cell_type": "code",
   "execution_count": 2,
   "metadata": {},
   "outputs": [
    {
     "name": "stdout",
     "output_type": "stream",
     "text": [
      "WARNING:tensorflow:From <ipython-input-2-6406dd46ab18>:1: read_data_sets (from tensorflow.contrib.learn.python.learn.datasets.mnist) is deprecated and will be removed in a future version.\n",
      "Instructions for updating:\n",
      "Please use alternatives such as official/mnist/dataset.py from tensorflow/models.\n",
      "WARNING:tensorflow:From C:\\ProgramData\\Anaconda3\\envs\\tensorflow\\lib\\site-packages\\tensorflow\\contrib\\learn\\python\\learn\\datasets\\mnist.py:260: maybe_download (from tensorflow.contrib.learn.python.learn.datasets.base) is deprecated and will be removed in a future version.\n",
      "Instructions for updating:\n",
      "Please write your own downloading logic.\n",
      "WARNING:tensorflow:From C:\\ProgramData\\Anaconda3\\envs\\tensorflow\\lib\\site-packages\\tensorflow\\contrib\\learn\\python\\learn\\datasets\\mnist.py:262: extract_images (from tensorflow.contrib.learn.python.learn.datasets.mnist) is deprecated and will be removed in a future version.\n",
      "Instructions for updating:\n",
      "Please use tf.data to implement this functionality.\n",
      "Extracting MNIST_data/train-images-idx3-ubyte.gz\n",
      "WARNING:tensorflow:From C:\\ProgramData\\Anaconda3\\envs\\tensorflow\\lib\\site-packages\\tensorflow\\contrib\\learn\\python\\learn\\datasets\\mnist.py:267: extract_labels (from tensorflow.contrib.learn.python.learn.datasets.mnist) is deprecated and will be removed in a future version.\n",
      "Instructions for updating:\n",
      "Please use tf.data to implement this functionality.\n",
      "Extracting MNIST_data/train-labels-idx1-ubyte.gz\n",
      "WARNING:tensorflow:From C:\\ProgramData\\Anaconda3\\envs\\tensorflow\\lib\\site-packages\\tensorflow\\contrib\\learn\\python\\learn\\datasets\\mnist.py:110: dense_to_one_hot (from tensorflow.contrib.learn.python.learn.datasets.mnist) is deprecated and will be removed in a future version.\n",
      "Instructions for updating:\n",
      "Please use tf.one_hot on tensors.\n",
      "Extracting MNIST_data/t10k-images-idx3-ubyte.gz\n",
      "Extracting MNIST_data/t10k-labels-idx1-ubyte.gz\n",
      "WARNING:tensorflow:From C:\\ProgramData\\Anaconda3\\envs\\tensorflow\\lib\\site-packages\\tensorflow\\contrib\\learn\\python\\learn\\datasets\\mnist.py:290: DataSet.__init__ (from tensorflow.contrib.learn.python.learn.datasets.mnist) is deprecated and will be removed in a future version.\n",
      "Instructions for updating:\n",
      "Please use alternatives such as official/mnist/dataset.py from tensorflow/models.\n",
      "55000\n",
      "5000\n",
      "10000\n"
     ]
    }
   ],
   "source": [
    "mnist=input_data.read_data_sets(\"MNIST_data/\",one_hot=True)\n",
    "print(mnist.train.num_examples)\n",
    "print(mnist.validation.num_examples)\n",
    "print(mnist.test.num_examples)"
   ]
  },
  {
   "cell_type": "code",
   "execution_count": 3,
   "metadata": {},
   "outputs": [
    {
     "name": "stdout",
     "output_type": "stream",
     "text": [
      "550\n"
     ]
    }
   ],
   "source": [
    "# parameter and hyperparameter setting\n",
    "pixel=28\n",
    "image_size=pixel*pixel\n",
    "n_class=10\n",
    "n_hidden1=500\n",
    "n_hidden2=500\n",
    "n_latent=20\n",
    "batch_size=100\n",
    "training_epochs=15\n",
    "total_batch=int(mnist.train.num_examples/batch_size)\n",
    "print(total_batch)\n",
    "\n",
    "lr=0.001\n",
    "\n",
    "display_step=1\n",
    "example_to_show=10"
   ]
  },
  {
   "cell_type": "code",
   "execution_count": 4,
   "metadata": {},
   "outputs": [],
   "source": [
    "x=tf.placeholder('float32',[None,image_size])\n",
    "keep_prob=tf.placeholder('float32')\n",
    "z_in=tf.placeholder('float32',[None,n_latent])"
   ]
  },
  {
   "cell_type": "code",
   "execution_count": 5,
   "metadata": {},
   "outputs": [],
   "source": [
    "def weight_variable(shape):\n",
    "#     init=tf.Variable(tf.random_normal(shape=shape,dtype='float32'))\n",
    "    init=tf.truncated_normal(shape,stddev=0.1)\n",
    "    return tf.Variable(init)\n",
    "\n",
    "def bias_variable(shape):\n",
    "#     init=tf.Variable(tf.random_normal(shape=shape,dtype='float32'))\n",
    "    init=tf.constant(0.1,shape=shape)\n",
    "    return tf.Variable(init)\n",
    "\n",
    "def fc_layer(inputs,n_outputs,activation_fn=tf.nn.relu,keep_prob=1):\n",
    "    n_inputs=int(inputs.shape[1])\n",
    "    W_fc=weight_variable([n_inputs,n_outputs])\n",
    "    b_fc=bias_variable([n_outputs])\n",
    "    logit_fc=tf.matmul(inputs,W_fc)+b_fc\n",
    "    _a_fc=activation_fn(logit_fc)\n",
    "    a_fc=tf.nn.dropout(_a_fc,keep_prob=keep_prob)\n",
    "    return a_fc,logit_fc\n",
    "\n",
    "def encoder(inputs,n_hidden1,n_hidden2,n_latent,keep_prob=1):\n",
    "    fc_layer1,_=fc_layer(inputs,n_hidden1,activation_fn=tf.nn.sigmoid,keep_prob=keep_prob)\n",
    "    fc_layer2,_=fc_layer(fc_layer1,n_hidden2,activation_fn=tf.nn.sigmoid,keep_prob=keep_prob)\n",
    "    \n",
    "    w_encoder=weight_variable([n_hidden2,n_latent*2])\n",
    "    b_encoder=bias_variable([n_latent*2])\n",
    "    gaussian_params=tf.matmul(fc_layer2,w_encoder)+b_encoder\n",
    "    \n",
    "    mean=gaussian_params[:,:n_latent]\n",
    "    # to make stddev be positive, add softplus \n",
    "    # to make stddev be stable, add a small epsilon\n",
    "    stddev=1e-6+tf.nn.softplus(gaussian_params[:,n_latent:])\n",
    "    return mean,stddev\n",
    "\n",
    "def decoder(z,n_hidden2,n_hidden1,n_outputs,keep_prob=1):\n",
    "    fc_layer1,_=fc_layer(z,n_hidden2,activation_fn=tf.nn.sigmoid,keep_prob=keep_prob)\n",
    "    fc_layer2,_=fc_layer(fc_layer1,n_hidden1,activation_fn=tf.nn.sigmoid,keep_prob=keep_prob)\n",
    "    \n",
    "    w_decoder=weight_variable([n_hidden1,n_outputs])\n",
    "    b_decoder=bias_variable([n_outputs])\n",
    "    outputs=tf.sigmoid(tf.matmul(fc_layer2,w_decoder)+b_decoder)\n",
    "    \n",
    "    return outputs\n",
    "\n",
    "def variational_autoencoder(inputs,n_hidden1,n_hidden2,n_latent,keep_prob=1):\n",
    "    # encoder\n",
    "    mu,std=encoder(inputs,n_hidden1,n_hidden2,n_latent,keep_prob)\n",
    "    \n",
    "    # sampling by re-parameterization technique\n",
    "    latent_variable=mu+std*tf.random_normal(tf.shape(mu),mean=0,stddev=1,dtype='float32')\n",
    "    \n",
    "    # decoder\n",
    "    n_outputs=int(inputs.shape[1])\n",
    "    x_=decoder(latent_variable,n_hidden2,n_hidden1,n_outputs,keep_prob)\n",
    "    x_=tf.clip_by_value(x_,1e-8,1-1e-8)\n",
    "    \n",
    "    # loss\n",
    "    marginal_likelihood=tf.reduce_sum(inputs*tf.log(x_)+(1-inputs)*tf.log(1-x_),1)\n",
    "    KL_divergence=0.5*tf.reduce_sum(tf.square(mu)+tf.square(std)-tf.log(1e-7+tf.square(std))-1,1)\n",
    "    \n",
    "    marginal_likelihood=tf.reduce_mean(marginal_likelihood)\n",
    "    KL_divergence=tf.reduce_mean(KL_divergence)\n",
    "    \n",
    "    ELBO=marginal_likelihood-KL_divergence\n",
    "    \n",
    "    loss=-ELBO\n",
    "    \n",
    "    return x_,latent_variable,loss,-marginal_likelihood,KL_divergence\n",
    "\n",
    "def generator(z,n_hidden2,n_hidden1,n_outputs):\n",
    "    return decoder(z,n_hidden2,n_hidden1,n_outputs,keep_prob=1)\n",
    "\n"
   ]
  },
  {
   "cell_type": "code",
   "execution_count": 6,
   "metadata": {},
   "outputs": [],
   "source": [
    "x_,z,loss,neg_marginal_likelihood,KL_divergence=variational_autoencoder(\n",
    "    x,n_hidden1,n_hidden2,n_latent,keep_prob=keep_prob)\n",
    "optimizer=tf.train.AdadeltaOptimizer(learning_rate=lr).minimize(loss)"
   ]
  },
  {
   "cell_type": "code",
   "execution_count": 8,
   "metadata": {},
   "outputs": [
    {
     "name": "stdout",
     "output_type": "stream",
     "text": [
      "Epoch: 0: L_tot 665.03 L_likelihood 647.21 L_divergence 17.82\n",
      "Epoch: 1: L_tot 618.80 L_likelihood 606.23 L_divergence 12.58\n",
      "Epoch: 2: L_tot 568.99 L_likelihood 560.57 L_divergence 8.42\n",
      "Epoch: 3: L_tot 523.84 L_likelihood 518.22 L_divergence 5.63\n",
      "Epoch: 4: L_tot 480.89 L_likelihood 476.75 L_divergence 4.14\n",
      "Epoch: 5: L_tot 440.40 L_likelihood 437.01 L_divergence 3.39\n",
      "Epoch: 6: L_tot 401.94 L_likelihood 398.86 L_divergence 3.09\n",
      "Epoch: 7: L_tot 376.37 L_likelihood 373.27 L_divergence 3.10\n",
      "Epoch: 8: L_tot 342.77 L_likelihood 339.79 L_divergence 2.98\n",
      "Epoch: 9: L_tot 314.94 L_likelihood 312.15 L_divergence 2.79\n",
      "Epoch: 10: L_tot 300.23 L_likelihood 297.45 L_divergence 2.78\n",
      "Epoch: 11: L_tot 276.58 L_likelihood 274.07 L_divergence 2.51\n",
      "Epoch: 12: L_tot 271.19 L_likelihood 268.63 L_divergence 2.56\n",
      "Epoch: 13: L_tot 263.32 L_likelihood 260.82 L_divergence 2.50\n",
      "Epoch: 14: L_tot 246.17 L_likelihood 243.86 L_divergence 2.31\n"
     ]
    },
    {
     "ename": "NameError",
     "evalue": "name 'avg_cost_list' is not defined",
     "output_type": "error",
     "traceback": [
      "\u001b[1;31m---------------------------------------------------------------------------\u001b[0m",
      "\u001b[1;31mNameError\u001b[0m                                 Traceback (most recent call last)",
      "\u001b[1;32m<ipython-input-8-fff95ba9254c>\u001b[0m in \u001b[0;36m<module>\u001b[1;34m()\u001b[0m\n\u001b[0;32m     15\u001b[0m             epoch,tot_loss,loss_likelihood,loss_divergence))\n\u001b[0;32m     16\u001b[0m \u001b[1;33m\u001b[0m\u001b[0m\n\u001b[1;32m---> 17\u001b[1;33m     \u001b[0mplt\u001b[0m\u001b[1;33m.\u001b[0m\u001b[0mplot\u001b[0m\u001b[1;33m(\u001b[0m\u001b[0mrange\u001b[0m\u001b[1;33m(\u001b[0m\u001b[0mtraining_epochs\u001b[0m\u001b[1;33m)\u001b[0m\u001b[1;33m,\u001b[0m\u001b[0mavg_cost_list\u001b[0m\u001b[1;33m)\u001b[0m\u001b[1;33m\u001b[0m\u001b[0m\n\u001b[0m\u001b[0;32m     18\u001b[0m \u001b[1;33m\u001b[0m\u001b[0m\n\u001b[0;32m     19\u001b[0m     \u001b[0mcorrect_prediction\u001b[0m\u001b[1;33m=\u001b[0m\u001b[0mtf\u001b[0m\u001b[1;33m.\u001b[0m\u001b[0mequal\u001b[0m\u001b[1;33m(\u001b[0m\u001b[0mtf\u001b[0m\u001b[1;33m.\u001b[0m\u001b[0margmax\u001b[0m\u001b[1;33m(\u001b[0m\u001b[0ma3\u001b[0m\u001b[1;33m,\u001b[0m\u001b[1;36m1\u001b[0m\u001b[1;33m)\u001b[0m\u001b[1;33m,\u001b[0m\u001b[0mtf\u001b[0m\u001b[1;33m.\u001b[0m\u001b[0margmax\u001b[0m\u001b[1;33m(\u001b[0m\u001b[0my_\u001b[0m\u001b[1;33m,\u001b[0m\u001b[1;36m1\u001b[0m\u001b[1;33m)\u001b[0m\u001b[1;33m)\u001b[0m\u001b[1;33m\u001b[0m\u001b[0m\n",
      "\u001b[1;31mNameError\u001b[0m: name 'avg_cost_list' is not defined"
     ]
    }
   ],
   "source": [
    "with tf.Session() as sess:\n",
    "    init=tf.global_variables_initializer()\n",
    "    sess.run(init,feed_dict={keep_prob:0.9})\n",
    "\n",
    "    for epoch in range(training_epochs):\n",
    "        avg_cost=0.\n",
    "        for step in range(total_batch):\n",
    "            batch_xs,batch_ys=mnist.train.next_batch(batch_size)\n",
    "            \n",
    "            _,tot_loss,loss_likelihood,loss_divergence=sess.run(\n",
    "                (optimizer,loss,neg_marginal_likelihood,KL_divergence),\n",
    "            feed_dict={x:batch_xs,keep_prob:0.9})\n",
    "            \n",
    "        print(\"Epoch: %d: L_tot %03.2f L_likelihood %03.2f L_divergence %03.2f\" % (\n",
    "            epoch,tot_loss,loss_likelihood,loss_divergence))\n"
   ]
  },
  {
   "cell_type": "code",
   "execution_count": 10,
   "metadata": {},
   "outputs": [
    {
     "ename": "RuntimeError",
     "evalue": "Attempted to use a closed Session.",
     "output_type": "error",
     "traceback": [
      "\u001b[1;31m---------------------------------------------------------------------------\u001b[0m",
      "\u001b[1;31mRuntimeError\u001b[0m                              Traceback (most recent call last)",
      "\u001b[1;32m<ipython-input-10-839f635f0223>\u001b[0m in \u001b[0;36m<module>\u001b[1;34m()\u001b[0m\n\u001b[1;32m----> 1\u001b[1;33m \u001b[0mprint\u001b[0m\u001b[1;33m(\u001b[0m\u001b[0msess\u001b[0m\u001b[1;33m.\u001b[0m\u001b[0mrun\u001b[0m\u001b[1;33m(\u001b[0m\u001b[0mloss\u001b[0m\u001b[1;33m,\u001b[0m\u001b[0mfeed_dict\u001b[0m\u001b[1;33m=\u001b[0m\u001b[1;33m{\u001b[0m\u001b[0mx\u001b[0m\u001b[1;33m:\u001b[0m\u001b[0mbatch_xs\u001b[0m\u001b[1;33m,\u001b[0m\u001b[0mkeep_prob\u001b[0m\u001b[1;33m:\u001b[0m\u001b[1;36m0.9\u001b[0m\u001b[1;33m}\u001b[0m\u001b[1;33m)\u001b[0m\u001b[1;33m)\u001b[0m\u001b[1;33m\u001b[0m\u001b[0m\n\u001b[0m",
      "\u001b[1;32mC:\\ProgramData\\Anaconda3\\envs\\tensorflow\\lib\\site-packages\\tensorflow\\python\\client\\session.py\u001b[0m in \u001b[0;36mrun\u001b[1;34m(self, fetches, feed_dict, options, run_metadata)\u001b[0m\n\u001b[0;32m    885\u001b[0m     \u001b[1;32mtry\u001b[0m\u001b[1;33m:\u001b[0m\u001b[1;33m\u001b[0m\u001b[0m\n\u001b[0;32m    886\u001b[0m       result = self._run(None, fetches, feed_dict, options_ptr,\n\u001b[1;32m--> 887\u001b[1;33m                          run_metadata_ptr)\n\u001b[0m\u001b[0;32m    888\u001b[0m       \u001b[1;32mif\u001b[0m \u001b[0mrun_metadata\u001b[0m\u001b[1;33m:\u001b[0m\u001b[1;33m\u001b[0m\u001b[0m\n\u001b[0;32m    889\u001b[0m         \u001b[0mproto_data\u001b[0m \u001b[1;33m=\u001b[0m \u001b[0mtf_session\u001b[0m\u001b[1;33m.\u001b[0m\u001b[0mTF_GetBuffer\u001b[0m\u001b[1;33m(\u001b[0m\u001b[0mrun_metadata_ptr\u001b[0m\u001b[1;33m)\u001b[0m\u001b[1;33m\u001b[0m\u001b[0m\n",
      "\u001b[1;32mC:\\ProgramData\\Anaconda3\\envs\\tensorflow\\lib\\site-packages\\tensorflow\\python\\client\\session.py\u001b[0m in \u001b[0;36m_run\u001b[1;34m(self, handle, fetches, feed_dict, options, run_metadata)\u001b[0m\n\u001b[0;32m   1031\u001b[0m     \u001b[1;31m# Check session.\u001b[0m\u001b[1;33m\u001b[0m\u001b[1;33m\u001b[0m\u001b[0m\n\u001b[0;32m   1032\u001b[0m     \u001b[1;32mif\u001b[0m \u001b[0mself\u001b[0m\u001b[1;33m.\u001b[0m\u001b[0m_closed\u001b[0m\u001b[1;33m:\u001b[0m\u001b[1;33m\u001b[0m\u001b[0m\n\u001b[1;32m-> 1033\u001b[1;33m       \u001b[1;32mraise\u001b[0m \u001b[0mRuntimeError\u001b[0m\u001b[1;33m(\u001b[0m\u001b[1;34m'Attempted to use a closed Session.'\u001b[0m\u001b[1;33m)\u001b[0m\u001b[1;33m\u001b[0m\u001b[0m\n\u001b[0m\u001b[0;32m   1034\u001b[0m     \u001b[1;32mif\u001b[0m \u001b[0mself\u001b[0m\u001b[1;33m.\u001b[0m\u001b[0mgraph\u001b[0m\u001b[1;33m.\u001b[0m\u001b[0mversion\u001b[0m \u001b[1;33m==\u001b[0m \u001b[1;36m0\u001b[0m\u001b[1;33m:\u001b[0m\u001b[1;33m\u001b[0m\u001b[0m\n\u001b[0;32m   1035\u001b[0m       raise RuntimeError('The Session graph is empty.  Add operations to the '\n",
      "\u001b[1;31mRuntimeError\u001b[0m: Attempted to use a closed Session."
     ]
    }
   ],
   "source": []
  },
  {
   "cell_type": "code",
   "execution_count": null,
   "metadata": {},
   "outputs": [],
   "source": []
  }
 ],
 "metadata": {
  "kernelspec": {
   "display_name": "Python 3",
   "language": "python",
   "name": "python3"
  },
  "language_info": {
   "codemirror_mode": {
    "name": "ipython",
    "version": 3
   },
   "file_extension": ".py",
   "mimetype": "text/x-python",
   "name": "python",
   "nbconvert_exporter": "python",
   "pygments_lexer": "ipython3",
   "version": "3.5.6"
  }
 },
 "nbformat": 4,
 "nbformat_minor": 2
}
