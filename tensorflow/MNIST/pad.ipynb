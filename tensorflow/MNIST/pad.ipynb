{
 "cells": [
  {
   "cell_type": "code",
   "execution_count": 1,
   "metadata": {},
   "outputs": [],
   "source": [
    "import numpy\n",
    "import tensorflow as tf\n",
    "import matplotlib.pyplot as plt\n",
    "from tensorflow.examples.tutorials.mnist import input_data"
   ]
  },
  {
   "cell_type": "code",
   "execution_count": 9,
   "metadata": {},
   "outputs": [
    {
     "name": "stdout",
     "output_type": "stream",
     "text": [
      "[<tf.Variable 'W:0' shape=(10, 10) dtype=float32_ref>, <tf.Variable 'b:0' shape=(10, 10) dtype=float32_ref>, <tf.Variable 'ex/W:0' shape=(10, 20) dtype=float32_ref>, <tf.Variable 'ex/b:0' shape=(10, 20) dtype=float32_ref>]\n",
      "[<tf.Variable 'W:0' shape=(10, 10) dtype=float32_ref>, <tf.Variable 'b:0' shape=(10, 10) dtype=float32_ref>, <tf.Variable 'ex/W:0' shape=(10, 20) dtype=float32_ref>, <tf.Variable 'ex/b:0' shape=(10, 20) dtype=float32_ref>, <tf.Variable 'ex2/W:0' shape=(10, 30) dtype=float32_ref>, <tf.Variable 'ex2/b:0' shape=(10, 30) dtype=float32_ref>]\n",
      "[<tf.Variable 'W:0' shape=(10, 10) dtype=float32_ref>, <tf.Variable 'b:0' shape=(10, 10) dtype=float32_ref>, <tf.Variable 'ex/W:0' shape=(10, 20) dtype=float32_ref>, <tf.Variable 'ex/b:0' shape=(10, 20) dtype=float32_ref>, <tf.Variable 'ex2/W:0' shape=(10, 30) dtype=float32_ref>, <tf.Variable 'ex2/b:0' shape=(10, 30) dtype=float32_ref>, <tf.Variable 'ex_1/W:0' shape=(10, 40) dtype=float32_ref>, <tf.Variable 'ex_1/b:0' shape=(10, 40) dtype=float32_ref>, <tf.Variable 'ex2_1/W:0' shape=(10, 50) dtype=float32_ref>, <tf.Variable 'ex2_1/b:0' shape=(10, 50) dtype=float32_ref>]\n"
     ]
    }
   ],
   "source": [
    "tf.reset_default_graph()\n",
    "W=tf.Variable(tf.random_normal([10,10]),name='W')\n",
    "b=tf.Variable(tf.random_normal([10,10]),name='b')\n",
    "with tf.variable_scope(\"ex\",reuse=True):\n",
    "    W=tf.Variable(tf.random_normal([10,20]),name='W')\n",
    "    b=tf.Variable(tf.random_normal([10,20]),name='b')\n",
    "print(tf.trainable_variables())\n",
    "with tf.variable_scope(\"ex2\",reuse=True):\n",
    "    W=tf.Variable(tf.random_normal([10,30]),name='W')\n",
    "    b=tf.Variable(tf.random_normal([10,30]),name='b')\n",
    "print(tf.trainable_variables())\n",
    "with tf.variable_scope(\"ex\",reuse=True):\n",
    "    W=tf.Variable(tf.random_normal([10,40]),name='W')\n",
    "    b=tf.Variable(tf.random_normal([10,40]),name='b')\n",
    "with tf.variable_scope(\"ex2\",reuse=False):\n",
    "    W=tf.Variable(tf.random_normal([10,50]),name='W')\n",
    "    b=tf.Variable(tf.random_normal([10,50]),name='b')\n",
    "print(tf.trainable_variables())"
   ]
  },
  {
   "cell_type": "code",
   "execution_count": null,
   "metadata": {},
   "outputs": [],
   "source": []
  }
 ],
 "metadata": {
  "kernelspec": {
   "display_name": "Python 3",
   "language": "python",
   "name": "python3"
  },
  "language_info": {
   "codemirror_mode": {
    "name": "ipython",
    "version": 3
   },
   "file_extension": ".py",
   "mimetype": "text/x-python",
   "name": "python",
   "nbconvert_exporter": "python",
   "pygments_lexer": "ipython3",
   "version": "3.5.6"
  }
 },
 "nbformat": 4,
 "nbformat_minor": 2
}
